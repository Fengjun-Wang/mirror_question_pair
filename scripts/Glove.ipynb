{
 "cells": [
  {
   "cell_type": "code",
   "execution_count": 16,
   "metadata": {
    "collapsed": true
   },
   "outputs": [],
   "source": [
    "import itertools\n",
    "from glove import Corpus, Glove\n",
    "%matplotlib inline\n",
    "import numpy as np # linear algebra\n",
    "import pandas as pd # data processing, CSV file I/O (e.g. pd.read_csv)\n",
    "import matplotlib.pyplot as plt\n",
    "import seaborn as sns\n",
    "color = sns.color_palette()\n",
    "from sklearn.metrics import pairwise\n",
    "import sys\n",
    "import os"
   ]
  },
  {
   "cell_type": "code",
   "execution_count": 21,
   "metadata": {
    "collapsed": false
   },
   "outputs": [
    {
     "name": "stdout",
     "output_type": "stream",
     "text": [
      "../input/matchzoo/train_words/word_dict.txt\n"
     ]
    }
   ],
   "source": [
    "word_emb_path = '../input/word_embed.txt'\n",
    "mode='train'\n",
    "words_or_chars='words'\n",
    "basedir = '../input/matchzoo/{0}_{1}'.format(mode, words_or_chars)\n",
    "dict_path = os.path.join(basedir, 'word_dict.txt')\n",
    "print dict_path\n",
    "dict_file = pd.read_csv(dict_path, delim_whitespace=True, index_col=0, header=None)"
   ]
  },
  {
   "cell_type": "code",
   "execution_count": 22,
   "metadata": {
    "collapsed": false
   },
   "outputs": [
    {
     "data": {
      "text/plain": [
       "Int64Index([1], dtype='int64')"
      ]
     },
     "execution_count": 22,
     "metadata": {},
     "output_type": "execute_result"
    }
   ],
   "source": [
    "dict_file.columns"
   ]
  },
  {
   "cell_type": "code",
   "execution_count": 23,
   "metadata": {
    "collapsed": false,
    "scrolled": true
   },
   "outputs": [
    {
     "data": {
      "text/html": [
       "<div>\n",
       "<style scoped>\n",
       "    .dataframe tbody tr th:only-of-type {\n",
       "        vertical-align: middle;\n",
       "    }\n",
       "\n",
       "    .dataframe tbody tr th {\n",
       "        vertical-align: top;\n",
       "    }\n",
       "\n",
       "    .dataframe thead th {\n",
       "        text-align: right;\n",
       "    }\n",
       "</style>\n",
       "<table border=\"1\" class=\"dataframe\">\n",
       "  <thead>\n",
       "    <tr style=\"text-align: right;\">\n",
       "      <th></th>\n",
       "      <th>1</th>\n",
       "    </tr>\n",
       "    <tr>\n",
       "      <th>0</th>\n",
       "      <th></th>\n",
       "    </tr>\n",
       "  </thead>\n",
       "  <tbody>\n",
       "    <tr>\n",
       "      <th>w07925</th>\n",
       "      <td>5319</td>\n",
       "    </tr>\n",
       "    <tr>\n",
       "      <th>w07924</th>\n",
       "      <td>228</td>\n",
       "    </tr>\n",
       "    <tr>\n",
       "      <th>w07927</th>\n",
       "      <td>4228</td>\n",
       "    </tr>\n",
       "    <tr>\n",
       "      <th>w07921</th>\n",
       "      <td>2961</td>\n",
       "    </tr>\n",
       "    <tr>\n",
       "      <th>w01009</th>\n",
       "      <td>4973</td>\n",
       "    </tr>\n",
       "  </tbody>\n",
       "</table>\n",
       "</div>"
      ],
      "text/plain": [
       "           1\n",
       "0           \n",
       "w07925  5319\n",
       "w07924   228\n",
       "w07927  4228\n",
       "w07921  2961\n",
       "w01009  4973"
      ]
     },
     "execution_count": 23,
     "metadata": {},
     "output_type": "execute_result"
    }
   ],
   "source": [
    "dict_file.head(5)"
   ]
  },
  {
   "cell_type": "code",
   "execution_count": 29,
   "metadata": {
    "collapsed": true
   },
   "outputs": [],
   "source": [
    "output_df = pd.merge(dict_file, emb_file, left_index=True, right_index=True)"
   ]
  },
  {
   "cell_type": "code",
   "execution_count": 30,
   "metadata": {
    "collapsed": false,
    "scrolled": true
   },
   "outputs": [
    {
     "name": "stdout",
     "output_type": "stream",
     "text": [
      "Index([u'1_x', u'1_y',      2,      3,      4,      5,      6,      7,      8,\n",
      "            9,\n",
      "       ...\n",
      "          291,    292,    293,    294,    295,    296,    297,    298,    299,\n",
      "          300],\n",
      "      dtype='object', length=301)\n"
     ]
    },
    {
     "data": {
      "text/html": [
       "<div>\n",
       "<style scoped>\n",
       "    .dataframe tbody tr th:only-of-type {\n",
       "        vertical-align: middle;\n",
       "    }\n",
       "\n",
       "    .dataframe tbody tr th {\n",
       "        vertical-align: top;\n",
       "    }\n",
       "\n",
       "    .dataframe thead th {\n",
       "        text-align: right;\n",
       "    }\n",
       "</style>\n",
       "<table border=\"1\" class=\"dataframe\">\n",
       "  <thead>\n",
       "    <tr style=\"text-align: right;\">\n",
       "      <th></th>\n",
       "      <th>1_x</th>\n",
       "      <th>1_y</th>\n",
       "      <th>2</th>\n",
       "      <th>3</th>\n",
       "      <th>4</th>\n",
       "      <th>5</th>\n",
       "      <th>6</th>\n",
       "      <th>7</th>\n",
       "      <th>8</th>\n",
       "      <th>9</th>\n",
       "      <th>...</th>\n",
       "      <th>291</th>\n",
       "      <th>292</th>\n",
       "      <th>293</th>\n",
       "      <th>294</th>\n",
       "      <th>295</th>\n",
       "      <th>296</th>\n",
       "      <th>297</th>\n",
       "      <th>298</th>\n",
       "      <th>299</th>\n",
       "      <th>300</th>\n",
       "    </tr>\n",
       "    <tr>\n",
       "      <th>0</th>\n",
       "      <th></th>\n",
       "      <th></th>\n",
       "      <th></th>\n",
       "      <th></th>\n",
       "      <th></th>\n",
       "      <th></th>\n",
       "      <th></th>\n",
       "      <th></th>\n",
       "      <th></th>\n",
       "      <th></th>\n",
       "      <th></th>\n",
       "      <th></th>\n",
       "      <th></th>\n",
       "      <th></th>\n",
       "      <th></th>\n",
       "      <th></th>\n",
       "      <th></th>\n",
       "      <th></th>\n",
       "      <th></th>\n",
       "      <th></th>\n",
       "      <th></th>\n",
       "    </tr>\n",
       "  </thead>\n",
       "  <tbody>\n",
       "    <tr>\n",
       "      <th>w07925</th>\n",
       "      <td>5319</td>\n",
       "      <td>0.337408</td>\n",
       "      <td>1.637324</td>\n",
       "      <td>5.003502</td>\n",
       "      <td>2.114987</td>\n",
       "      <td>1.809302</td>\n",
       "      <td>-1.117124</td>\n",
       "      <td>-2.201148</td>\n",
       "      <td>0.725935</td>\n",
       "      <td>1.034899</td>\n",
       "      <td>...</td>\n",
       "      <td>0.819207</td>\n",
       "      <td>2.841174</td>\n",
       "      <td>-0.413221</td>\n",
       "      <td>1.005031</td>\n",
       "      <td>1.078613</td>\n",
       "      <td>2.410514</td>\n",
       "      <td>1.877248</td>\n",
       "      <td>0.108048</td>\n",
       "      <td>3.250754</td>\n",
       "      <td>0.408706</td>\n",
       "    </tr>\n",
       "    <tr>\n",
       "      <th>w07924</th>\n",
       "      <td>228</td>\n",
       "      <td>0.297444</td>\n",
       "      <td>3.439595</td>\n",
       "      <td>-0.496059</td>\n",
       "      <td>-2.135199</td>\n",
       "      <td>2.257702</td>\n",
       "      <td>-0.522180</td>\n",
       "      <td>2.149263</td>\n",
       "      <td>-0.481590</td>\n",
       "      <td>1.971181</td>\n",
       "      <td>...</td>\n",
       "      <td>-0.851605</td>\n",
       "      <td>-2.885440</td>\n",
       "      <td>2.270951</td>\n",
       "      <td>-1.468072</td>\n",
       "      <td>-1.263602</td>\n",
       "      <td>-1.271442</td>\n",
       "      <td>-1.332696</td>\n",
       "      <td>-0.779382</td>\n",
       "      <td>1.975911</td>\n",
       "      <td>1.164388</td>\n",
       "    </tr>\n",
       "    <tr>\n",
       "      <th>w07927</th>\n",
       "      <td>4228</td>\n",
       "      <td>1.578576</td>\n",
       "      <td>2.228025</td>\n",
       "      <td>-2.985523</td>\n",
       "      <td>2.395647</td>\n",
       "      <td>0.399040</td>\n",
       "      <td>2.294567</td>\n",
       "      <td>-0.215682</td>\n",
       "      <td>-1.113377</td>\n",
       "      <td>-0.429256</td>\n",
       "      <td>...</td>\n",
       "      <td>-0.378681</td>\n",
       "      <td>-0.500722</td>\n",
       "      <td>-0.539274</td>\n",
       "      <td>1.985564</td>\n",
       "      <td>-1.280645</td>\n",
       "      <td>-4.312600</td>\n",
       "      <td>0.009938</td>\n",
       "      <td>4.830630</td>\n",
       "      <td>1.061763</td>\n",
       "      <td>0.457292</td>\n",
       "    </tr>\n",
       "    <tr>\n",
       "      <th>w07921</th>\n",
       "      <td>2961</td>\n",
       "      <td>-0.078838</td>\n",
       "      <td>1.050644</td>\n",
       "      <td>0.014401</td>\n",
       "      <td>-1.912174</td>\n",
       "      <td>-2.859307</td>\n",
       "      <td>1.374636</td>\n",
       "      <td>-0.880387</td>\n",
       "      <td>0.949333</td>\n",
       "      <td>2.200002</td>\n",
       "      <td>...</td>\n",
       "      <td>-0.438061</td>\n",
       "      <td>-5.881788</td>\n",
       "      <td>-1.255205</td>\n",
       "      <td>3.911604</td>\n",
       "      <td>-4.055702</td>\n",
       "      <td>-2.282016</td>\n",
       "      <td>-1.357088</td>\n",
       "      <td>-0.944110</td>\n",
       "      <td>-1.619916</td>\n",
       "      <td>-1.968190</td>\n",
       "    </tr>\n",
       "    <tr>\n",
       "      <th>w01009</th>\n",
       "      <td>4973</td>\n",
       "      <td>2.833256</td>\n",
       "      <td>1.066445</td>\n",
       "      <td>-0.702290</td>\n",
       "      <td>2.739426</td>\n",
       "      <td>-0.623788</td>\n",
       "      <td>-1.739169</td>\n",
       "      <td>0.932648</td>\n",
       "      <td>-0.401796</td>\n",
       "      <td>-0.259936</td>\n",
       "      <td>...</td>\n",
       "      <td>1.487692</td>\n",
       "      <td>-0.918714</td>\n",
       "      <td>0.019387</td>\n",
       "      <td>-2.392626</td>\n",
       "      <td>-1.461038</td>\n",
       "      <td>-1.792063</td>\n",
       "      <td>0.847552</td>\n",
       "      <td>-0.234651</td>\n",
       "      <td>-2.888941</td>\n",
       "      <td>0.980167</td>\n",
       "    </tr>\n",
       "    <tr>\n",
       "      <th>w07923</th>\n",
       "      <td>7607</td>\n",
       "      <td>1.423942</td>\n",
       "      <td>-1.074208</td>\n",
       "      <td>1.856343</td>\n",
       "      <td>-1.210298</td>\n",
       "      <td>2.176494</td>\n",
       "      <td>2.031209</td>\n",
       "      <td>1.175529</td>\n",
       "      <td>0.789271</td>\n",
       "      <td>1.393209</td>\n",
       "      <td>...</td>\n",
       "      <td>-1.776335</td>\n",
       "      <td>-0.950600</td>\n",
       "      <td>-3.606555</td>\n",
       "      <td>-0.077483</td>\n",
       "      <td>0.156324</td>\n",
       "      <td>0.047637</td>\n",
       "      <td>-0.413420</td>\n",
       "      <td>-0.041091</td>\n",
       "      <td>1.264588</td>\n",
       "      <td>0.077727</td>\n",
       "    </tr>\n",
       "    <tr>\n",
       "      <th>w00536</th>\n",
       "      <td>3323</td>\n",
       "      <td>-0.012108</td>\n",
       "      <td>-0.863358</td>\n",
       "      <td>1.045496</td>\n",
       "      <td>0.057056</td>\n",
       "      <td>-2.984959</td>\n",
       "      <td>2.271390</td>\n",
       "      <td>3.430521</td>\n",
       "      <td>-0.261185</td>\n",
       "      <td>1.342570</td>\n",
       "      <td>...</td>\n",
       "      <td>0.379005</td>\n",
       "      <td>0.666432</td>\n",
       "      <td>0.301239</td>\n",
       "      <td>3.011039</td>\n",
       "      <td>2.538274</td>\n",
       "      <td>1.905972</td>\n",
       "      <td>1.104939</td>\n",
       "      <td>0.735489</td>\n",
       "      <td>-0.287514</td>\n",
       "      <td>0.936727</td>\n",
       "    </tr>\n",
       "    <tr>\n",
       "      <th>w01557</th>\n",
       "      <td>3269</td>\n",
       "      <td>0.844068</td>\n",
       "      <td>-1.318513</td>\n",
       "      <td>4.000831</td>\n",
       "      <td>-0.242342</td>\n",
       "      <td>2.146679</td>\n",
       "      <td>-2.470248</td>\n",
       "      <td>0.762656</td>\n",
       "      <td>0.158667</td>\n",
       "      <td>-0.063694</td>\n",
       "      <td>...</td>\n",
       "      <td>-0.091065</td>\n",
       "      <td>3.365972</td>\n",
       "      <td>0.308263</td>\n",
       "      <td>-0.413158</td>\n",
       "      <td>-2.083415</td>\n",
       "      <td>2.695503</td>\n",
       "      <td>-2.286354</td>\n",
       "      <td>-1.280717</td>\n",
       "      <td>-0.249813</td>\n",
       "      <td>-1.429562</td>\n",
       "    </tr>\n",
       "    <tr>\n",
       "      <th>w01554</th>\n",
       "      <td>669</td>\n",
       "      <td>-2.002944</td>\n",
       "      <td>-0.396768</td>\n",
       "      <td>0.112773</td>\n",
       "      <td>0.018438</td>\n",
       "      <td>0.252883</td>\n",
       "      <td>-2.114341</td>\n",
       "      <td>0.337817</td>\n",
       "      <td>0.371225</td>\n",
       "      <td>-0.195721</td>\n",
       "      <td>...</td>\n",
       "      <td>-1.076700</td>\n",
       "      <td>0.225358</td>\n",
       "      <td>-0.122192</td>\n",
       "      <td>-1.471047</td>\n",
       "      <td>-2.286664</td>\n",
       "      <td>0.309152</td>\n",
       "      <td>-5.333514</td>\n",
       "      <td>4.094782</td>\n",
       "      <td>0.606365</td>\n",
       "      <td>-3.895833</td>\n",
       "    </tr>\n",
       "    <tr>\n",
       "      <th>w01007</th>\n",
       "      <td>659</td>\n",
       "      <td>-0.997175</td>\n",
       "      <td>1.107639</td>\n",
       "      <td>-0.648248</td>\n",
       "      <td>0.018376</td>\n",
       "      <td>0.099806</td>\n",
       "      <td>-1.068908</td>\n",
       "      <td>0.098491</td>\n",
       "      <td>0.517242</td>\n",
       "      <td>0.597131</td>\n",
       "      <td>...</td>\n",
       "      <td>-1.098073</td>\n",
       "      <td>0.462625</td>\n",
       "      <td>-1.599730</td>\n",
       "      <td>-1.053321</td>\n",
       "      <td>0.320090</td>\n",
       "      <td>-0.513511</td>\n",
       "      <td>1.809764</td>\n",
       "      <td>0.434920</td>\n",
       "      <td>-1.632138</td>\n",
       "      <td>-0.620368</td>\n",
       "    </tr>\n",
       "  </tbody>\n",
       "</table>\n",
       "<p>10 rows × 301 columns</p>\n",
       "</div>"
      ],
      "text/plain": [
       "         1_x       1_y         2         3         4         5         6  \\\n",
       "0                                                                          \n",
       "w07925  5319  0.337408  1.637324  5.003502  2.114987  1.809302 -1.117124   \n",
       "w07924   228  0.297444  3.439595 -0.496059 -2.135199  2.257702 -0.522180   \n",
       "w07927  4228  1.578576  2.228025 -2.985523  2.395647  0.399040  2.294567   \n",
       "w07921  2961 -0.078838  1.050644  0.014401 -1.912174 -2.859307  1.374636   \n",
       "w01009  4973  2.833256  1.066445 -0.702290  2.739426 -0.623788 -1.739169   \n",
       "w07923  7607  1.423942 -1.074208  1.856343 -1.210298  2.176494  2.031209   \n",
       "w00536  3323 -0.012108 -0.863358  1.045496  0.057056 -2.984959  2.271390   \n",
       "w01557  3269  0.844068 -1.318513  4.000831 -0.242342  2.146679 -2.470248   \n",
       "w01554   669 -2.002944 -0.396768  0.112773  0.018438  0.252883 -2.114341   \n",
       "w01007   659 -0.997175  1.107639 -0.648248  0.018376  0.099806 -1.068908   \n",
       "\n",
       "               7         8         9    ...          291       292       293  \\\n",
       "0                                       ...                                    \n",
       "w07925 -2.201148  0.725935  1.034899    ...     0.819207  2.841174 -0.413221   \n",
       "w07924  2.149263 -0.481590  1.971181    ...    -0.851605 -2.885440  2.270951   \n",
       "w07927 -0.215682 -1.113377 -0.429256    ...    -0.378681 -0.500722 -0.539274   \n",
       "w07921 -0.880387  0.949333  2.200002    ...    -0.438061 -5.881788 -1.255205   \n",
       "w01009  0.932648 -0.401796 -0.259936    ...     1.487692 -0.918714  0.019387   \n",
       "w07923  1.175529  0.789271  1.393209    ...    -1.776335 -0.950600 -3.606555   \n",
       "w00536  3.430521 -0.261185  1.342570    ...     0.379005  0.666432  0.301239   \n",
       "w01557  0.762656  0.158667 -0.063694    ...    -0.091065  3.365972  0.308263   \n",
       "w01554  0.337817  0.371225 -0.195721    ...    -1.076700  0.225358 -0.122192   \n",
       "w01007  0.098491  0.517242  0.597131    ...    -1.098073  0.462625 -1.599730   \n",
       "\n",
       "             294       295       296       297       298       299       300  \n",
       "0                                                                             \n",
       "w07925  1.005031  1.078613  2.410514  1.877248  0.108048  3.250754  0.408706  \n",
       "w07924 -1.468072 -1.263602 -1.271442 -1.332696 -0.779382  1.975911  1.164388  \n",
       "w07927  1.985564 -1.280645 -4.312600  0.009938  4.830630  1.061763  0.457292  \n",
       "w07921  3.911604 -4.055702 -2.282016 -1.357088 -0.944110 -1.619916 -1.968190  \n",
       "w01009 -2.392626 -1.461038 -1.792063  0.847552 -0.234651 -2.888941  0.980167  \n",
       "w07923 -0.077483  0.156324  0.047637 -0.413420 -0.041091  1.264588  0.077727  \n",
       "w00536  3.011039  2.538274  1.905972  1.104939  0.735489 -0.287514  0.936727  \n",
       "w01557 -0.413158 -2.083415  2.695503 -2.286354 -1.280717 -0.249813 -1.429562  \n",
       "w01554 -1.471047 -2.286664  0.309152 -5.333514  4.094782  0.606365 -3.895833  \n",
       "w01007 -1.053321  0.320090 -0.513511  1.809764  0.434920 -1.632138 -0.620368  \n",
       "\n",
       "[10 rows x 301 columns]"
      ]
     },
     "execution_count": 30,
     "metadata": {},
     "output_type": "execute_result"
    }
   ],
   "source": [
    "print output_df.columns\n",
    "output_df.head(10)"
   ]
  },
  {
   "cell_type": "code",
   "execution_count": null,
   "metadata": {
    "collapsed": true
   },
   "outputs": [],
   "source": []
  },
  {
   "cell_type": "code",
   "execution_count": 10,
   "metadata": {
    "collapsed": false
   },
   "outputs": [],
   "source": [
    "emb_file = pd.read_csv(word_emb_path, delim_whitespace=True, index_col=0, header=None)"
   ]
  },
  {
   "cell_type": "code",
   "execution_count": 28,
   "metadata": {
    "collapsed": false
   },
   "outputs": [],
   "source": [
    "emb_file.index = emb_file.index.str.lower()"
   ]
  },
  {
   "cell_type": "code",
   "execution_count": 12,
   "metadata": {
    "collapsed": false
   },
   "outputs": [
    {
     "data": {
      "text/plain": [
       "Int64Index([  1,   2,   3,   4,   5,   6,   7,   8,   9,  10,\n",
       "            ...\n",
       "            291, 292, 293, 294, 295, 296, 297, 298, 299, 300],\n",
       "           dtype='int64', length=300)"
      ]
     },
     "execution_count": 12,
     "metadata": {},
     "output_type": "execute_result"
    }
   ],
   "source": [
    "emb_file.columns"
   ]
  },
  {
   "cell_type": "code",
   "execution_count": 34,
   "metadata": {
    "collapsed": false
   },
   "outputs": [
    {
     "data": {
      "text/plain": [
       "1      0.337408\n",
       "2      1.637324\n",
       "3      5.003502\n",
       "4      2.114987\n",
       "5      1.809302\n",
       "6     -1.117124\n",
       "7     -2.201148\n",
       "8      0.725935\n",
       "9      1.034899\n",
       "10     3.716963\n",
       "11     2.251254\n",
       "12     2.371510\n",
       "13     0.553233\n",
       "14     1.177737\n",
       "15     2.276501\n",
       "16    -0.078004\n",
       "17    -2.048589\n",
       "18     2.481900\n",
       "19    -0.819425\n",
       "20    -2.479829\n",
       "21    -2.422211\n",
       "22    -0.322003\n",
       "23     3.034526\n",
       "24    -1.359954\n",
       "25     0.875603\n",
       "26    -1.768350\n",
       "27    -0.656463\n",
       "28     0.456945\n",
       "29    -0.540034\n",
       "30     0.176444\n",
       "         ...   \n",
       "271   -1.061038\n",
       "272   -2.376387\n",
       "273    0.964693\n",
       "274   -1.286908\n",
       "275    2.810560\n",
       "276   -3.215982\n",
       "277   -0.049743\n",
       "278   -2.108621\n",
       "279    2.715909\n",
       "280    4.558345\n",
       "281   -0.535717\n",
       "282   -1.348353\n",
       "283    1.413845\n",
       "284   -0.982214\n",
       "285   -1.178108\n",
       "286   -2.047185\n",
       "287    0.298325\n",
       "288    0.034767\n",
       "289   -1.194652\n",
       "290    0.358551\n",
       "291    0.819207\n",
       "292    2.841174\n",
       "293   -0.413221\n",
       "294    1.005031\n",
       "295    1.078613\n",
       "296    2.410514\n",
       "297    1.877248\n",
       "298    0.108048\n",
       "299    3.250754\n",
       "300    0.408706\n",
       "Name: w07925, Length: 300, dtype: float64"
      ]
     },
     "execution_count": 34,
     "metadata": {},
     "output_type": "execute_result"
    }
   ],
   "source": [
    "emb_file.loc['w07925']"
   ]
  },
  {
   "cell_type": "code",
   "execution_count": 3,
   "metadata": {
    "collapsed": true
   },
   "outputs": [],
   "source": [
    "corpus = Corpus()\n",
    "question_path = '../input/question.csv'\n",
    "char_embed = \"../input/char_embed.txt\"\n",
    "word_embed = \"../input/word_embed.txt\""
   ]
  },
  {
   "cell_type": "code",
   "execution_count": 4,
   "metadata": {
    "collapsed": false
   },
   "outputs": [],
   "source": [
    "question_df = pd.read_csv(question_path)"
   ]
  },
  {
   "cell_type": "code",
   "execution_count": 26,
   "metadata": {
    "collapsed": false
   },
   "outputs": [
    {
     "data": {
      "text/html": [
       "<div>\n",
       "<style scoped>\n",
       "    .dataframe tbody tr th:only-of-type {\n",
       "        vertical-align: middle;\n",
       "    }\n",
       "\n",
       "    .dataframe tbody tr th {\n",
       "        vertical-align: top;\n",
       "    }\n",
       "\n",
       "    .dataframe thead th {\n",
       "        text-align: right;\n",
       "    }\n",
       "</style>\n",
       "<table border=\"1\" class=\"dataframe\">\n",
       "  <thead>\n",
       "    <tr style=\"text-align: right;\">\n",
       "      <th></th>\n",
       "      <th>qid</th>\n",
       "      <th>words</th>\n",
       "      <th>chars</th>\n",
       "    </tr>\n",
       "  </thead>\n",
       "  <tbody>\n",
       "    <tr>\n",
       "      <th>0</th>\n",
       "      <td>Q000000</td>\n",
       "      <td>W05733 W05284 W09158 W14968 W07863</td>\n",
       "      <td>L1128 L1861 L2218 L1796 L1055 L0847 L2927</td>\n",
       "    </tr>\n",
       "    <tr>\n",
       "      <th>1</th>\n",
       "      <td>Q000001</td>\n",
       "      <td>W17378 W17534 W03249 W01490 W18802</td>\n",
       "      <td>L2214 L1980 L0156 L1554 L2218 L1861 L3019 L010...</td>\n",
       "    </tr>\n",
       "    <tr>\n",
       "      <th>2</th>\n",
       "      <td>Q000002</td>\n",
       "      <td>W17378 W08158 W20171 W11246 W14759</td>\n",
       "      <td>L2214 L2350 L2568 L1969 L2168 L0694 L3012 L256...</td>\n",
       "    </tr>\n",
       "    <tr>\n",
       "      <th>3</th>\n",
       "      <td>Q000003</td>\n",
       "      <td>W11385 W14103 W02556 W13157 W09749</td>\n",
       "      <td>L0762 L2172 L1971 L2034 L2039 L2271 L1346 L223...</td>\n",
       "    </tr>\n",
       "    <tr>\n",
       "      <th>4</th>\n",
       "      <td>Q000004</td>\n",
       "      <td>W17508 W18238 W02952 W18103</td>\n",
       "      <td>L0018 L2321 L1346 L3019 L0104 L0902 L0354 L0362</td>\n",
       "    </tr>\n",
       "  </tbody>\n",
       "</table>\n",
       "</div>"
      ],
      "text/plain": [
       "       qid                               words  \\\n",
       "0  Q000000  W05733 W05284 W09158 W14968 W07863   \n",
       "1  Q000001  W17378 W17534 W03249 W01490 W18802   \n",
       "2  Q000002  W17378 W08158 W20171 W11246 W14759   \n",
       "3  Q000003  W11385 W14103 W02556 W13157 W09749   \n",
       "4  Q000004         W17508 W18238 W02952 W18103   \n",
       "\n",
       "                                               chars  \n",
       "0          L1128 L1861 L2218 L1796 L1055 L0847 L2927  \n",
       "1  L2214 L1980 L0156 L1554 L2218 L1861 L3019 L010...  \n",
       "2  L2214 L2350 L2568 L1969 L2168 L0694 L3012 L256...  \n",
       "3  L0762 L2172 L1971 L2034 L2039 L2271 L1346 L223...  \n",
       "4    L0018 L2321 L1346 L3019 L0104 L0902 L0354 L0362  "
      ]
     },
     "execution_count": 26,
     "metadata": {},
     "output_type": "execute_result"
    }
   ],
   "source": [
    "question_df.head(5)"
   ]
  },
  {
   "cell_type": "code",
   "execution_count": 6,
   "metadata": {
    "collapsed": false
   },
   "outputs": [
    {
     "data": {
      "text/plain": [
       "728428"
      ]
     },
     "execution_count": 6,
     "metadata": {},
     "output_type": "execute_result"
    }
   ],
   "source": [
    "question_df.shape[0]"
   ]
  },
  {
   "cell_type": "code",
   "execution_count": 27,
   "metadata": {
    "collapsed": true
   },
   "outputs": [],
   "source": [
    "# sentences = list(question_df)"
   ]
  },
  {
   "cell_type": "code",
   "execution_count": 89,
   "metadata": {
    "collapsed": false
   },
   "outputs": [],
   "source": [
    "def read_corpus(words_or_chars):\n",
    "\n",
    "    delchars = [chr(c) for c in range(256)]\n",
    "    delchars = [x for x in delchars if not x.isalnum()]\n",
    "    delchars.remove(' ')\n",
    "    delchars = ''.join(delchars)\n",
    "    \n",
    "    datafile = question_df[words_or_chars]\n",
    "\n",
    "    for line in datafile:\n",
    "            yield line.translate(None, delchars).split(' ')"
   ]
  },
  {
   "cell_type": "code",
   "execution_count": 245,
   "metadata": {
    "collapsed": false
   },
   "outputs": [
    {
     "ename": "TypeError",
     "evalue": "'generator' object has no attribute '__getitem__'",
     "output_type": "error",
     "traceback": [
      "\u001b[0;31m---------------------------------------------------------------------------\u001b[0m",
      "\u001b[0;31mTypeError\u001b[0m                                 Traceback (most recent call last)",
      "\u001b[0;32m<ipython-input-245-e676ac0ffe04>\u001b[0m in \u001b[0;36m<module>\u001b[0;34m()\u001b[0m\n\u001b[1;32m      1\u001b[0m \u001b[0mtest_corpus\u001b[0m \u001b[0;34m=\u001b[0m \u001b[0mread_corpus\u001b[0m\u001b[0;34m(\u001b[0m\u001b[0;34m'words'\u001b[0m\u001b[0;34m)\u001b[0m\u001b[0;34m\u001b[0m\u001b[0m\n\u001b[0;32m----> 2\u001b[0;31m \u001b[0;32mfor\u001b[0m \u001b[0mi\u001b[0m \u001b[0;32min\u001b[0m \u001b[0mtest_corpus\u001b[0m\u001b[0;34m[\u001b[0m\u001b[0;34m:\u001b[0m\u001b[0;36m10\u001b[0m\u001b[0;34m]\u001b[0m\u001b[0;34m:\u001b[0m\u001b[0;34m\u001b[0m\u001b[0m\n\u001b[0m\u001b[1;32m      3\u001b[0m     \u001b[0;32mprint\u001b[0m \u001b[0mi\u001b[0m\u001b[0;34m\u001b[0m\u001b[0m\n",
      "\u001b[0;31mTypeError\u001b[0m: 'generator' object has no attribute '__getitem__'"
     ]
    }
   ],
   "source": [
    "test_corpus = read_corpus('words')\n",
    "for i in test_corpus[:10]:\n",
    "    print i"
   ]
  },
  {
   "cell_type": "code",
   "execution_count": 90,
   "metadata": {
    "collapsed": false
   },
   "outputs": [],
   "source": [
    "def train_glove(target_group, glove_para):\n",
    "    corpus_model = Corpus()\n",
    "    corpus_model.fit(read_corpus(words_or_chars=target_group), window=glove_para['window_size']) #avg word size is 6 for each sentence\n",
    "    corpus_model.save('corpus_model_{}.model'.format(target_group))\n",
    "    print target_group\n",
    "    print('Dict size: %s' % len(corpus_model.dictionary))\n",
    "    print('Collocations: %s' % corpus_model.matrix.nnz)\n",
    "    print('Training the GloVe model')\n",
    "\n",
    "    glove = Glove(no_components=glove_para['no_components'], learning_rate=glove_para['learning_rate'])\n",
    "    glove.fit(corpus_model.matrix, epochs=glove_para['no_epochs'],\n",
    "                  no_threads=glove_para['parallelism'], verbose=True)\n",
    "    glove.add_dictionary(corpus_model.dictionary)\n",
    "\n",
    "    glove.save('glove_{}.model'.format(target_group))"
   ]
  },
  {
   "cell_type": "code",
   "execution_count": 91,
   "metadata": {
    "collapsed": false
   },
   "outputs": [],
   "source": [
    "glove_para_word = {'window_size':4, 'no_components':300, 'learning_rate':0.05, 'no_epochs':2, 'parallelism':4}"
   ]
  },
  {
   "cell_type": "code",
   "execution_count": 92,
   "metadata": {
    "collapsed": false
   },
   "outputs": [
    {
     "name": "stdout",
     "output_type": "stream",
     "text": [
      "words\n",
      "Dict size: 20890\n",
      "Collocations: 621606\n",
      "Training the GloVe model\n",
      "Performing 2 training epochs with 4 threads\n",
      "Epoch 0\n",
      "Epoch 1\n"
     ]
    }
   ],
   "source": [
    "train_glove(target_group='words', glove_para=glove_para_word)"
   ]
  },
  {
   "cell_type": "code",
   "execution_count": 93,
   "metadata": {
    "collapsed": true
   },
   "outputs": [],
   "source": [
    "glove_ana = Glove.load('glove_words.model')"
   ]
  },
  {
   "cell_type": "code",
   "execution_count": 94,
   "metadata": {
    "collapsed": false,
    "scrolled": true
   },
   "outputs": [
    {
     "data": {
      "text/plain": [
       "array([[  1.84027907e-01,  -2.14398932e-01,  -2.27377927e-01, ...,\n",
       "          9.53003905e-02,  -8.31477740e-02,  -5.32879000e-02],\n",
       "       [  1.51182363e-01,  -1.79867566e-01,  -2.19118887e-01, ...,\n",
       "          9.47845985e-02,  -2.49266753e-02,  -4.33976716e-02],\n",
       "       [  1.27913274e-01,  -1.49388389e-01,  -1.87693582e-01, ...,\n",
       "          1.17320954e-01,  -6.52537049e-02,  -8.25651558e-02],\n",
       "       ..., \n",
       "       [  5.66549945e-04,   1.53818538e-03,  -5.32807971e-04, ...,\n",
       "          8.03831132e-04,   7.53789587e-04,   1.56021817e-03],\n",
       "       [ -2.53074329e-03,   2.40074984e-03,   2.29390886e-03, ...,\n",
       "         -1.86584595e-03,  -9.30238399e-04,   1.24397741e-03],\n",
       "       [ -1.82180187e-03,   2.02159750e-03,   2.82539914e-03, ...,\n",
       "         -1.39743396e-03,   1.84205700e-04,   2.06937313e-03]])"
      ]
     },
     "execution_count": 94,
     "metadata": {},
     "output_type": "execute_result"
    }
   ],
   "source": [
    "glove_ana.word_vectors"
   ]
  },
  {
   "cell_type": "code",
   "execution_count": 96,
   "metadata": {
    "collapsed": false
   },
   "outputs": [
    {
     "data": {
      "text/plain": [
       "8"
      ]
     },
     "execution_count": 96,
     "metadata": {},
     "output_type": "execute_result"
    }
   ],
   "source": [
    "glove_ana.dictionary['W01490']"
   ]
  },
  {
   "cell_type": "code",
   "execution_count": 125,
   "metadata": {
    "collapsed": false,
    "scrolled": false
   },
   "outputs": [
    {
     "data": {
      "text/plain": [
       "[('W10847', 0.99561416483143483),\n",
       " ('W04244', 0.99259027832717861),\n",
       " ('W04999', 0.98953934651160502),\n",
       " ('W03982', 0.98940693826906168),\n",
       " ('W08395', 0.98827300440828891),\n",
       " ('W01680', 0.98753596033642266),\n",
       " ('W08084', 0.98682693866383986),\n",
       " ('W15441', 0.98497056770214642),\n",
       " ('W03272', 0.98355782975228989)]"
      ]
     },
     "execution_count": 125,
     "metadata": {},
     "output_type": "execute_result"
    }
   ],
   "source": [
    "glove_ana.most_similar('W01490', number=10)"
   ]
  },
  {
   "cell_type": "code",
   "execution_count": 104,
   "metadata": {
    "collapsed": false
   },
   "outputs": [],
   "source": [
    "def load_word_embed(word_embed):\n",
    "        word_embed_df = pd.read_csv(word_embed, delim_whitespace=True, index_col=0, header=None)\n",
    "        cnt_column = word_embed_df.shape[1]\n",
    "        columns = map(lambda x:\"word2vec_w_\"+str(x),range(cnt_column))\n",
    "        word_embed_df.columns = columns\n",
    "        return word_embed_df"
   ]
  },
  {
   "cell_type": "code",
   "execution_count": 116,
   "metadata": {
    "collapsed": true
   },
   "outputs": [],
   "source": [
    "df_word_emb_load = load_word_embed(word_embed=word_embed)"
   ]
  },
  {
   "cell_type": "code",
   "execution_count": 226,
   "metadata": {
    "collapsed": false,
    "scrolled": true
   },
   "outputs": [
    {
     "data": {
      "text/html": [
       "<div>\n",
       "<style scoped>\n",
       "    .dataframe tbody tr th:only-of-type {\n",
       "        vertical-align: middle;\n",
       "    }\n",
       "\n",
       "    .dataframe tbody tr th {\n",
       "        vertical-align: top;\n",
       "    }\n",
       "\n",
       "    .dataframe thead th {\n",
       "        text-align: right;\n",
       "    }\n",
       "</style>\n",
       "<table border=\"1\" class=\"dataframe\">\n",
       "  <thead>\n",
       "    <tr style=\"text-align: right;\">\n",
       "      <th></th>\n",
       "      <th>word2vec_w_0</th>\n",
       "      <th>word2vec_w_1</th>\n",
       "      <th>word2vec_w_2</th>\n",
       "      <th>word2vec_w_3</th>\n",
       "      <th>word2vec_w_4</th>\n",
       "      <th>word2vec_w_5</th>\n",
       "      <th>word2vec_w_6</th>\n",
       "      <th>word2vec_w_7</th>\n",
       "      <th>word2vec_w_8</th>\n",
       "      <th>word2vec_w_9</th>\n",
       "      <th>...</th>\n",
       "      <th>word2vec_w_290</th>\n",
       "      <th>word2vec_w_291</th>\n",
       "      <th>word2vec_w_292</th>\n",
       "      <th>word2vec_w_293</th>\n",
       "      <th>word2vec_w_294</th>\n",
       "      <th>word2vec_w_295</th>\n",
       "      <th>word2vec_w_296</th>\n",
       "      <th>word2vec_w_297</th>\n",
       "      <th>word2vec_w_298</th>\n",
       "      <th>word2vec_w_299</th>\n",
       "    </tr>\n",
       "    <tr>\n",
       "      <th>0</th>\n",
       "      <th></th>\n",
       "      <th></th>\n",
       "      <th></th>\n",
       "      <th></th>\n",
       "      <th></th>\n",
       "      <th></th>\n",
       "      <th></th>\n",
       "      <th></th>\n",
       "      <th></th>\n",
       "      <th></th>\n",
       "      <th></th>\n",
       "      <th></th>\n",
       "      <th></th>\n",
       "      <th></th>\n",
       "      <th></th>\n",
       "      <th></th>\n",
       "      <th></th>\n",
       "      <th></th>\n",
       "      <th></th>\n",
       "      <th></th>\n",
       "      <th></th>\n",
       "    </tr>\n",
       "  </thead>\n",
       "  <tbody>\n",
       "    <tr>\n",
       "      <th>W00000</th>\n",
       "      <td>0.169316</td>\n",
       "      <td>-0.063898</td>\n",
       "      <td>0.115286</td>\n",
       "      <td>-0.077671</td>\n",
       "      <td>0.067184</td>\n",
       "      <td>0.019339</td>\n",
       "      <td>0.039596</td>\n",
       "      <td>-0.026229</td>\n",
       "      <td>-0.160078</td>\n",
       "      <td>-0.054329</td>\n",
       "      <td>...</td>\n",
       "      <td>0.061151</td>\n",
       "      <td>0.044519</td>\n",
       "      <td>-0.194827</td>\n",
       "      <td>0.122456</td>\n",
       "      <td>0.122785</td>\n",
       "      <td>-0.154153</td>\n",
       "      <td>-0.116578</td>\n",
       "      <td>-0.127786</td>\n",
       "      <td>0.110593</td>\n",
       "      <td>-0.171084</td>\n",
       "    </tr>\n",
       "    <tr>\n",
       "      <th>W00001</th>\n",
       "      <td>1.548212</td>\n",
       "      <td>-1.052776</td>\n",
       "      <td>1.192632</td>\n",
       "      <td>0.760363</td>\n",
       "      <td>1.594398</td>\n",
       "      <td>1.478917</td>\n",
       "      <td>-1.555349</td>\n",
       "      <td>0.401968</td>\n",
       "      <td>1.588316</td>\n",
       "      <td>2.460358</td>\n",
       "      <td>...</td>\n",
       "      <td>-1.898932</td>\n",
       "      <td>0.129864</td>\n",
       "      <td>-2.062325</td>\n",
       "      <td>0.068316</td>\n",
       "      <td>0.540282</td>\n",
       "      <td>-1.682620</td>\n",
       "      <td>-0.816290</td>\n",
       "      <td>-1.464458</td>\n",
       "      <td>-0.361792</td>\n",
       "      <td>0.943322</td>\n",
       "    </tr>\n",
       "    <tr>\n",
       "      <th>W00002</th>\n",
       "      <td>0.934084</td>\n",
       "      <td>0.106135</td>\n",
       "      <td>-0.391749</td>\n",
       "      <td>-0.209661</td>\n",
       "      <td>-0.558696</td>\n",
       "      <td>-0.942362</td>\n",
       "      <td>-0.274353</td>\n",
       "      <td>-0.232077</td>\n",
       "      <td>-1.024267</td>\n",
       "      <td>0.028783</td>\n",
       "      <td>...</td>\n",
       "      <td>-0.357264</td>\n",
       "      <td>-0.451105</td>\n",
       "      <td>-0.724659</td>\n",
       "      <td>0.525233</td>\n",
       "      <td>0.290343</td>\n",
       "      <td>0.357838</td>\n",
       "      <td>-0.042750</td>\n",
       "      <td>1.315442</td>\n",
       "      <td>-0.167775</td>\n",
       "      <td>-0.393665</td>\n",
       "    </tr>\n",
       "    <tr>\n",
       "      <th>W00003</th>\n",
       "      <td>-1.407966</td>\n",
       "      <td>0.034697</td>\n",
       "      <td>-2.333980</td>\n",
       "      <td>1.991531</td>\n",
       "      <td>-0.073803</td>\n",
       "      <td>-0.966899</td>\n",
       "      <td>-0.926573</td>\n",
       "      <td>-2.161519</td>\n",
       "      <td>0.961513</td>\n",
       "      <td>0.382619</td>\n",
       "      <td>...</td>\n",
       "      <td>0.547399</td>\n",
       "      <td>1.300992</td>\n",
       "      <td>1.893234</td>\n",
       "      <td>0.833304</td>\n",
       "      <td>-0.531153</td>\n",
       "      <td>1.249110</td>\n",
       "      <td>-0.959852</td>\n",
       "      <td>2.486905</td>\n",
       "      <td>0.925652</td>\n",
       "      <td>-0.676427</td>\n",
       "    </tr>\n",
       "    <tr>\n",
       "      <th>W00004</th>\n",
       "      <td>-0.213362</td>\n",
       "      <td>0.478031</td>\n",
       "      <td>0.033140</td>\n",
       "      <td>-0.096893</td>\n",
       "      <td>0.077964</td>\n",
       "      <td>-0.149793</td>\n",
       "      <td>-0.163284</td>\n",
       "      <td>0.470706</td>\n",
       "      <td>0.138422</td>\n",
       "      <td>0.237029</td>\n",
       "      <td>...</td>\n",
       "      <td>-0.185111</td>\n",
       "      <td>-0.171314</td>\n",
       "      <td>0.166296</td>\n",
       "      <td>0.291282</td>\n",
       "      <td>-0.202618</td>\n",
       "      <td>0.192025</td>\n",
       "      <td>-0.145072</td>\n",
       "      <td>0.151652</td>\n",
       "      <td>0.353130</td>\n",
       "      <td>-0.073013</td>\n",
       "    </tr>\n",
       "  </tbody>\n",
       "</table>\n",
       "<p>5 rows × 300 columns</p>\n",
       "</div>"
      ],
      "text/plain": [
       "        word2vec_w_0  word2vec_w_1  word2vec_w_2  word2vec_w_3  word2vec_w_4  \\\n",
       "0                                                                              \n",
       "W00000      0.169316     -0.063898      0.115286     -0.077671      0.067184   \n",
       "W00001      1.548212     -1.052776      1.192632      0.760363      1.594398   \n",
       "W00002      0.934084      0.106135     -0.391749     -0.209661     -0.558696   \n",
       "W00003     -1.407966      0.034697     -2.333980      1.991531     -0.073803   \n",
       "W00004     -0.213362      0.478031      0.033140     -0.096893      0.077964   \n",
       "\n",
       "        word2vec_w_5  word2vec_w_6  word2vec_w_7  word2vec_w_8  word2vec_w_9  \\\n",
       "0                                                                              \n",
       "W00000      0.019339      0.039596     -0.026229     -0.160078     -0.054329   \n",
       "W00001      1.478917     -1.555349      0.401968      1.588316      2.460358   \n",
       "W00002     -0.942362     -0.274353     -0.232077     -1.024267      0.028783   \n",
       "W00003     -0.966899     -0.926573     -2.161519      0.961513      0.382619   \n",
       "W00004     -0.149793     -0.163284      0.470706      0.138422      0.237029   \n",
       "\n",
       "             ...        word2vec_w_290  word2vec_w_291  word2vec_w_292  \\\n",
       "0            ...                                                         \n",
       "W00000       ...              0.061151        0.044519       -0.194827   \n",
       "W00001       ...             -1.898932        0.129864       -2.062325   \n",
       "W00002       ...             -0.357264       -0.451105       -0.724659   \n",
       "W00003       ...              0.547399        1.300992        1.893234   \n",
       "W00004       ...             -0.185111       -0.171314        0.166296   \n",
       "\n",
       "        word2vec_w_293  word2vec_w_294  word2vec_w_295  word2vec_w_296  \\\n",
       "0                                                                        \n",
       "W00000        0.122456        0.122785       -0.154153       -0.116578   \n",
       "W00001        0.068316        0.540282       -1.682620       -0.816290   \n",
       "W00002        0.525233        0.290343        0.357838       -0.042750   \n",
       "W00003        0.833304       -0.531153        1.249110       -0.959852   \n",
       "W00004        0.291282       -0.202618        0.192025       -0.145072   \n",
       "\n",
       "        word2vec_w_297  word2vec_w_298  word2vec_w_299  \n",
       "0                                                       \n",
       "W00000       -0.127786        0.110593       -0.171084  \n",
       "W00001       -1.464458       -0.361792        0.943322  \n",
       "W00002        1.315442       -0.167775       -0.393665  \n",
       "W00003        2.486905        0.925652       -0.676427  \n",
       "W00004        0.151652        0.353130       -0.073013  \n",
       "\n",
       "[5 rows x 300 columns]"
      ]
     },
     "execution_count": 226,
     "metadata": {},
     "output_type": "execute_result"
    }
   ],
   "source": [
    "df_word_emb_load.head(5)"
   ]
  },
  {
   "cell_type": "code",
   "execution_count": 233,
   "metadata": {
    "collapsed": false
   },
   "outputs": [
    {
     "data": {
      "text/html": [
       "<div>\n",
       "<style scoped>\n",
       "    .dataframe tbody tr th:only-of-type {\n",
       "        vertical-align: middle;\n",
       "    }\n",
       "\n",
       "    .dataframe tbody tr th {\n",
       "        vertical-align: top;\n",
       "    }\n",
       "\n",
       "    .dataframe thead th {\n",
       "        text-align: right;\n",
       "    }\n",
       "</style>\n",
       "<table border=\"1\" class=\"dataframe\">\n",
       "  <thead>\n",
       "    <tr style=\"text-align: right;\">\n",
       "      <th></th>\n",
       "      <th>word2vec_w_0</th>\n",
       "      <th>word2vec_w_1</th>\n",
       "      <th>word2vec_w_2</th>\n",
       "      <th>word2vec_w_3</th>\n",
       "      <th>word2vec_w_4</th>\n",
       "      <th>word2vec_w_5</th>\n",
       "      <th>word2vec_w_6</th>\n",
       "      <th>word2vec_w_7</th>\n",
       "      <th>word2vec_w_8</th>\n",
       "      <th>word2vec_w_9</th>\n",
       "      <th>...</th>\n",
       "      <th>word2vec_w_290</th>\n",
       "      <th>word2vec_w_291</th>\n",
       "      <th>word2vec_w_292</th>\n",
       "      <th>word2vec_w_293</th>\n",
       "      <th>word2vec_w_294</th>\n",
       "      <th>word2vec_w_295</th>\n",
       "      <th>word2vec_w_296</th>\n",
       "      <th>word2vec_w_297</th>\n",
       "      <th>word2vec_w_298</th>\n",
       "      <th>word2vec_w_299</th>\n",
       "    </tr>\n",
       "    <tr>\n",
       "      <th>0</th>\n",
       "      <th></th>\n",
       "      <th></th>\n",
       "      <th></th>\n",
       "      <th></th>\n",
       "      <th></th>\n",
       "      <th></th>\n",
       "      <th></th>\n",
       "      <th></th>\n",
       "      <th></th>\n",
       "      <th></th>\n",
       "      <th></th>\n",
       "      <th></th>\n",
       "      <th></th>\n",
       "      <th></th>\n",
       "      <th></th>\n",
       "      <th></th>\n",
       "      <th></th>\n",
       "      <th></th>\n",
       "      <th></th>\n",
       "      <th></th>\n",
       "      <th></th>\n",
       "    </tr>\n",
       "  </thead>\n",
       "  <tbody>\n",
       "  </tbody>\n",
       "</table>\n",
       "<p>0 rows × 300 columns</p>\n",
       "</div>"
      ],
      "text/plain": [
       "Empty DataFrame\n",
       "Columns: [word2vec_w_0, word2vec_w_1, word2vec_w_2, word2vec_w_3, word2vec_w_4, word2vec_w_5, word2vec_w_6, word2vec_w_7, word2vec_w_8, word2vec_w_9, word2vec_w_10, word2vec_w_11, word2vec_w_12, word2vec_w_13, word2vec_w_14, word2vec_w_15, word2vec_w_16, word2vec_w_17, word2vec_w_18, word2vec_w_19, word2vec_w_20, word2vec_w_21, word2vec_w_22, word2vec_w_23, word2vec_w_24, word2vec_w_25, word2vec_w_26, word2vec_w_27, word2vec_w_28, word2vec_w_29, word2vec_w_30, word2vec_w_31, word2vec_w_32, word2vec_w_33, word2vec_w_34, word2vec_w_35, word2vec_w_36, word2vec_w_37, word2vec_w_38, word2vec_w_39, word2vec_w_40, word2vec_w_41, word2vec_w_42, word2vec_w_43, word2vec_w_44, word2vec_w_45, word2vec_w_46, word2vec_w_47, word2vec_w_48, word2vec_w_49, word2vec_w_50, word2vec_w_51, word2vec_w_52, word2vec_w_53, word2vec_w_54, word2vec_w_55, word2vec_w_56, word2vec_w_57, word2vec_w_58, word2vec_w_59, word2vec_w_60, word2vec_w_61, word2vec_w_62, word2vec_w_63, word2vec_w_64, word2vec_w_65, word2vec_w_66, word2vec_w_67, word2vec_w_68, word2vec_w_69, word2vec_w_70, word2vec_w_71, word2vec_w_72, word2vec_w_73, word2vec_w_74, word2vec_w_75, word2vec_w_76, word2vec_w_77, word2vec_w_78, word2vec_w_79, word2vec_w_80, word2vec_w_81, word2vec_w_82, word2vec_w_83, word2vec_w_84, word2vec_w_85, word2vec_w_86, word2vec_w_87, word2vec_w_88, word2vec_w_89, word2vec_w_90, word2vec_w_91, word2vec_w_92, word2vec_w_93, word2vec_w_94, word2vec_w_95, word2vec_w_96, word2vec_w_97, word2vec_w_98, word2vec_w_99, ...]\n",
       "Index: []\n",
       "\n",
       "[0 rows x 300 columns]"
      ]
     },
     "execution_count": 233,
     "metadata": {},
     "output_type": "execute_result"
    }
   ],
   "source": [
    "df_word_emb_load.head(0)"
   ]
  },
  {
   "cell_type": "code",
   "execution_count": 146,
   "metadata": {
    "collapsed": false
   },
   "outputs": [],
   "source": [
    "word_emd_index=df_word_emb_load.index.values\n",
    "i2w = {}\n",
    "w2i = {}\n",
    "for i,w in enumerate(word_emd_index):\n",
    "    i2w[i]=w\n",
    "    w2i[w]=i\n",
    "    "
   ]
  },
  {
   "cell_type": "code",
   "execution_count": 236,
   "metadata": {
    "collapsed": false
   },
   "outputs": [
    {
     "data": {
      "text/plain": [
       "20891"
      ]
     },
     "execution_count": 236,
     "metadata": {},
     "output_type": "execute_result"
    }
   ],
   "source": [
    "len(i2w)"
   ]
  },
  {
   "cell_type": "code",
   "execution_count": 109,
   "metadata": {
    "collapsed": true
   },
   "outputs": [],
   "source": [
    "# test sklearn pairwise function:\n",
    "word_emb_distance = pairwise.pairwise_distances(df_word_emb_load)"
   ]
  },
  {
   "cell_type": "code",
   "execution_count": 234,
   "metadata": {
    "collapsed": false
   },
   "outputs": [
    {
     "data": {
      "text/plain": [
       "array([  0.        ,  19.31249096,   9.60848973, ...,   7.03316166,\n",
       "        41.5048079 ,  38.10905227])"
      ]
     },
     "execution_count": 234,
     "metadata": {},
     "output_type": "execute_result"
    }
   ],
   "source": [
    "word_emb_distance[0]"
   ]
  },
  {
   "cell_type": "code",
   "execution_count": 182,
   "metadata": {
    "collapsed": false
   },
   "outputs": [],
   "source": [
    "def eval_glove(default_emd, glove_ana, word_str, number = 200):\n",
    "    \"\"\"\n",
    "    default_emd: the loaded default embedding model\n",
    "    glove_ana: the loaded glove embedding model\n",
    "    word_str: the word to search\n",
    "    \"\"\"\n",
    "    # Evaluation of glove result with provided word embedding\n",
    "    top_list_glove = set(glove_ana.most_similar(word_str, number=number))\n",
    "    top_list_default = set(np.argsort(word_emb_distance[i2w[word_str]], axis=0)[1:number+1])\n",
    "    "
   ]
  },
  {
   "cell_type": "code",
   "execution_count": 189,
   "metadata": {
    "collapsed": false
   },
   "outputs": [],
   "source": [
    "distance_martix = word_emb_distance[w2i['W00000']]"
   ]
  },
  {
   "cell_type": "code",
   "execution_count": 218,
   "metadata": {
    "collapsed": false
   },
   "outputs": [],
   "source": [
    "set_default_emd = set(np.argsort(distance_martix, axis=0)[:20000])\n",
    "set_default_emd_word = set()\n",
    "for index in set_default_emd:\n",
    "    set_default_emd_word.add(i2w[index])\n",
    "# set_default_emd_word"
   ]
  },
  {
   "cell_type": "code",
   "execution_count": 219,
   "metadata": {
    "collapsed": false,
    "scrolled": true
   },
   "outputs": [],
   "source": [
    "glove_test_simi = glove_ana.most_similar('W00000', number=20000)\n",
    "# print glove_test_simi"
   ]
  },
  {
   "cell_type": "code",
   "execution_count": 220,
   "metadata": {
    "collapsed": false
   },
   "outputs": [],
   "source": [
    "# set_test = set()\n",
    "glove_test_set = set(map(lambda x: x[0], glove_test_simi))\n",
    "# glove_test_set"
   ]
  },
  {
   "cell_type": "code",
   "execution_count": 225,
   "metadata": {
    "collapsed": false
   },
   "outputs": [
    {
     "name": "stdout",
     "output_type": "stream",
     "text": [
      "20705\n",
      "19294\n"
     ]
    },
    {
     "data": {
      "text/plain": [
       "0.9318522096112051"
      ]
     },
     "execution_count": 225,
     "metadata": {},
     "output_type": "execute_result"
    }
   ],
   "source": [
    "\"\"\"\n",
    "set_default_emd_word\n",
    "glove_test_set\n",
    "\"\"\"\n",
    "from __future__ import division\n",
    "aa = set_default_emd_word.intersection(glove_test_set)\n",
    "aa_union = set_default_emd_word.union(glove_test_set)\n",
    "print len(aa_union)\n",
    "print len(aa)\n",
    "jacc = len(aa)/len(aa_union)\n",
    "jacc"
   ]
  },
  {
   "cell_type": "code",
   "execution_count": 237,
   "metadata": {
    "collapsed": false
   },
   "outputs": [
    {
     "data": {
      "text/plain": [
       "8.6666666666666661"
      ]
     },
     "execution_count": 237,
     "metadata": {},
     "output_type": "execute_result"
    }
   ],
   "source": [
    "list_example = [22,3,1]\n",
    "np.average(list_example)"
   ]
  },
  {
   "cell_type": "code",
   "execution_count": 239,
   "metadata": {
    "collapsed": false
   },
   "outputs": [],
   "source": [
    "i2w[9714]\n",
    "import time\n",
    "a = time.time()"
   ]
  },
  {
   "cell_type": "code",
   "execution_count": 240,
   "metadata": {
    "collapsed": false
   },
   "outputs": [
    {
     "data": {
      "text/plain": [
       "14.140982151031494"
      ]
     },
     "execution_count": 240,
     "metadata": {},
     "output_type": "execute_result"
    }
   ],
   "source": [
    "b = time.time()\n",
    "b - a"
   ]
  },
  {
   "cell_type": "code",
   "execution_count": 50,
   "metadata": {
    "collapsed": false
   },
   "outputs": [
    {
     "name": "stdout",
     "output_type": "stream",
     "text": [
      "Dict size: 20890\n",
      "Collocations: 621606\n"
     ]
    }
   ],
   "source": [
    "print('Dict size: %s' % len(corpus_word_model.dictionary))\n",
    "print('Collocations: %s' % corpus_word_model.matrix.nnz)"
   ]
  },
  {
   "cell_type": "code",
   "execution_count": 251,
   "metadata": {
    "collapsed": false
   },
   "outputs": [
    {
     "data": {
      "text/plain": [
       "array([[ 0.18402791, -0.21439893, -0.22737793, ...,  0.09530039,\n",
       "        -0.08314777, -0.0532879 ],\n",
       "       [ 0.15118236, -0.17986757, -0.21911889, ...,  0.0947846 ,\n",
       "        -0.02492668, -0.04339767],\n",
       "       [ 0.12791327, -0.14938839, -0.18769358, ...,  0.11732095,\n",
       "        -0.0652537 , -0.08256516],\n",
       "       ..., \n",
       "       [ 0.11140705, -0.11735928, -0.13390457, ..., -0.02423547,\n",
       "        -0.04102832, -0.03057076],\n",
       "       [ 0.15897289, -0.1862586 , -0.22906425, ...,  0.0140669 ,\n",
       "        -0.04472972, -0.07458474],\n",
       "       [ 0.10448041, -0.10471308, -0.15509712, ...,  0.11384611,\n",
       "        -0.05147546, -0.10515619]])"
      ]
     },
     "execution_count": 251,
     "metadata": {},
     "output_type": "execute_result"
    }
   ],
   "source": [
    "glove_ana.word_vectors[:10]"
   ]
  },
  {
   "cell_type": "code",
   "execution_count": 252,
   "metadata": {
    "collapsed": false
   },
   "outputs": [
    {
     "data": {
      "text/plain": [
       "12515"
      ]
     },
     "execution_count": 252,
     "metadata": {},
     "output_type": "execute_result"
    }
   ],
   "source": [
    "glove_ana.dictionary['W00000']"
   ]
  },
  {
   "cell_type": "code",
   "execution_count": 260,
   "metadata": {
    "collapsed": false
   },
   "outputs": [
    {
     "data": {
      "text/plain": [
       "[('W15404', 0.92140551054445341), ('W07819', 0.92124957721456568)]"
      ]
     },
     "execution_count": 260,
     "metadata": {},
     "output_type": "execute_result"
    }
   ],
   "source": [
    "glove_ana.most_similar('W00000', 3)"
   ]
  },
  {
   "cell_type": "code",
   "execution_count": 256,
   "metadata": {
    "collapsed": false
   },
   "outputs": [],
   "source": [
    "w0 = glove_ana.word_vectors[12515]\n",
    "w15404 = glove_ana.word_vectors[glove_ana.dictionary['W15404']]"
   ]
  },
  {
   "cell_type": "code",
   "execution_count": 261,
   "metadata": {
    "collapsed": false
   },
   "outputs": [
    {
     "data": {
      "text/plain": [
       "0.00040612257463097889"
      ]
     },
     "execution_count": 261,
     "metadata": {},
     "output_type": "execute_result"
    }
   ],
   "source": [
    "w07819 = glove_ana.word_vectors[glove_ana.dictionary['W07819']]\n",
    "(np.sum(w0 - w07819))/300"
   ]
  },
  {
   "cell_type": "code",
   "execution_count": 259,
   "metadata": {
    "collapsed": false
   },
   "outputs": [
    {
     "data": {
      "text/plain": [
       "0.00039481297297046535"
      ]
     },
     "execution_count": 259,
     "metadata": {},
     "output_type": "execute_result"
    }
   ],
   "source": [
    "(np.sum(w0 - w15404))/300"
   ]
  },
  {
   "cell_type": "code",
   "execution_count": 263,
   "metadata": {
    "collapsed": false
   },
   "outputs": [
    {
     "name": "stdout",
     "output_type": "stream",
     "text": [
      "W06252 16033\n",
      "W14512 19964\n",
      "W13362 7998\n",
      "W13363 11622\n",
      "W03989 4986\n",
      "W13361 4098\n"
     ]
    }
   ],
   "source": [
    "i = 0\n",
    "for item in glove_ana.dictionary:\n",
    "    print item, glove_ana.dictionary[item]\n",
    "    i += 1\n",
    "    if i > 5:\n",
    "        break "
   ]
  },
  {
   "cell_type": "code",
   "execution_count": 273,
   "metadata": {
    "collapsed": false
   },
   "outputs": [],
   "source": [
    "i = 1\n",
    "with open('glove_words_embed.txt', 'a+') as dictfile:\n",
    "      for item in glove_ana.dictionary:\n",
    "        i += 1\n",
    "        dictfile.write(item + ' ')\n",
    "        dictfile.write(' '.join(str(i) for i in glove_ana.word_vectors[glove_ana.dictionary[item]]))\n",
    "        dictfile.write('\\n')\n",
    "        if i > 100:\n",
    "            break"
   ]
  }
 ],
 "metadata": {
  "kernelspec": {
   "display_name": "Python 2",
   "language": "python",
   "name": "python2"
  },
  "language_info": {
   "codemirror_mode": {
    "name": "ipython",
    "version": 2
   },
   "file_extension": ".py",
   "mimetype": "text/x-python",
   "name": "python",
   "nbconvert_exporter": "python",
   "pygments_lexer": "ipython2",
   "version": "2.7.13"
  }
 },
 "nbformat": 4,
 "nbformat_minor": 2
}
