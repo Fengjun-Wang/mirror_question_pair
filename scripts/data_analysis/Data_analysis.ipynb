{
 "cells": [
  {
   "cell_type": "code",
   "execution_count": 1,
   "metadata": {
    "collapsed": true
   },
   "outputs": [],
   "source": [
    "import numpy as np # linear algebra\n",
    "import pandas as pd # data processing, CSV file I/O (e.g. pd.read_csv)\n",
    "import matplotlib.pyplot as plt\n",
    "import seaborn as sns\n",
    "color = sns.color_palette()\n",
    "%load_ext autoreload\n",
    "\n",
    "%autoreload 2\n",
    "%matplotlib inline\n",
    "train_path = '../../input/train.csv'\n",
    "test_path = '../../input/test.csv'\n",
    "question_path = '../../input/question.csv'\n",
    "char_embed = \"../../input/char_embed.txt\"\n",
    "word_embed = \"../../input/word_embed.txt\""
   ]
  },
  {
   "cell_type": "code",
   "execution_count": 2,
   "metadata": {
    "collapsed": true
   },
   "outputs": [],
   "source": [
    "train_df = pd.read_csv(train_path)\n",
    "test_df = pd.read_csv(test_path)\n",
    "question_df = pd.read_csv(question_path)\n",
    "word_embed_df = pd.read_csv(word_embed,delim_whitespace=True,index_col=0,header=None)\n",
    "char_embed_df = pd.read_csv(char_embed,delim_whitespace=True,index_col=0,header=None)"
   ]
  },
  {
   "cell_type": "code",
   "execution_count": 3,
   "metadata": {
    "collapsed": true
   },
   "outputs": [],
   "source": [
    "question_df[\"word_len\"] = question_df[\"words\"].apply(lambda words:len(words.split(\" \")))\n",
    "question_df[\"char_len\"] = question_df[\"chars\"].apply(lambda chars:len(chars.split(\" \")))"
   ]
  },
  {
   "cell_type": "code",
   "execution_count": 4,
   "metadata": {
    "scrolled": true
   },
   "outputs": [
    {
     "data": {
      "text/html": [
       "<div>\n",
       "<style>\n",
       "    .dataframe thead tr:only-child th {\n",
       "        text-align: right;\n",
       "    }\n",
       "\n",
       "    .dataframe thead th {\n",
       "        text-align: left;\n",
       "    }\n",
       "\n",
       "    .dataframe tbody tr th {\n",
       "        vertical-align: top;\n",
       "    }\n",
       "</style>\n",
       "<table border=\"1\" class=\"dataframe\">\n",
       "  <thead>\n",
       "    <tr style=\"text-align: right;\">\n",
       "      <th></th>\n",
       "      <th>qid</th>\n",
       "      <th>words</th>\n",
       "      <th>chars</th>\n",
       "      <th>word_len</th>\n",
       "      <th>char_len</th>\n",
       "    </tr>\n",
       "  </thead>\n",
       "  <tbody>\n",
       "    <tr>\n",
       "      <th>0</th>\n",
       "      <td>Q000000</td>\n",
       "      <td>W05733 W05284 W09158 W14968 W07863</td>\n",
       "      <td>L1128 L1861 L2218 L1796 L1055 L0847 L2927</td>\n",
       "      <td>5</td>\n",
       "      <td>7</td>\n",
       "    </tr>\n",
       "    <tr>\n",
       "      <th>1</th>\n",
       "      <td>Q000001</td>\n",
       "      <td>W17378 W17534 W03249 W01490 W18802</td>\n",
       "      <td>L2214 L1980 L0156 L1554 L2218 L1861 L3019 L010...</td>\n",
       "      <td>5</td>\n",
       "      <td>9</td>\n",
       "    </tr>\n",
       "    <tr>\n",
       "      <th>2</th>\n",
       "      <td>Q000002</td>\n",
       "      <td>W17378 W08158 W20171 W11246 W14759</td>\n",
       "      <td>L2214 L2350 L2568 L1969 L2168 L0694 L3012 L256...</td>\n",
       "      <td>5</td>\n",
       "      <td>9</td>\n",
       "    </tr>\n",
       "    <tr>\n",
       "      <th>3</th>\n",
       "      <td>Q000003</td>\n",
       "      <td>W11385 W14103 W02556 W13157 W09749</td>\n",
       "      <td>L0762 L2172 L1971 L2034 L2039 L2271 L1346 L223...</td>\n",
       "      <td>5</td>\n",
       "      <td>9</td>\n",
       "    </tr>\n",
       "    <tr>\n",
       "      <th>4</th>\n",
       "      <td>Q000004</td>\n",
       "      <td>W17508 W18238 W02952 W18103</td>\n",
       "      <td>L0018 L2321 L1346 L3019 L0104 L0902 L0354 L0362</td>\n",
       "      <td>4</td>\n",
       "      <td>8</td>\n",
       "    </tr>\n",
       "    <tr>\n",
       "      <th>5</th>\n",
       "      <td>Q000005</td>\n",
       "      <td>W17378 W12908 W19355 W08410 W11922 W14496 W20487</td>\n",
       "      <td>L2214 L1331 L0016 L1132 L2237 L1900 L0578 L195...</td>\n",
       "      <td>7</td>\n",
       "      <td>14</td>\n",
       "    </tr>\n",
       "    <tr>\n",
       "      <th>6</th>\n",
       "      <td>Q000006</td>\n",
       "      <td>W04346 W17378 W06112 W05733 W18238 W05284 W118...</td>\n",
       "      <td>L2323 L1526 L2214 L0358 L1849 L1128 L1861 L301...</td>\n",
       "      <td>8</td>\n",
       "      <td>13</td>\n",
       "    </tr>\n",
       "    <tr>\n",
       "      <th>7</th>\n",
       "      <td>Q000007</td>\n",
       "      <td>W16696 W02556 W16564 W03914 W18103</td>\n",
       "      <td>L0366 L2028 L2034 L2039 L0605 L1824 L2292 L015...</td>\n",
       "      <td>5</td>\n",
       "      <td>9</td>\n",
       "    </tr>\n",
       "    <tr>\n",
       "      <th>8</th>\n",
       "      <td>Q000008</td>\n",
       "      <td>W17378 W11385 W18238 W13157 W12244 W16319 W18448</td>\n",
       "      <td>L2214 L0762 L2172 L3019 L0104 L2271 L1346 L014...</td>\n",
       "      <td>7</td>\n",
       "      <td>11</td>\n",
       "    </tr>\n",
       "    <tr>\n",
       "      <th>9</th>\n",
       "      <td>Q000009</td>\n",
       "      <td>W14113 W16319 W18399 W03472 W11399 W07863 W18103</td>\n",
       "      <td>L0947 L2323 L2582 L0143 L2600 L2272 L1872 L123...</td>\n",
       "      <td>7</td>\n",
       "      <td>10</td>\n",
       "    </tr>\n",
       "    <tr>\n",
       "      <th>10</th>\n",
       "      <td>Q000010</td>\n",
       "      <td>W17508 W06240 W19606 W18804</td>\n",
       "      <td>L0018 L2321 L1346 L2249 L1989 L1965 L1368</td>\n",
       "      <td>4</td>\n",
       "      <td>7</td>\n",
       "    </tr>\n",
       "    <tr>\n",
       "      <th>11</th>\n",
       "      <td>Q000011</td>\n",
       "      <td>W05733 W04745 W17070 W05184 W14103 W17706</td>\n",
       "      <td>L1128 L1861 L2572 L0135 L0465 L0391 L1861 L197...</td>\n",
       "      <td>6</td>\n",
       "      <td>10</td>\n",
       "    </tr>\n",
       "    <tr>\n",
       "      <th>12</th>\n",
       "      <td>Q000012</td>\n",
       "      <td>W10139 W15218 W12566 W01490</td>\n",
       "      <td>L3019 L1641 L2669 L1717 L0841 L1787 L2292 L221...</td>\n",
       "      <td>4</td>\n",
       "      <td>9</td>\n",
       "    </tr>\n",
       "    <tr>\n",
       "      <th>13</th>\n",
       "      <td>Q000013</td>\n",
       "      <td>W13107 W01696 W09745 W19355 W09762</td>\n",
       "      <td>L1959 L0397 L1420 L0201 L0971 L1132 L0578 L0423</td>\n",
       "      <td>5</td>\n",
       "      <td>8</td>\n",
       "    </tr>\n",
       "    <tr>\n",
       "      <th>14</th>\n",
       "      <td>Q000014</td>\n",
       "      <td>W17378 W02385 W17926 W19783 W04622</td>\n",
       "      <td>L2214 L1610 L1849 L2723 L1861 L1368 L0851 L056...</td>\n",
       "      <td>5</td>\n",
       "      <td>9</td>\n",
       "    </tr>\n",
       "    <tr>\n",
       "      <th>15</th>\n",
       "      <td>Q000015</td>\n",
       "      <td>W17566 W05733 W03390 W17057 W04580 W12803 W03746</td>\n",
       "      <td>L0156 L0219 L1128 L1861 L1389 L2932 L0260 L260...</td>\n",
       "      <td>7</td>\n",
       "      <td>12</td>\n",
       "    </tr>\n",
       "    <tr>\n",
       "      <th>16</th>\n",
       "      <td>Q000016</td>\n",
       "      <td>W13462 W06099 W13293</td>\n",
       "      <td>L1969 L2168 L0510 L1735 L0315</td>\n",
       "      <td>3</td>\n",
       "      <td>5</td>\n",
       "    </tr>\n",
       "    <tr>\n",
       "      <th>17</th>\n",
       "      <td>Q000017</td>\n",
       "      <td>W14113 W19355 W17926 W00863 W16521 W08238</td>\n",
       "      <td>L0947 L2323 L1132 L2723 L1861 L1187 L0104 L270...</td>\n",
       "      <td>6</td>\n",
       "      <td>10</td>\n",
       "    </tr>\n",
       "    <tr>\n",
       "      <th>18</th>\n",
       "      <td>Q000018</td>\n",
       "      <td>W16870 W06763 W04645 W11299 W18804 W00564</td>\n",
       "      <td>L2613 L0843 L0628 L0628 L0482 L0030 L2120 L136...</td>\n",
       "      <td>6</td>\n",
       "      <td>10</td>\n",
       "    </tr>\n",
       "    <tr>\n",
       "      <th>19</th>\n",
       "      <td>Q000019</td>\n",
       "      <td>W04476 W01766 W02262 W16705 W16319 W18103</td>\n",
       "      <td>L0050 L1187 L0104 L0271 L1128 L1493 L2162 L258...</td>\n",
       "      <td>6</td>\n",
       "      <td>9</td>\n",
       "    </tr>\n",
       "  </tbody>\n",
       "</table>\n",
       "</div>"
      ],
      "text/plain": [
       "        qid                                              words  \\\n",
       "0   Q000000                 W05733 W05284 W09158 W14968 W07863   \n",
       "1   Q000001                 W17378 W17534 W03249 W01490 W18802   \n",
       "2   Q000002                 W17378 W08158 W20171 W11246 W14759   \n",
       "3   Q000003                 W11385 W14103 W02556 W13157 W09749   \n",
       "4   Q000004                        W17508 W18238 W02952 W18103   \n",
       "5   Q000005   W17378 W12908 W19355 W08410 W11922 W14496 W20487   \n",
       "6   Q000006  W04346 W17378 W06112 W05733 W18238 W05284 W118...   \n",
       "7   Q000007                 W16696 W02556 W16564 W03914 W18103   \n",
       "8   Q000008   W17378 W11385 W18238 W13157 W12244 W16319 W18448   \n",
       "9   Q000009   W14113 W16319 W18399 W03472 W11399 W07863 W18103   \n",
       "10  Q000010                        W17508 W06240 W19606 W18804   \n",
       "11  Q000011          W05733 W04745 W17070 W05184 W14103 W17706   \n",
       "12  Q000012                        W10139 W15218 W12566 W01490   \n",
       "13  Q000013                 W13107 W01696 W09745 W19355 W09762   \n",
       "14  Q000014                 W17378 W02385 W17926 W19783 W04622   \n",
       "15  Q000015   W17566 W05733 W03390 W17057 W04580 W12803 W03746   \n",
       "16  Q000016                               W13462 W06099 W13293   \n",
       "17  Q000017          W14113 W19355 W17926 W00863 W16521 W08238   \n",
       "18  Q000018          W16870 W06763 W04645 W11299 W18804 W00564   \n",
       "19  Q000019          W04476 W01766 W02262 W16705 W16319 W18103   \n",
       "\n",
       "                                                chars  word_len  char_len  \n",
       "0           L1128 L1861 L2218 L1796 L1055 L0847 L2927         5         7  \n",
       "1   L2214 L1980 L0156 L1554 L2218 L1861 L3019 L010...         5         9  \n",
       "2   L2214 L2350 L2568 L1969 L2168 L0694 L3012 L256...         5         9  \n",
       "3   L0762 L2172 L1971 L2034 L2039 L2271 L1346 L223...         5         9  \n",
       "4     L0018 L2321 L1346 L3019 L0104 L0902 L0354 L0362         4         8  \n",
       "5   L2214 L1331 L0016 L1132 L2237 L1900 L0578 L195...         7        14  \n",
       "6   L2323 L1526 L2214 L0358 L1849 L1128 L1861 L301...         8        13  \n",
       "7   L0366 L2028 L2034 L2039 L0605 L1824 L2292 L015...         5         9  \n",
       "8   L2214 L0762 L2172 L3019 L0104 L2271 L1346 L014...         7        11  \n",
       "9   L0947 L2323 L2582 L0143 L2600 L2272 L1872 L123...         7        10  \n",
       "10          L0018 L2321 L1346 L2249 L1989 L1965 L1368         4         7  \n",
       "11  L1128 L1861 L2572 L0135 L0465 L0391 L1861 L197...         6        10  \n",
       "12  L3019 L1641 L2669 L1717 L0841 L1787 L2292 L221...         4         9  \n",
       "13    L1959 L0397 L1420 L0201 L0971 L1132 L0578 L0423         5         8  \n",
       "14  L2214 L1610 L1849 L2723 L1861 L1368 L0851 L056...         5         9  \n",
       "15  L0156 L0219 L1128 L1861 L1389 L2932 L0260 L260...         7        12  \n",
       "16                      L1969 L2168 L0510 L1735 L0315         3         5  \n",
       "17  L0947 L2323 L1132 L2723 L1861 L1187 L0104 L270...         6        10  \n",
       "18  L2613 L0843 L0628 L0628 L0482 L0030 L2120 L136...         6        10  \n",
       "19  L0050 L1187 L0104 L0271 L1128 L1493 L2162 L258...         6         9  "
      ]
     },
     "execution_count": 4,
     "metadata": {},
     "output_type": "execute_result"
    }
   ],
   "source": [
    "question_df.head(20)"
   ]
  },
  {
   "cell_type": "code",
   "execution_count": 5,
   "metadata": {},
   "outputs": [
    {
     "name": "stdout",
     "output_type": "stream",
     "text": [
      "We have in total 728428 questions!\n"
     ]
    }
   ],
   "source": [
    "print \"We have in total %s questions!\"%question_df.shape[0]"
   ]
  },
  {
   "cell_type": "markdown",
   "metadata": {},
   "source": [
    "#### Let us look at the distribution of word_len"
   ]
  },
  {
   "cell_type": "code",
   "execution_count": 5,
   "metadata": {},
   "outputs": [
    {
     "data": {
      "text/plain": [
       "5     138033\n",
       "6     126076\n",
       "4     116563\n",
       "7      96150\n",
       "8      65982\n",
       "3      60322\n",
       "9      42445\n",
       "10     26157\n",
       "11     16186\n",
       "2      13887\n",
       "12      9728\n",
       "13      5970\n",
       "14      3652\n",
       "15      2260\n",
       "16      1405\n",
       "17      1004\n",
       "18       673\n",
       "19       506\n",
       "20       378\n",
       "21       246\n",
       "22       207\n",
       "23       116\n",
       "24       108\n",
       "25        81\n",
       "1         75\n",
       "26        72\n",
       "27        43\n",
       "28        26\n",
       "29        21\n",
       "30        20\n",
       "32        14\n",
       "31        10\n",
       "34         5\n",
       "33         3\n",
       "35         2\n",
       "36         1\n",
       "39         1\n",
       "Name: word_len, dtype: int64"
      ]
     },
     "execution_count": 5,
     "metadata": {},
     "output_type": "execute_result"
    }
   ],
   "source": [
    "question_df[\"word_len\"].value_counts()"
   ]
  },
  {
   "cell_type": "code",
   "execution_count": 6,
   "metadata": {},
   "outputs": [
    {
     "data": {
      "text/plain": [
       "count    728428.000000\n",
       "mean          6.199064\n",
       "std           2.567069\n",
       "min           1.000000\n",
       "25%           4.000000\n",
       "50%           6.000000\n",
       "75%           7.000000\n",
       "max          39.000000\n",
       "Name: word_len, dtype: float64"
      ]
     },
     "execution_count": 6,
     "metadata": {},
     "output_type": "execute_result"
    }
   ],
   "source": [
    "question_df[\"word_len\"].describe()"
   ]
  },
  {
   "cell_type": "code",
   "execution_count": 7,
   "metadata": {
    "scrolled": true
   },
   "outputs": [
    {
     "data": {
      "image/png": "[encoded data removed]",
      "text/plain": [
       "<matplotlib.figure.Figure at 0x7feb7d640fd0>"
      ]
     },
     "metadata": {},
     "output_type": "display_data"
    }
   ],
   "source": [
    "plt.figure(figsize=(20,8))\n",
    "sns.distplot(question_df[\"word_len\"])\n",
    "plt.xlabel('Word Length', fontsize=12)\n",
    "plt.title(\"Word Length Histogram\", fontsize=14)\n",
    "plt.show()"
   ]
  },
  {
   "cell_type": "markdown",
   "metadata": {},
   "source": [
    "#### Let us look at the distribution of char_len"
   ]
  },
  {
   "cell_type": "code",
   "execution_count": 8,
   "metadata": {
    "scrolled": false
   },
   "outputs": [
    {
     "data": {
      "text/plain": [
       "count    728428.000000\n",
       "mean         10.292577\n",
       "std           3.918596\n",
       "min           2.000000\n",
       "25%           8.000000\n",
       "50%          10.000000\n",
       "75%          12.000000\n",
       "max          58.000000\n",
       "Name: char_len, dtype: float64"
      ]
     },
     "execution_count": 8,
     "metadata": {},
     "output_type": "execute_result"
    }
   ],
   "source": [
    "question_df[\"char_len\"].describe()"
   ]
  },
  {
   "cell_type": "code",
   "execution_count": 9,
   "metadata": {},
   "outputs": [
    {
     "data": {
      "image/png": "[encoded data removed]",
      "text/plain": [
       "<matplotlib.figure.Figure at 0x7feb464650d0>"
      ]
     },
     "metadata": {},
     "output_type": "display_data"
    }
   ],
   "source": [
    "plt.figure(figsize=(20,8))\n",
    "sns.distplot(question_df[\"char_len\"])\n",
    "plt.xlabel('Char Length', fontsize=12)\n",
    "plt.title(\"Char Length Histogram\", fontsize=14)\n",
    "plt.show()"
   ]
  },
  {
   "cell_type": "markdown",
   "metadata": {},
   "source": [
    "#### how many unique words and chars in all questions"
   ]
  },
  {
   "cell_type": "code",
   "execution_count": 10,
   "metadata": {},
   "outputs": [
    {
     "name": "stdout",
     "output_type": "stream",
     "text": [
      "number of unique words in all questions is 20890\n"
     ]
    }
   ],
   "source": [
    "all_words = question_df[\"words\"].values.tolist()\n",
    "all_words = ' '.join(all_words)\n",
    "all_unique_words = set(all_words.split(\" \"))\n",
    "print \"number of unique words in all questions is %s\"%(len(all_unique_words))"
   ]
  },
  {
   "cell_type": "code",
   "execution_count": 11,
   "metadata": {},
   "outputs": [
    {
     "data": {
      "text/plain": [
       "20891"
      ]
     },
     "execution_count": 11,
     "metadata": {},
     "output_type": "execute_result"
    }
   ],
   "source": [
    "word_embed_df.shape[0]\n",
    "## total unique words: 20891"
   ]
  },
  {
   "cell_type": "code",
   "execution_count": 12,
   "metadata": {},
   "outputs": [
    {
     "name": "stdout",
     "output_type": "stream",
     "text": [
      "3790\n"
     ]
    }
   ],
   "source": [
    "all_unique_words_index = map(lambda x:int(x[1:]),all_unique_words)\n",
    "for i in range(20891):\n",
    "    if i not in all_unique_words_index:\n",
    "        print i\n",
    "## word W03790 is not in the questions"
   ]
  },
  {
   "cell_type": "code",
   "execution_count": 13,
   "metadata": {},
   "outputs": [
    {
     "name": "stdout",
     "output_type": "stream",
     "text": [
      "number of unique chars in all questions is 3048\n"
     ]
    }
   ],
   "source": [
    "all_chars = question_df[\"chars\"].values.tolist()\n",
    "all_chars = ' '.join(all_chars)\n",
    "all_unique_chars = set(all_chars.split(\" \"))\n",
    "print \"number of unique chars in all questions is %s\"%(len(all_unique_chars))"
   ]
  },
  {
   "cell_type": "code",
   "execution_count": 14,
   "metadata": {},
   "outputs": [
    {
     "data": {
      "text/plain": [
       "3048"
      ]
     },
     "execution_count": 14,
     "metadata": {},
     "output_type": "execute_result"
    }
   ],
   "source": [
    "char_embed_df.shape[0]\n",
    "## all letters(chars) occur in the questions"
   ]
  },
  {
   "cell_type": "markdown",
   "metadata": {},
   "source": [
    "## Word_length and pair length train and test"
   ]
  },
  {
   "cell_type": "code",
   "execution_count": 5,
   "metadata": {
    "collapsed": true
   },
   "outputs": [],
   "source": [
    "word_len_map = {}\n",
    "char_len_map = {}\n",
    "for i in range(question_df.shape[0]):\n",
    "    row  = question_df.iloc[i]\n",
    "    qid = row[\"qid\"]\n",
    "    word_len_map[qid] = row[\"word_len\"]\n",
    "    char_len_map[qid] = row[\"char_len\"]"
   ]
  },
  {
   "cell_type": "code",
   "execution_count": 6,
   "metadata": {
    "collapsed": true
   },
   "outputs": [],
   "source": [
    "\n",
    "train_df[\"word_len_q1\"] = train_df.apply(lambda row: word_len_map[row[\"q1\"]],axis=1)\n",
    "train_df[\"word_len_q2\"] = train_df.apply(lambda row: word_len_map[row[\"q2\"]],axis=1)\n",
    "train_df[\"char_len_q1\"] = train_df.apply(lambda row: char_len_map[row[\"q1\"]],axis=1)\n",
    "train_df[\"char_len_q2\"] = train_df.apply(lambda row: char_len_map[row[\"q2\"]],axis=1)\n",
    "test_df[\"word_len_q1\"] = test_df.apply(lambda row: word_len_map[row[\"q1\"]],axis=1)\n",
    "test_df[\"word_len_q2\"] = test_df.apply(lambda row: word_len_map[row[\"q2\"]],axis=1)\n",
    "test_df[\"char_len_q1\"] = test_df.apply(lambda row: char_len_map[row[\"q1\"]],axis=1)\n",
    "test_df[\"char_len_q2\"] = test_df.apply(lambda row: char_len_map[row[\"q2\"]],axis=1)"
   ]
  },
  {
   "cell_type": "code",
   "execution_count": 7,
   "metadata": {
    "collapsed": true,
    "scrolled": true
   },
   "outputs": [],
   "source": [
    "train_df.to_csv(\"train.csv\",index=False)\n",
    "test_df.to_csv(\"test.csv\",index=False)"
   ]
  },
  {
   "cell_type": "code",
   "execution_count": 29,
   "metadata": {
    "scrolled": true
   },
   "outputs": [
    {
     "data": {
      "text/html": [
       "<div>\n",
       "<style>\n",
       "    .dataframe thead tr:only-child th {\n",
       "        text-align: right;\n",
       "    }\n",
       "\n",
       "    .dataframe thead th {\n",
       "        text-align: left;\n",
       "    }\n",
       "\n",
       "    .dataframe tbody tr th {\n",
       "        vertical-align: top;\n",
       "    }\n",
       "</style>\n",
       "<table border=\"1\" class=\"dataframe\">\n",
       "  <thead>\n",
       "    <tr style=\"text-align: right;\">\n",
       "      <th></th>\n",
       "      <th>label</th>\n",
       "      <th>q1</th>\n",
       "      <th>q2</th>\n",
       "      <th>word_len_q1</th>\n",
       "      <th>word_len_q2</th>\n",
       "      <th>char_len_q1</th>\n",
       "      <th>char_len_q2</th>\n",
       "    </tr>\n",
       "  </thead>\n",
       "  <tbody>\n",
       "    <tr>\n",
       "      <th>1</th>\n",
       "      <td>0</td>\n",
       "      <td>Q193805</td>\n",
       "      <td>Q699273</td>\n",
       "      <td>5</td>\n",
       "      <td>5</td>\n",
       "      <td>10</td>\n",
       "      <td>8</td>\n",
       "    </tr>\n",
       "    <tr>\n",
       "      <th>4</th>\n",
       "      <td>0</td>\n",
       "      <td>Q267714</td>\n",
       "      <td>Q290126</td>\n",
       "      <td>7</td>\n",
       "      <td>4</td>\n",
       "      <td>12</td>\n",
       "      <td>10</td>\n",
       "    </tr>\n",
       "    <tr>\n",
       "      <th>5</th>\n",
       "      <td>1</td>\n",
       "      <td>Q369715</td>\n",
       "      <td>Q658908</td>\n",
       "      <td>7</td>\n",
       "      <td>4</td>\n",
       "      <td>11</td>\n",
       "      <td>8</td>\n",
       "    </tr>\n",
       "  </tbody>\n",
       "</table>\n",
       "</div>"
      ],
      "text/plain": [
       "   label       q1       q2  word_len_q1  word_len_q2  char_len_q1  char_len_q2\n",
       "1      0  Q193805  Q699273            5            5           10            8\n",
       "4      0  Q267714  Q290126            7            4           12           10\n",
       "5      1  Q369715  Q658908            7            4           11            8"
      ]
     },
     "execution_count": 29,
     "metadata": {},
     "output_type": "execute_result"
    }
   ],
   "source": [
    "train_df.iloc[[1,4,5]]"
   ]
  },
  {
   "cell_type": "code",
   "execution_count": 8,
   "metadata": {},
   "outputs": [
    {
     "data": {
      "text/plain": [
       "6     45504\n",
       "7     44158\n",
       "5     36104\n",
       "8     34870\n",
       "9     24637\n",
       "4     19013\n",
       "10    15660\n",
       "11    10765\n",
       "12     6752\n",
       "3      4453\n",
       "13     4098\n",
       "14     2766\n",
       "15     1902\n",
       "16     1119\n",
       "17     1048\n",
       "2       327\n",
       "18      309\n",
       "19      304\n",
       "20      195\n",
       "21      154\n",
       "22       65\n",
       "25       54\n",
       "24       28\n",
       "23       24\n",
       "26       22\n",
       "27       10\n",
       "39       10\n",
       "30        9\n",
       "34        9\n",
       "28        8\n",
       "32        5\n",
       "31        2\n",
       "29        1\n",
       "35        1\n",
       "dtype: int64"
      ]
     },
     "execution_count": 8,
     "metadata": {},
     "output_type": "execute_result"
    }
   ],
   "source": [
    "len_pair = list(zip(train_df[\"word_len_q1\"],train_df[\"word_len_q2\"]))\n",
    "max_len_pair = map(max,len_pair)\n",
    "pd.Series(max_len_pair).value_counts()"
   ]
  },
  {
   "cell_type": "markdown",
   "metadata": {},
   "source": [
    "#### how many unique questions in train and test set"
   ]
  },
  {
   "cell_type": "markdown",
   "metadata": {},
   "source": [
    "#### train set"
   ]
  },
  {
   "cell_type": "code",
   "execution_count": 15,
   "metadata": {},
   "outputs": [
    {
     "data": {
      "text/html": [
       "<div>\n",
       "<style>\n",
       "    .dataframe thead tr:only-child th {\n",
       "        text-align: right;\n",
       "    }\n",
       "\n",
       "    .dataframe thead th {\n",
       "        text-align: left;\n",
       "    }\n",
       "\n",
       "    .dataframe tbody tr th {\n",
       "        vertical-align: top;\n",
       "    }\n",
       "</style>\n",
       "<table border=\"1\" class=\"dataframe\">\n",
       "  <thead>\n",
       "    <tr style=\"text-align: right;\">\n",
       "      <th></th>\n",
       "      <th>label</th>\n",
       "      <th>q1</th>\n",
       "      <th>q2</th>\n",
       "    </tr>\n",
       "  </thead>\n",
       "  <tbody>\n",
       "    <tr>\n",
       "      <th>0</th>\n",
       "      <td>1</td>\n",
       "      <td>Q397345</td>\n",
       "      <td>Q538594</td>\n",
       "    </tr>\n",
       "    <tr>\n",
       "      <th>1</th>\n",
       "      <td>0</td>\n",
       "      <td>Q193805</td>\n",
       "      <td>Q699273</td>\n",
       "    </tr>\n",
       "    <tr>\n",
       "      <th>2</th>\n",
       "      <td>0</td>\n",
       "      <td>Q085471</td>\n",
       "      <td>Q676160</td>\n",
       "    </tr>\n",
       "    <tr>\n",
       "      <th>3</th>\n",
       "      <td>0</td>\n",
       "      <td>Q189314</td>\n",
       "      <td>Q438123</td>\n",
       "    </tr>\n",
       "    <tr>\n",
       "      <th>4</th>\n",
       "      <td>0</td>\n",
       "      <td>Q267714</td>\n",
       "      <td>Q290126</td>\n",
       "    </tr>\n",
       "  </tbody>\n",
       "</table>\n",
       "</div>"
      ],
      "text/plain": [
       "   label       q1       q2\n",
       "0      1  Q397345  Q538594\n",
       "1      0  Q193805  Q699273\n",
       "2      0  Q085471  Q676160\n",
       "3      0  Q189314  Q438123\n",
       "4      0  Q267714  Q290126"
      ]
     },
     "execution_count": 15,
     "metadata": {},
     "output_type": "execute_result"
    }
   ],
   "source": [
    "train_df.head(5)"
   ]
  },
  {
   "cell_type": "code",
   "execution_count": 16,
   "metadata": {},
   "outputs": [
    {
     "data": {
      "text/plain": [
       "254386"
      ]
     },
     "execution_count": 16,
     "metadata": {},
     "output_type": "execute_result"
    }
   ],
   "source": [
    "train_df.shape[0]\n",
    "## We have totally 254,386 train pairs, and 508772 questions in train set"
   ]
  },
  {
   "cell_type": "code",
   "execution_count": 17,
   "metadata": {},
   "outputs": [
    {
     "name": "stdout",
     "output_type": "stream",
     "text": [
      "number of questions in train set:508772\n"
     ]
    }
   ],
   "source": [
    "train_all_qids = pd.concat([train_df[\"q1\"],train_df[\"q2\"]],ignore_index=True)\n",
    "print \"number of questions in train set:%s\" % train_all_qids.shape[0]"
   ]
  },
  {
   "cell_type": "code",
   "execution_count": 18,
   "metadata": {},
   "outputs": [
    {
     "name": "stdout",
     "output_type": "stream",
     "text": [
      "number of unique questions in train set:192633, out of 728428, ratio is:26.45%\n"
     ]
    }
   ],
   "source": [
    "train_ques_fre = train_all_qids.value_counts()\n",
    "print \"number of unique questions in train set:%s, out of %s, ratio is:%.2f%%\"%(train_ques_fre.shape[0],question_df.shape[0],\n",
    "                                                                              100*train_ques_fre.shape[0]/float(question_df.shape[0]))"
   ]
  },
  {
   "cell_type": "code",
   "execution_count": 19,
   "metadata": {},
   "outputs": [
    {
     "data": {
      "text/plain": [
       "<matplotlib.axes._subplots.AxesSubplot at 0x7feb42cbfb90>"
      ]
     },
     "execution_count": 19,
     "metadata": {},
     "output_type": "execute_result"
    },
    {
     "data": {
      "image/png": "[encoded data removed]",
      "text/plain": [
       "<matplotlib.figure.Figure at 0x7feb445db210>"
      ]
     },
     "metadata": {},
     "output_type": "display_data"
    }
   ],
   "source": [
    "plt.figure(figsize=(20,8))\n",
    "train_ques_fre.head(100).plot(\"bar\")"
   ]
  },
  {
   "cell_type": "code",
   "execution_count": 20,
   "metadata": {},
   "outputs": [
    {
     "data": {
      "text/plain": [
       "count    192633.000000\n",
       "mean          2.641147\n",
       "std           6.092427\n",
       "min           1.000000\n",
       "25%           1.000000\n",
       "50%           1.000000\n",
       "75%           1.000000\n",
       "max         112.000000\n",
       "dtype: float64"
      ]
     },
     "execution_count": 20,
     "metadata": {},
     "output_type": "execute_result"
    }
   ],
   "source": [
    "train_ques_fre.describe()"
   ]
  },
  {
   "cell_type": "markdown",
   "metadata": {},
   "source": [
    "### test set"
   ]
  },
  {
   "cell_type": "code",
   "execution_count": 21,
   "metadata": {},
   "outputs": [
    {
     "data": {
      "text/plain": [
       "172956"
      ]
     },
     "execution_count": 21,
     "metadata": {},
     "output_type": "execute_result"
    }
   ],
   "source": [
    "test_df.shape[0]\n",
    "## ## We have totally 172,956 test pairs, and 345,912 questions in test set"
   ]
  },
  {
   "cell_type": "code",
   "execution_count": 22,
   "metadata": {},
   "outputs": [
    {
     "name": "stdout",
     "output_type": "stream",
     "text": [
      "number of questions in test set:345912\n"
     ]
    }
   ],
   "source": [
    "test_all_qids = pd.concat([test_df[\"q1\"],test_df[\"q2\"]],ignore_index=True)\n",
    "print \"number of questions in test set:%s\" % test_all_qids.shape[0]"
   ]
  },
  {
   "cell_type": "code",
   "execution_count": 23,
   "metadata": {},
   "outputs": [
    {
     "name": "stdout",
     "output_type": "stream",
     "text": [
      "number of unique questions in test set:248773, out of 728428, ratio is:34.15%\n"
     ]
    }
   ],
   "source": [
    "test_ques_fre = test_all_qids.value_counts()\n",
    "print \"number of unique questions in test set:%s, out of %s, ratio is:%.2f%%\"%(test_ques_fre.shape[0],question_df.shape[0],\n",
    "                                                                              100*test_ques_fre.shape[0]/float(question_df.shape[0]))"
   ]
  },
  {
   "cell_type": "code",
   "execution_count": 24,
   "metadata": {},
   "outputs": [
    {
     "data": {
      "text/plain": [
       "<matplotlib.axes._subplots.AxesSubplot at 0x7feb41dd1d90>"
      ]
     },
     "execution_count": 24,
     "metadata": {},
     "output_type": "execute_result"
    },
    {
     "data": {
      "image/png": "[encoded data removed]",
      "text/plain": [
       "<matplotlib.figure.Figure at 0x7feb41fc1d90>"
      ]
     },
     "metadata": {},
     "output_type": "display_data"
    }
   ],
   "source": [
    "plt.figure(figsize=(20,8))\n",
    "test_ques_fre.head(100).plot(\"bar\")"
   ]
  },
  {
   "cell_type": "code",
   "execution_count": 25,
   "metadata": {},
   "outputs": [
    {
     "data": {
      "text/plain": [
       "count    248773.000000\n",
       "mean          1.390472\n",
       "std           1.192269\n",
       "min           1.000000\n",
       "25%           1.000000\n",
       "50%           1.000000\n",
       "75%           1.000000\n",
       "max          34.000000\n",
       "dtype: float64"
      ]
     },
     "execution_count": 25,
     "metadata": {},
     "output_type": "execute_result"
    }
   ],
   "source": [
    "test_ques_fre.describe()\n",
    "## Some questions appear in the test set more often than others"
   ]
  },
  {
   "cell_type": "markdown",
   "metadata": {
    "collapsed": true
   },
   "source": [
    "#### consider train and test together\n"
   ]
  },
  {
   "cell_type": "code",
   "execution_count": 26,
   "metadata": {},
   "outputs": [
    {
     "name": "stdout",
     "output_type": "stream",
     "text": [
      "cnt of all questions in train and test :854684\n"
     ]
    }
   ],
   "source": [
    "all_qids = pd.concat([train_all_qids,test_all_qids],ignore_index=True)\n",
    "print \"cnt of all questions in train and test :%s\"%len(all_qids)\n",
    "assert len(all_qids)==len(train_all_qids)+len(test_all_qids)"
   ]
  },
  {
   "cell_type": "code",
   "execution_count": 27,
   "metadata": {},
   "outputs": [
    {
     "name": "stdout",
     "output_type": "stream",
     "text": [
      "number of unique questions in train and test set:406591, out of 728428, ratio is:55.82%\n"
     ]
    }
   ],
   "source": [
    "all_ques_fre = all_qids.value_counts()\n",
    "print \"number of unique questions in train and test set:%s, out of %s, ratio is:%.2f%%\"%(all_ques_fre.shape[0],question_df.shape[0],\n",
    "                                                                              100*all_ques_fre.shape[0]/float(question_df.shape[0]))"
   ]
  },
  {
   "cell_type": "code",
   "execution_count": 28,
   "metadata": {},
   "outputs": [
    {
     "name": "stdout",
     "output_type": "stream",
     "text": [
      "number of overlapped unique question between train and test:34815\n",
      "occupy train 18.00%, occupy test 13.00%\n"
     ]
    }
   ],
   "source": [
    "overlap_train_test = set(train_all_qids.values.tolist()).intersection(set(test_all_qids.values.tolist()))\n",
    "print \"number of overlapped unique question between train and test:%s\"%(len(overlap_train_test))\n",
    "print \"occupy train %.2f%%, occupy test %.2f%%\"%(100*len(overlap_train_test)/len(train_ques_fre),100*len(overlap_train_test)/len(test_ques_fre))"
   ]
  },
  {
   "cell_type": "code",
   "execution_count": 29,
   "metadata": {},
   "outputs": [
    {
     "data": {
      "image/png": "[encoded data removed]",
      "text/plain": [
       "<matplotlib.figure.Figure at 0x7feb2c2e6ed0>"
      ]
     },
     "metadata": {},
     "output_type": "display_data"
    }
   ],
   "source": [
    "from matplotlib_venn import venn2\n",
    "plt.figure(figsize=(10,7))\n",
    "venn2([set(train_all_qids.values.tolist()), set(test_all_qids.values.tolist())], set_labels = ('Train set', 'Test set') )\n",
    "plt.title(\"Number of unique questions in train and test\", fontsize=15)\n",
    "plt.show()"
   ]
  },
  {
   "cell_type": "markdown",
   "metadata": {},
   "source": [
    "#### Now check the label distribution"
   ]
  },
  {
   "cell_type": "code",
   "execution_count": 30,
   "metadata": {},
   "outputs": [
    {
     "data": {
      "text/html": [
       "<div>\n",
       "<style>\n",
       "    .dataframe thead tr:only-child th {\n",
       "        text-align: right;\n",
       "    }\n",
       "\n",
       "    .dataframe thead th {\n",
       "        text-align: left;\n",
       "    }\n",
       "\n",
       "    .dataframe tbody tr th {\n",
       "        vertical-align: top;\n",
       "    }\n",
       "</style>\n",
       "<table border=\"1\" class=\"dataframe\">\n",
       "  <thead>\n",
       "    <tr style=\"text-align: right;\">\n",
       "      <th></th>\n",
       "      <th>label</th>\n",
       "      <th>q1</th>\n",
       "      <th>q2</th>\n",
       "    </tr>\n",
       "  </thead>\n",
       "  <tbody>\n",
       "    <tr>\n",
       "      <th>0</th>\n",
       "      <td>1</td>\n",
       "      <td>Q397345</td>\n",
       "      <td>Q538594</td>\n",
       "    </tr>\n",
       "    <tr>\n",
       "      <th>1</th>\n",
       "      <td>0</td>\n",
       "      <td>Q193805</td>\n",
       "      <td>Q699273</td>\n",
       "    </tr>\n",
       "    <tr>\n",
       "      <th>2</th>\n",
       "      <td>0</td>\n",
       "      <td>Q085471</td>\n",
       "      <td>Q676160</td>\n",
       "    </tr>\n",
       "    <tr>\n",
       "      <th>3</th>\n",
       "      <td>0</td>\n",
       "      <td>Q189314</td>\n",
       "      <td>Q438123</td>\n",
       "    </tr>\n",
       "    <tr>\n",
       "      <th>4</th>\n",
       "      <td>0</td>\n",
       "      <td>Q267714</td>\n",
       "      <td>Q290126</td>\n",
       "    </tr>\n",
       "  </tbody>\n",
       "</table>\n",
       "</div>"
      ],
      "text/plain": [
       "   label       q1       q2\n",
       "0      1  Q397345  Q538594\n",
       "1      0  Q193805  Q699273\n",
       "2      0  Q085471  Q676160\n",
       "3      0  Q189314  Q438123\n",
       "4      0  Q267714  Q290126"
      ]
     },
     "execution_count": 30,
     "metadata": {},
     "output_type": "execute_result"
    }
   ],
   "source": [
    "train_df.head(5)"
   ]
  },
  {
   "cell_type": "code",
   "execution_count": 31,
   "metadata": {},
   "outputs": [
    {
     "name": "stdout",
     "output_type": "stream",
     "text": [
      "    count     total     ratio\n",
      "1  132054  254386.0  0.519109\n",
      "0  122332  254386.0  0.480891\n"
     ]
    }
   ],
   "source": [
    "label_cnt = pd.DataFrame(train_df[\"label\"].value_counts())\n",
    "label_cnt.columns = [\"count\"]\n",
    "label_cnt[\"total\"] = train_df.shape[0]*1.0\n",
    "label_cnt[\"ratio\"] = label_cnt[\"count\"]/label_cnt[\"total\"]\n",
    "print label_cnt\n",
    "## positive and negative samples are balanced"
   ]
  },
  {
   "cell_type": "markdown",
   "metadata": {},
   "source": [
    "## Feature engineering test"
   ]
  },
  {
   "cell_type": "markdown",
   "metadata": {},
   "source": [
    "### tf_idf"
   ]
  },
  {
   "cell_type": "code",
   "execution_count": 48,
   "metadata": {
    "collapsed": true
   },
   "outputs": [],
   "source": [
    "from sklearn.feature_extraction.text import TfidfVectorizer\n",
    "word_corpus = question_df[\"words\"]\n",
    "char_corpus = question_df[\"chars\"]"
   ]
  },
  {
   "cell_type": "code",
   "execution_count": 49,
   "metadata": {},
   "outputs": [
    {
     "data": {
      "text/plain": [
       "0    W05733 W05284 W09158 W14968 W07863\n",
       "1    W17378 W17534 W03249 W01490 W18802\n",
       "2    W17378 W08158 W20171 W11246 W14759\n",
       "3    W11385 W14103 W02556 W13157 W09749\n",
       "4           W17508 W18238 W02952 W18103\n",
       "Name: words, dtype: object"
      ]
     },
     "execution_count": 49,
     "metadata": {},
     "output_type": "execute_result"
    }
   ],
   "source": [
    "word_corpus.head(5)"
   ]
  },
  {
   "cell_type": "code",
   "execution_count": 50,
   "metadata": {
    "collapsed": true
   },
   "outputs": [],
   "source": [
    "word_vectorizer = TfidfVectorizer(lowercase=False)\n",
    "char_vectorizer = TfidfVectorizer(lowercase=False)\n",
    "word_tdmatrix = word_vectorizer.fit_transform(word_corpus)\n",
    "char_tdmatrix = char_vectorizer.fit_transform(char_corpus)"
   ]
  },
  {
   "cell_type": "code",
   "execution_count": 59,
   "metadata": {
    "collapsed": true,
    "scrolled": true
   },
   "outputs": [],
   "source": [
    "word_vectorizer_3 = TfidfVectorizer(lowercase=False,ngram_range=(1,5))\n",
    "word_tdmatrix_3 = word_vectorizer_3.fit_transform(char_corpus)"
   ]
  },
  {
   "cell_type": "code",
   "execution_count": 60,
   "metadata": {},
   "outputs": [
    {
     "data": {
      "text/plain": [
       "(728428, 2900616)"
      ]
     },
     "execution_count": 60,
     "metadata": {},
     "output_type": "execute_result"
    }
   ],
   "source": [
    "word_tdmatrix_3.shape"
   ]
  },
  {
   "cell_type": "code",
   "execution_count": 54,
   "metadata": {},
   "outputs": [
    {
     "data": {
      "text/plain": [
       "(728428, 1046082)"
      ]
     },
     "execution_count": 54,
     "metadata": {},
     "output_type": "execute_result"
    }
   ],
   "source": [
    "word_tdmatrix_3.shape"
   ]
  },
  {
   "cell_type": "code",
   "execution_count": 56,
   "metadata": {
    "collapsed": true
   },
   "outputs": [],
   "source": [
    "from sklearn.decomposition import TruncatedSVD\n",
    "word_svd_3 = TruncatedSVD(n_components=300,algorithm='randomized',n_iter=6)\n",
    "word_svd_3_res = word_svd_3.fit_transform(word_tdmatrix_3)"
   ]
  },
  {
   "cell_type": "code",
   "execution_count": 57,
   "metadata": {},
   "outputs": [
    {
     "data": {
      "text/plain": [
       "(728428, 300)"
      ]
     },
     "execution_count": 57,
     "metadata": {},
     "output_type": "execute_result"
    }
   ],
   "source": [
    "word_svd_3_res.shape"
   ]
  },
  {
   "cell_type": "code",
   "execution_count": null,
   "metadata": {
    "collapsed": true
   },
   "outputs": [],
   "source": [
    "from sklearn.metrics.pairwise import cosine_similarity,\\\n",
    "                                     polynomial_kernel,\\\n",
    "                                     sigmoid_kernel,\\\n",
    "                                     rbf_kernel,\\\n",
    "                                     laplacian_kernel,\\\n",
    "                                     chi2_kernel, \\\n",
    "                                     pairwise_distances\n",
    "rbf_kernel(word_tdmatrix[0],word_tdmatrix[1])"
   ]
  },
  {
   "cell_type": "code",
   "execution_count": null,
   "metadata": {
    "collapsed": true
   },
   "outputs": [],
   "source": [
    "t1 = pd.Series(range(10))\n",
    "t2 = pd.Series(range(10,-1,-1))\n",
    "print zip(t1,t2)"
   ]
  },
  {
   "cell_type": "code",
   "execution_count": null,
   "metadata": {
    "collapsed": true
   },
   "outputs": [],
   "source": [
    "c = [b[0],b[1],b[2]]\n",
    "print c\n",
    "d = pd.DataFrame(c)\n",
    "print d"
   ]
  },
  {
   "cell_type": "code",
   "execution_count": null,
   "metadata": {
    "collapsed": true
   },
   "outputs": [],
   "source": [
    "word_tdmatrix[0:1]"
   ]
  },
  {
   "cell_type": "code",
   "execution_count": null,
   "metadata": {
    "collapsed": true
   },
   "outputs": [],
   "source": [
    "from sklearn.metrics.pairwise import cosine_similarity,pairwise_distances\n",
    "\n",
    "pairwise_distances(word_tdmatrix[0],word_tdmatrix[0],metric=\"cityblock\")[0][0]"
   ]
  },
  {
   "cell_type": "code",
   "execution_count": null,
   "metadata": {
    "collapsed": true
   },
   "outputs": [],
   "source": [
    "class F(object):\n",
    "    @staticmethod\n",
    "    def reverse_dictionary(input_dict):\n",
    "        \"\"\"reverse the key-value pair into value-key pair\"\"\"\n",
    "        return {v:k for k,v in input_dict.items()}\n",
    "\n",
    "    @staticmethod\n",
    "    def softmax(arr):\n",
    "        e_x = np.exp(arr-np.max(arr))\n",
    "        return e_x/np.sum(e_x)\n",
    "F.softmax.__name__"
   ]
  },
  {
   "cell_type": "code",
   "execution_count": null,
   "metadata": {
    "collapsed": true
   },
   "outputs": [],
   "source": [
    "word_vectorizer2g = TfidfVectorizer(ngram_range=(1,2))\n",
    "\n",
    "word_tdmatrix2g = word_vectorizer2g.fit_transform(word_corpus)\n"
   ]
  },
  {
   "cell_type": "code",
   "execution_count": null,
   "metadata": {
    "collapsed": true
   },
   "outputs": [],
   "source": [
    "word_vectorizer2g.vocabulary_\n",
    "cnt=0\n",
    "for k,v in word_vectorizer2g.vocabulary_.items():\n",
    "    if \" \" not in k :\n",
    "        cnt+=1\n",
    "print cnt"
   ]
  },
  {
   "cell_type": "code",
   "execution_count": null,
   "metadata": {
    "collapsed": true
   },
   "outputs": [],
   "source": [
    "np.sum(b[0])"
   ]
  },
  {
   "cell_type": "code",
   "execution_count": null,
   "metadata": {
    "collapsed": true
   },
   "outputs": [],
   "source": [
    "q1words = question_df.iloc[0][\"words\"].split(\" \")\n",
    "q1word_index = [ word_vectorizer.vocabulary_[w] for w in q1words]\n",
    "np.array(np.asarray(word_tdmatrix[0,q1word_index].todense()).ravel())"
   ]
  },
  {
   "cell_type": "code",
   "execution_count": null,
   "metadata": {
    "collapsed": true
   },
   "outputs": [],
   "source": [
    "char_tdmatrix.shape"
   ]
  },
  {
   "cell_type": "code",
   "execution_count": null,
   "metadata": {
    "collapsed": true
   },
   "outputs": [],
   "source": [
    "word_vectorizer.vocabulary_"
   ]
  },
  {
   "cell_type": "code",
   "execution_count": null,
   "metadata": {
    "collapsed": true
   },
   "outputs": [],
   "source": [
    "def reverse_dict(dic):\n",
    "    return {v:k for k,v in dic.items()}"
   ]
  },
  {
   "cell_type": "code",
   "execution_count": null,
   "metadata": {
    "collapsed": true
   },
   "outputs": [],
   "source": [
    "len(reverse_dict(word_vectorizer.vocabulary_))"
   ]
  },
  {
   "cell_type": "code",
   "execution_count": null,
   "metadata": {
    "collapsed": true
   },
   "outputs": [],
   "source": [
    "from sklearn.decomposition import TruncatedSVD\n",
    "word_svd = TruncatedSVD(n_components=300,algorithm='arpack')\n",
    "word_svd_res = word_svd.fit_transform(word_tdmatrix)"
   ]
  },
  {
   "cell_type": "code",
   "execution_count": null,
   "metadata": {
    "collapsed": true
   },
   "outputs": [],
   "source": [
    "word_svd_res"
   ]
  },
  {
   "cell_type": "code",
   "execution_count": null,
   "metadata": {
    "collapsed": true
   },
   "outputs": [],
   "source": [
    "word_svd.components_"
   ]
  },
  {
   "cell_type": "code",
   "execution_count": null,
   "metadata": {
    "collapsed": true
   },
   "outputs": [],
   "source": [
    "word_svd.explained_variance_ratio_.sum()"
   ]
  },
  {
   "cell_type": "code",
   "execution_count": null,
   "metadata": {
    "collapsed": true
   },
   "outputs": [],
   "source": [
    "word_svd_res"
   ]
  },
  {
   "cell_type": "code",
   "execution_count": null,
   "metadata": {
    "collapsed": true
   },
   "outputs": [],
   "source": [
    "print word_embed_df.loc[[\"W00000\",\"W00002\"]].values"
   ]
  },
  {
   "cell_type": "code",
   "execution_count": null,
   "metadata": {
    "collapsed": true
   },
   "outputs": [],
   "source": [
    "a = pd.DataFrame(np.arange(16).reshape(4,4))\n",
    "b = a.values\n",
    "b.mean(axis=0)\n",
    "b.sum(axis=0)"
   ]
  },
  {
   "cell_type": "code",
   "execution_count": null,
   "metadata": {
    "collapsed": true
   },
   "outputs": [],
   "source": [
    "b"
   ]
  },
  {
   "cell_type": "code",
   "execution_count": null,
   "metadata": {
    "collapsed": true
   },
   "outputs": [],
   "source": [
    "b[0,[1,2]]"
   ]
  },
  {
   "cell_type": "code",
   "execution_count": null,
   "metadata": {
    "collapsed": true
   },
   "outputs": [],
   "source": [
    "c = np.array([np.array([1,2]),np.array([3,4])])\n",
    "c.shape"
   ]
  },
  {
   "cell_type": "code",
   "execution_count": null,
   "metadata": {
    "collapsed": true
   },
   "outputs": [],
   "source": [
    "question_df.iloc[0][\"words\"].split(\" \")"
   ]
  },
  {
   "cell_type": "code",
   "execution_count": null,
   "metadata": {
    "collapsed": true
   },
   "outputs": [],
   "source": [
    "w = [1,0,2,0]\n",
    "w = np.array(w).reshape(-1,1)"
   ]
  },
  {
   "cell_type": "code",
   "execution_count": null,
   "metadata": {
    "collapsed": true
   },
   "outputs": [],
   "source": [
    "w"
   ]
  },
  {
   "cell_type": "code",
   "execution_count": null,
   "metadata": {
    "collapsed": true
   },
   "outputs": [],
   "source": [
    "(b*w).mean(axis=0)"
   ]
  },
  {
   "cell_type": "code",
   "execution_count": null,
   "metadata": {
    "collapsed": true
   },
   "outputs": [],
   "source": [
    "b.mean(axis=0)"
   ]
  },
  {
   "cell_type": "code",
   "execution_count": null,
   "metadata": {
    "collapsed": true
   },
   "outputs": [],
   "source": [
    "W04465 W04058 W05284 W02916\n",
    "W18238 W18843 W01490 W09905"
   ]
  },
  {
   "cell_type": "code",
   "execution_count": null,
   "metadata": {
    "collapsed": true
   },
   "outputs": [],
   "source": [
    "W12908 W19355 W08041 W06040 W18399 W01773 W16319\n",
    "W12908 W06112 W08041 W17342"
   ]
  },
  {
   "cell_type": "code",
   "execution_count": null,
   "metadata": {
    "collapsed": true
   },
   "outputs": [],
   "source": [
    "from nltk import ngrams\n",
    "def get_n_gram(s,n):\n",
    "    grams = ngrams(s.split(), n)\n",
    "    grams = [' '.join(x) for x in grams]\n",
    "    return grams\n",
    "print get_n_gram(\"I love I you\",5)"
   ]
  },
  {
   "cell_type": "code",
   "execution_count": null,
   "metadata": {
    "collapsed": true
   },
   "outputs": [],
   "source": [
    "400000*400000*4/1024/1024/1024\n"
   ]
  },
  {
   "cell_type": "code",
   "execution_count": null,
   "metadata": {
    "collapsed": true
   },
   "outputs": [],
   "source": [
    "question_df_test = pd.read_csv(question_path,index_col=0)"
   ]
  },
  {
   "cell_type": "code",
   "execution_count": null,
   "metadata": {
    "collapsed": true,
    "scrolled": true
   },
   "outputs": [],
   "source": [
    "question_df_test[\"chars\"]"
   ]
  },
  {
   "cell_type": "code",
   "execution_count": null,
   "metadata": {
    "collapsed": true
   },
   "outputs": [],
   "source": [
    "question_df_test"
   ]
  },
  {
   "cell_type": "code",
   "execution_count": null,
   "metadata": {
    "collapsed": true
   },
   "outputs": [],
   "source": [
    "from scipy.spatial import distance\n",
    "distance.canberra([1, 0, 0], [0, 1, 0])"
   ]
  },
  {
   "cell_type": "code",
   "execution_count": null,
   "metadata": {
    "collapsed": true
   },
   "outputs": [],
   "source": [
    "a=[]\n",
    "a.extend(np.array([1,2,3,4]))\n",
    "a"
   ]
  },
  {
   "cell_type": "code",
   "execution_count": null,
   "metadata": {
    "collapsed": true
   },
   "outputs": [],
   "source": [
    "from math import mean"
   ]
  },
  {
   "cell_type": "code",
   "execution_count": null,
   "metadata": {
    "collapsed": true
   },
   "outputs": [],
   "source": [
    "class F(object):\n",
    "    class common_n(object):\n",
    "        def __init__(self,n):\n",
    "            self.n = n\n",
    "            self.__name__=\"aadf\" + str(n)\n",
    "        def __call__(self,m):\n",
    "            print self.n+m\n",
    "a = F.common_n(45)\n",
    "print a.__name__\n",
    "a(55)"
   ]
  },
  {
   "cell_type": "code",
   "execution_count": null,
   "metadata": {
    "collapsed": true
   },
   "outputs": [],
   "source": [
    "b=F.common_n(3)\n",
    "print b.__name__\n",
    "b(4)"
   ]
  },
  {
   "cell_type": "code",
   "execution_count": null,
   "metadata": {
    "collapsed": true
   },
   "outputs": [],
   "source": [
    "def common_n_gram(n):\n",
    "    n = n\n",
    "    def add(m):\n",
    "        print n+m\n",
    "    return add"
   ]
  },
  {
   "cell_type": "code",
   "execution_count": null,
   "metadata": {
    "collapsed": true
   },
   "outputs": [],
   "source": [
    "a=common_n_gram(4)"
   ]
  },
  {
   "cell_type": "code",
   "execution_count": null,
   "metadata": {
    "collapsed": true
   },
   "outputs": [],
   "source": [
    "def rename(newname):\n",
    "    def decorator(f):\n",
    "        f.__name__ = newname\n",
    "        return f\n",
    "    return decorator"
   ]
  },
  {
   "cell_type": "code",
   "execution_count": null,
   "metadata": {
    "collapsed": true
   },
   "outputs": [],
   "source": [
    "a=rename(\"aaa\")(a)"
   ]
  },
  {
   "cell_type": "code",
   "execution_count": null,
   "metadata": {
    "collapsed": true
   },
   "outputs": [],
   "source": [
    "a(5)"
   ]
  },
  {
   "cell_type": "code",
   "execution_count": null,
   "metadata": {
    "collapsed": true
   },
   "outputs": [],
   "source": [
    "a.__name__"
   ]
  },
  {
   "cell_type": "code",
   "execution_count": null,
   "metadata": {
    "collapsed": true
   },
   "outputs": [],
   "source": [
    "import string \n",
    "string.printable"
   ]
  },
  {
   "cell_type": "code",
   "execution_count": null,
   "metadata": {
    "collapsed": true
   },
   "outputs": [],
   "source": [
    "def levenshtein(s1, s2):\n",
    "        if len(s1) < len(s2):\n",
    "            return levenshtein(s2, s1)\n",
    "\n",
    "        # len(s1) >= len(s2)\n",
    "        if len(s2) == 0:\n",
    "            return len(s1)\n",
    "\n",
    "        previous_row = range(len(s2) + 1)\n",
    "        for i, c1 in enumerate(s1):\n",
    "            current_row = [i + 1]\n",
    "            for j, c2 in enumerate(s2):\n",
    "                insertions = previous_row[j + 1] + 1  # j+1 instead of j since previous_row and current_row are one character longer\n",
    "                deletions = current_row[j] + 1  # than s2\n",
    "                substitutions = previous_row[j] + (c1 != c2)\n",
    "                current_row.append(min(insertions, deletions, substitutions))\n",
    "            previous_row = current_row\n",
    "        return previous_row[-1]"
   ]
  },
  {
   "cell_type": "code",
   "execution_count": null,
   "metadata": {
    "collapsed": true
   },
   "outputs": [],
   "source": [
    "levenshtein(\"bM\",\"bmfff\")"
   ]
  },
  {
   "cell_type": "code",
   "execution_count": null,
   "metadata": {
    "collapsed": true
   },
   "outputs": [],
   "source": [
    "a={}\n",
    "a.setdefault(1,2)"
   ]
  },
  {
   "cell_type": "code",
   "execution_count": null,
   "metadata": {
    "collapsed": true
   },
   "outputs": [],
   "source": [
    "a"
   ]
  },
  {
   "cell_type": "code",
   "execution_count": null,
   "metadata": {
    "collapsed": true
   },
   "outputs": [],
   "source": [
    "a.setdefault(1,3)"
   ]
  },
  {
   "cell_type": "code",
   "execution_count": null,
   "metadata": {
    "collapsed": true
   },
   "outputs": [],
   "source": [
    "c = np.array(c)"
   ]
  },
  {
   "cell_type": "code",
   "execution_count": null,
   "metadata": {
    "collapsed": true
   },
   "outputs": [],
   "source": [
    "c"
   ]
  },
  {
   "cell_type": "code",
   "execution_count": null,
   "metadata": {
    "collapsed": true
   },
   "outputs": [],
   "source": [
    "c.min(axis=1).sum()"
   ]
  },
  {
   "cell_type": "code",
   "execution_count": null,
   "metadata": {
    "collapsed": true
   },
   "outputs": [],
   "source": [
    "word_embed_df.loc[[\"W20875\"]].values"
   ]
  },
  {
   "cell_type": "code",
   "execution_count": 37,
   "metadata": {
    "collapsed": true
   },
   "outputs": [],
   "source": [
    "a = pd.DataFrame(np.arange(16).reshape(4,4))\n",
    "b = pd.DataFrame(np.arange(16).reshape(4,4))"
   ]
  },
  {
   "cell_type": "code",
   "execution_count": 38,
   "metadata": {
    "collapsed": true
   },
   "outputs": [],
   "source": [
    "a.index=[0,1,2,3]"
   ]
  },
  {
   "cell_type": "code",
   "execution_count": 39,
   "metadata": {},
   "outputs": [
    {
     "data": {
      "text/html": [
       "<div>\n",
       "<style>\n",
       "    .dataframe thead tr:only-child th {\n",
       "        text-align: right;\n",
       "    }\n",
       "\n",
       "    .dataframe thead th {\n",
       "        text-align: left;\n",
       "    }\n",
       "\n",
       "    .dataframe tbody tr th {\n",
       "        vertical-align: top;\n",
       "    }\n",
       "</style>\n",
       "<table border=\"1\" class=\"dataframe\">\n",
       "  <thead>\n",
       "    <tr style=\"text-align: right;\">\n",
       "      <th></th>\n",
       "      <th>0</th>\n",
       "      <th>1</th>\n",
       "      <th>2</th>\n",
       "      <th>3</th>\n",
       "    </tr>\n",
       "  </thead>\n",
       "  <tbody>\n",
       "    <tr>\n",
       "      <th>0</th>\n",
       "      <td>0</td>\n",
       "      <td>1</td>\n",
       "      <td>2</td>\n",
       "      <td>3</td>\n",
       "    </tr>\n",
       "    <tr>\n",
       "      <th>1</th>\n",
       "      <td>4</td>\n",
       "      <td>5</td>\n",
       "      <td>6</td>\n",
       "      <td>7</td>\n",
       "    </tr>\n",
       "    <tr>\n",
       "      <th>2</th>\n",
       "      <td>8</td>\n",
       "      <td>9</td>\n",
       "      <td>10</td>\n",
       "      <td>11</td>\n",
       "    </tr>\n",
       "    <tr>\n",
       "      <th>3</th>\n",
       "      <td>12</td>\n",
       "      <td>13</td>\n",
       "      <td>14</td>\n",
       "      <td>15</td>\n",
       "    </tr>\n",
       "  </tbody>\n",
       "</table>\n",
       "</div>"
      ],
      "text/plain": [
       "    0   1   2   3\n",
       "0   0   1   2   3\n",
       "1   4   5   6   7\n",
       "2   8   9  10  11\n",
       "3  12  13  14  15"
      ]
     },
     "execution_count": 39,
     "metadata": {},
     "output_type": "execute_result"
    }
   ],
   "source": [
    "b"
   ]
  },
  {
   "cell_type": "code",
   "execution_count": 40,
   "metadata": {},
   "outputs": [
    {
     "data": {
      "text/html": [
       "<div>\n",
       "<style>\n",
       "    .dataframe thead tr:only-child th {\n",
       "        text-align: right;\n",
       "    }\n",
       "\n",
       "    .dataframe thead th {\n",
       "        text-align: left;\n",
       "    }\n",
       "\n",
       "    .dataframe tbody tr th {\n",
       "        vertical-align: top;\n",
       "    }\n",
       "</style>\n",
       "<table border=\"1\" class=\"dataframe\">\n",
       "  <thead>\n",
       "    <tr style=\"text-align: right;\">\n",
       "      <th></th>\n",
       "      <th>0</th>\n",
       "      <th>1</th>\n",
       "      <th>2</th>\n",
       "      <th>3</th>\n",
       "      <th>4</th>\n",
       "      <th>5</th>\n",
       "      <th>6</th>\n",
       "      <th>7</th>\n",
       "    </tr>\n",
       "  </thead>\n",
       "  <tbody>\n",
       "    <tr>\n",
       "      <th>0</th>\n",
       "      <td>0</td>\n",
       "      <td>1</td>\n",
       "      <td>2</td>\n",
       "      <td>3</td>\n",
       "      <td>0</td>\n",
       "      <td>1</td>\n",
       "      <td>2</td>\n",
       "      <td>3</td>\n",
       "    </tr>\n",
       "    <tr>\n",
       "      <th>1</th>\n",
       "      <td>4</td>\n",
       "      <td>5</td>\n",
       "      <td>6</td>\n",
       "      <td>7</td>\n",
       "      <td>4</td>\n",
       "      <td>5</td>\n",
       "      <td>6</td>\n",
       "      <td>7</td>\n",
       "    </tr>\n",
       "    <tr>\n",
       "      <th>2</th>\n",
       "      <td>8</td>\n",
       "      <td>9</td>\n",
       "      <td>10</td>\n",
       "      <td>11</td>\n",
       "      <td>8</td>\n",
       "      <td>9</td>\n",
       "      <td>10</td>\n",
       "      <td>11</td>\n",
       "    </tr>\n",
       "    <tr>\n",
       "      <th>3</th>\n",
       "      <td>12</td>\n",
       "      <td>13</td>\n",
       "      <td>14</td>\n",
       "      <td>15</td>\n",
       "      <td>12</td>\n",
       "      <td>13</td>\n",
       "      <td>14</td>\n",
       "      <td>15</td>\n",
       "    </tr>\n",
       "  </tbody>\n",
       "</table>\n",
       "</div>"
      ],
      "text/plain": [
       "    0   1   2   3   4   5   6   7\n",
       "0   0   1   2   3   0   1   2   3\n",
       "1   4   5   6   7   4   5   6   7\n",
       "2   8   9  10  11   8   9  10  11\n",
       "3  12  13  14  15  12  13  14  15"
      ]
     },
     "execution_count": 40,
     "metadata": {},
     "output_type": "execute_result"
    }
   ],
   "source": [
    "pd.concat([a,b],ignore_index=True,axis=1)"
   ]
  },
  {
   "cell_type": "code",
   "execution_count": 173,
   "metadata": {
    "collapsed": true
   },
   "outputs": [],
   "source": [
    "from torch.utils.data import Dataset, DataLoader\n",
    "class PaddedTensorDataset(Dataset):\n",
    "    def __init__(self, data_tensor, target_tensor):\n",
    "        assert len(data_tensor)==len(target_tensor)\n",
    "        self.data_tensor = data_tensor\n",
    "        self.target_tensor = target_tensor\n",
    "\n",
    "    def __getitem__(self, index):\n",
    "        return self.data_tensor[index], self.target_tensor[index]\n",
    "\n",
    "    def __len__(self):\n",
    "        return len(self.data_tensor)\n",
    "def generate():\n",
    "    l1 = [1,2,3,4]\n",
    "    l2 = [3,4,5,6]\n",
    "    l3 = [5,6,7,8]\n",
    "    l = [l1,l2,l3]\n",
    "    a = [0,1]\n",
    "    for ind in a:\n",
    "        print ind\n",
    "        li = l[ind]\n",
    "        li1 = l[ind+1]\n",
    "        print li\n",
    "        for r in torch.utils.data.DataLoader(PaddedTensorDataset(li,li1),batch_size=2,shuffle=True):\n",
    "            yield r"
   ]
  },
  {
   "cell_type": "code",
   "execution_count": 174,
   "metadata": {
    "collapsed": true
   },
   "outputs": [],
   "source": [
    "my_generate = generate()\n"
   ]
  },
  {
   "cell_type": "code",
   "execution_count": 175,
   "metadata": {},
   "outputs": [
    {
     "name": "stdout",
     "output_type": "stream",
     "text": [
      "0\n",
      "[1, 2, 3, 4]\n",
      "tensor([ 2,  3]) tensor([ 4,  5])\n",
      "tensor([ 4,  1]) tensor([ 6,  3])\n",
      "1\n",
      "[3, 4, 5, 6]\n",
      "tensor([ 5,  3]) tensor([ 7,  5])\n",
      "tensor([ 4,  6]) tensor([ 6,  8])\n"
     ]
    }
   ],
   "source": [
    "for i1,i2 in my_generate:\n",
    "    print i1,i2\n",
    "    "
   ]
  },
  {
   "cell_type": "code",
   "execution_count": 176,
   "metadata": {},
   "outputs": [
    {
     "name": "stdout",
     "output_type": "stream",
     "text": [
      "0\n",
      "[1, 2, 3, 4]\n",
      "[tensor([ 3,  1]), tensor([ 5,  3])]\n",
      "[tensor([ 2,  4]), tensor([ 4,  6])]\n",
      "1\n",
      "[3, 4, 5, 6]\n",
      "[tensor([ 3,  5]), tensor([ 5,  7])]\n",
      "[tensor([ 6,  4]), tensor([ 8,  6])]\n"
     ]
    }
   ],
   "source": [
    "x = generate()\n",
    "for ii in x:\n",
    "    print ii"
   ]
  },
  {
   "cell_type": "code",
   "execution_count": 178,
   "metadata": {},
   "outputs": [
    {
     "data": {
      "text/html": [
       "<div>\n",
       "<style>\n",
       "    .dataframe thead tr:only-child th {\n",
       "        text-align: right;\n",
       "    }\n",
       "\n",
       "    .dataframe thead th {\n",
       "        text-align: left;\n",
       "    }\n",
       "\n",
       "    .dataframe tbody tr th {\n",
       "        vertical-align: top;\n",
       "    }\n",
       "</style>\n",
       "<table border=\"1\" class=\"dataframe\">\n",
       "  <thead>\n",
       "    <tr style=\"text-align: right;\">\n",
       "      <th></th>\n",
       "      <th>a</th>\n",
       "      <th>b</th>\n",
       "      <th>c</th>\n",
       "      <th>d</th>\n",
       "    </tr>\n",
       "  </thead>\n",
       "  <tbody>\n",
       "    <tr>\n",
       "      <th>a</th>\n",
       "      <td>0</td>\n",
       "      <td>1</td>\n",
       "      <td>2</td>\n",
       "      <td>3</td>\n",
       "    </tr>\n",
       "    <tr>\n",
       "      <th>b</th>\n",
       "      <td>4</td>\n",
       "      <td>5</td>\n",
       "      <td>6</td>\n",
       "      <td>7</td>\n",
       "    </tr>\n",
       "    <tr>\n",
       "      <th>c</th>\n",
       "      <td>8</td>\n",
       "      <td>9</td>\n",
       "      <td>10</td>\n",
       "      <td>11</td>\n",
       "    </tr>\n",
       "    <tr>\n",
       "      <th>d</th>\n",
       "      <td>12</td>\n",
       "      <td>13</td>\n",
       "      <td>14</td>\n",
       "      <td>15</td>\n",
       "    </tr>\n",
       "  </tbody>\n",
       "</table>\n",
       "</div>"
      ],
      "text/plain": [
       "    a   b   c   d\n",
       "a   0   1   2   3\n",
       "b   4   5   6   7\n",
       "c   8   9  10  11\n",
       "d  12  13  14  15"
      ]
     },
     "execution_count": 178,
     "metadata": {},
     "output_type": "execute_result"
    }
   ],
   "source": [
    "a = pd.DataFrame(np.arange(16).reshape(4,4),index=[\"a\",\"b\",\"c\",\"d\"],columns=[\"a\",\"b\",\"c\",\"d\"])\n",
    "a"
   ]
  },
  {
   "cell_type": "code",
   "execution_count": 182,
   "metadata": {
    "collapsed": true
   },
   "outputs": [],
   "source": [
    "term_embed = DataSet.load_term_embed(\"words\")\n",
    "pad = np.array([0]*300).reshape(1,-1)\n",
    "all_emb = np.vstack([pad,term_embed])"
   ]
  },
  {
   "cell_type": "code",
   "execution_count": 183,
   "metadata": {},
   "outputs": [
    {
     "data": {
      "text/plain": [
       "array([[ 0.        ,  0.        ,  0.        , ...,  0.        ,\n",
       "         0.        ,  0.        ],\n",
       "       [ 0.1693155 , -0.06389757,  0.11528583, ..., -0.12778564,\n",
       "         0.11059313, -0.1710843 ],\n",
       "       [ 1.54821229, -1.05277574,  1.1926316 , ..., -1.46445835,\n",
       "        -0.3617923 ,  0.94332248],\n",
       "       ..., \n",
       "       [ 0.50905675,  0.06827735, -0.45803377, ...,  0.24286361,\n",
       "        -0.37945619, -0.39816865],\n",
       "       [-2.19903612, -0.4767417 ,  0.80386728, ...,  3.24631023,\n",
       "         1.89588535, -5.07398033],\n",
       "       [ 3.32320619, -1.03367436, -1.71298325, ..., -0.37402841,\n",
       "         0.27100787, -0.45834464]])"
      ]
     },
     "execution_count": 183,
     "metadata": {},
     "output_type": "execute_result"
    }
   ],
   "source": [
    "all_emb"
   ]
  },
  {
   "cell_type": "code",
   "execution_count": 189,
   "metadata": {
    "collapsed": true
   },
   "outputs": [],
   "source": [
    "all_emb_df = pd.DataFrame(all_emb,index=[\"pad\"]+term_embed.index.values.tolist())"
   ]
  },
  {
   "cell_type": "code",
   "execution_count": 192,
   "metadata": {},
   "outputs": [
    {
     "data": {
      "text/html": [
       "<div>\n",
       "<style>\n",
       "    .dataframe thead tr:only-child th {\n",
       "        text-align: right;\n",
       "    }\n",
       "\n",
       "    .dataframe thead th {\n",
       "        text-align: left;\n",
       "    }\n",
       "\n",
       "    .dataframe tbody tr th {\n",
       "        vertical-align: top;\n",
       "    }\n",
       "</style>\n",
       "<table border=\"1\" class=\"dataframe\">\n",
       "  <thead>\n",
       "    <tr style=\"text-align: right;\">\n",
       "      <th></th>\n",
       "      <th>0</th>\n",
       "      <th>1</th>\n",
       "      <th>2</th>\n",
       "      <th>3</th>\n",
       "      <th>4</th>\n",
       "      <th>5</th>\n",
       "      <th>6</th>\n",
       "      <th>7</th>\n",
       "      <th>8</th>\n",
       "      <th>9</th>\n",
       "      <th>...</th>\n",
       "      <th>290</th>\n",
       "      <th>291</th>\n",
       "      <th>292</th>\n",
       "      <th>293</th>\n",
       "      <th>294</th>\n",
       "      <th>295</th>\n",
       "      <th>296</th>\n",
       "      <th>297</th>\n",
       "      <th>298</th>\n",
       "      <th>299</th>\n",
       "    </tr>\n",
       "  </thead>\n",
       "  <tbody>\n",
       "    <tr>\n",
       "      <th>W00003</th>\n",
       "      <td>-1.407966</td>\n",
       "      <td>0.034697</td>\n",
       "      <td>-2.333980</td>\n",
       "      <td>1.991531</td>\n",
       "      <td>-0.073803</td>\n",
       "      <td>-0.966899</td>\n",
       "      <td>-0.926573</td>\n",
       "      <td>-2.161519</td>\n",
       "      <td>0.961513</td>\n",
       "      <td>0.382619</td>\n",
       "      <td>...</td>\n",
       "      <td>0.547399</td>\n",
       "      <td>1.300992</td>\n",
       "      <td>1.893234</td>\n",
       "      <td>0.833304</td>\n",
       "      <td>-0.531153</td>\n",
       "      <td>1.249110</td>\n",
       "      <td>-0.959852</td>\n",
       "      <td>2.486905</td>\n",
       "      <td>0.925652</td>\n",
       "      <td>-0.676427</td>\n",
       "    </tr>\n",
       "    <tr>\n",
       "      <th>W00000</th>\n",
       "      <td>0.169316</td>\n",
       "      <td>-0.063898</td>\n",
       "      <td>0.115286</td>\n",
       "      <td>-0.077671</td>\n",
       "      <td>0.067184</td>\n",
       "      <td>0.019339</td>\n",
       "      <td>0.039596</td>\n",
       "      <td>-0.026229</td>\n",
       "      <td>-0.160078</td>\n",
       "      <td>-0.054329</td>\n",
       "      <td>...</td>\n",
       "      <td>0.061151</td>\n",
       "      <td>0.044519</td>\n",
       "      <td>-0.194827</td>\n",
       "      <td>0.122456</td>\n",
       "      <td>0.122785</td>\n",
       "      <td>-0.154153</td>\n",
       "      <td>-0.116578</td>\n",
       "      <td>-0.127786</td>\n",
       "      <td>0.110593</td>\n",
       "      <td>-0.171084</td>\n",
       "    </tr>\n",
       "    <tr>\n",
       "      <th>W00001</th>\n",
       "      <td>1.548212</td>\n",
       "      <td>-1.052776</td>\n",
       "      <td>1.192632</td>\n",
       "      <td>0.760363</td>\n",
       "      <td>1.594398</td>\n",
       "      <td>1.478917</td>\n",
       "      <td>-1.555349</td>\n",
       "      <td>0.401968</td>\n",
       "      <td>1.588316</td>\n",
       "      <td>2.460358</td>\n",
       "      <td>...</td>\n",
       "      <td>-1.898932</td>\n",
       "      <td>0.129864</td>\n",
       "      <td>-2.062325</td>\n",
       "      <td>0.068316</td>\n",
       "      <td>0.540282</td>\n",
       "      <td>-1.682620</td>\n",
       "      <td>-0.816290</td>\n",
       "      <td>-1.464458</td>\n",
       "      <td>-0.361792</td>\n",
       "      <td>0.943322</td>\n",
       "    </tr>\n",
       "  </tbody>\n",
       "</table>\n",
       "<p>3 rows × 300 columns</p>\n",
       "</div>"
      ],
      "text/plain": [
       "             0         1         2         3         4         5         6    \\\n",
       "W00003 -1.407966  0.034697 -2.333980  1.991531 -0.073803 -0.966899 -0.926573   \n",
       "W00000  0.169316 -0.063898  0.115286 -0.077671  0.067184  0.019339  0.039596   \n",
       "W00001  1.548212 -1.052776  1.192632  0.760363  1.594398  1.478917 -1.555349   \n",
       "\n",
       "             7         8         9      ...          290       291       292  \\\n",
       "W00003 -2.161519  0.961513  0.382619    ...     0.547399  1.300992  1.893234   \n",
       "W00000 -0.026229 -0.160078 -0.054329    ...     0.061151  0.044519 -0.194827   \n",
       "W00001  0.401968  1.588316  2.460358    ...    -1.898932  0.129864 -2.062325   \n",
       "\n",
       "             293       294       295       296       297       298       299  \n",
       "W00003  0.833304 -0.531153  1.249110 -0.959852  2.486905  0.925652 -0.676427  \n",
       "W00000  0.122456  0.122785 -0.154153 -0.116578 -0.127786  0.110593 -0.171084  \n",
       "W00001  0.068316  0.540282 -1.682620 -0.816290 -1.464458 -0.361792  0.943322  \n",
       "\n",
       "[3 rows x 300 columns]"
      ]
     },
     "execution_count": 192,
     "metadata": {},
     "output_type": "execute_result"
    }
   ],
   "source": [
    "all_emb_df.loc[[\"W00003\",\"W00000\",\"W00001\"]]"
   ]
  },
  {
   "cell_type": "code",
   "execution_count": 16,
   "metadata": {
    "collapsed": true
   },
   "outputs": [],
   "source": [
    "from feature_engineering.util import DataSet\n",
    "import sys\n",
    "sys.path.append(\"../\")\n",
    "from feature_engineering.util import *\n",
    "from Siamese_CNN_v1.data import *"
   ]
  },
  {
   "cell_type": "code",
   "execution_count": 17,
   "metadata": {},
   "outputs": [
    {
     "name": "stdout",
     "output_type": "stream",
     "text": [
      "Generating intermediate files...\n",
      "for words\n",
      "for chars\n",
      "finish generating inter files.\n",
      "begin caching..\n",
      "finish caching\n"
     ]
    }
   ],
   "source": [
    "dl = DataGenerator()"
   ]
  },
  {
   "cell_type": "code",
   "execution_count": 18,
   "metadata": {
    "collapsed": true
   },
   "outputs": [],
   "source": [
    "train = DataSet.load_train()\n",
    "from sklearn.model_selection import train_test_split\n",
    "\n",
    "xtr, xte = train_test_split(train, test_size=0.33)"
   ]
  },
  {
   "cell_type": "code",
   "execution_count": 19,
   "metadata": {},
   "outputs": [
    {
     "data": {
      "text/plain": [
       "(170438, 7)"
      ]
     },
     "execution_count": 19,
     "metadata": {},
     "output_type": "execute_result"
    }
   ],
   "source": [
    "xtr.shape"
   ]
  },
  {
   "cell_type": "code",
   "execution_count": 24,
   "metadata": {
    "scrolled": true
   },
   "outputs": [
    {
     "name": "stdout",
     "output_type": "stream",
     "text": [
      "prepare necessary data...\n",
      "170438\n",
      "prepare done.\n"
     ]
    }
   ],
   "source": [
    "dl.prepare(xtr,5,\"words\",True,False)"
   ]
  },
  {
   "cell_type": "code",
   "execution_count": 21,
   "metadata": {
    "collapsed": true
   },
   "outputs": [],
   "source": [
    "tr_g = dl.get_data_generator(True,20)"
   ]
  },
  {
   "cell_type": "code",
   "execution_count": 27,
   "metadata": {},
   "outputs": [
    {
     "data": {
      "text/plain": [
       "dict_keys([0, 2, 3, 1, 4])"
      ]
     },
     "execution_count": 27,
     "metadata": {},
     "output_type": "execute_result"
    }
   ],
   "source": [
    "dl.buckets.keys()"
   ]
  },
  {
   "cell_type": "code",
   "execution_count": 25,
   "metadata": {},
   "outputs": [
    {
     "data": {
      "text/plain": [
       "5"
      ]
     },
     "execution_count": 25,
     "metadata": {},
     "output_type": "execute_result"
    }
   ],
   "source": [
    "min(dl.bounds)"
   ]
  },
  {
   "cell_type": "code",
   "execution_count": 22,
   "metadata": {
    "collapsed": true
   },
   "outputs": [],
   "source": [
    "d,i,l = next(tr_g)"
   ]
  },
  {
   "cell_type": "code",
   "execution_count": 23,
   "metadata": {
    "scrolled": false
   },
   "outputs": [
    {
     "data": {
      "text/plain": [
       "tensor([[   30,     6,    80,    25,    88,   102,   458,     0,     0,\n",
       "            57,    88,     6,    40,    80],\n",
       "        [    0,     0,   164,    18,    40,    60,  9689,    35,   324,\n",
       "           158,   761,   641,   362,  1287],\n",
       "        [   85,   763,    87,     6,    25,     9,   255,     9,    24,\n",
       "            25,   173,    16,    33,   138],\n",
       "        [   20,   238,   622,   227,    24,    37,    10,     0,     0,\n",
       "             6,   187,    44,    37,   457],\n",
       "        [    0,     0,     0,   321,   188,   102,    80,     6,     7,\n",
       "           138,   147,    73,    25,  1468],\n",
       "        [    0,     0,     0,  1028,   757,    59,  1029,    55,  1709,\n",
       "            25,    19,   216,   217,    10],\n",
       "        [   88,     2,     3,  1642,   742,  1845,     9,     0,     0,\n",
       "             0,    82,   691,   458,    66],\n",
       "        [    0,     0,     6,     2,     3,    60,    29,    99,     1,\n",
       "           288,   104,   171,    65,    60],\n",
       "        [    0,   155,   156,   126,   267,   617,     5,   484,   458,\n",
       "           126,   571,   845,    25,   225],\n",
       "        [  388,   607,     2,   126,    99,    18,     5,    73,  3208,\n",
       "          1676,    55,  1275,    37,     5],\n",
       "        [ 1432,   192,    16,  2268,    25,   216,   217,    19,  3220,\n",
       "           216,   217,    21,  6017,    38],\n",
       "        [    0,     0,   225,   530,    90,    70,  1009,  2088,  2089,\n",
       "          3822,   844,   115,   235,     5],\n",
       "        [    0,    21,    51,     8,   109,  2361,    23,     6,    25,\n",
       "            58,   674,   109,    97,    23],\n",
       "        [    0,     0,     0,   155,   156,   102,   383,    90,     1,\n",
       "          2371,     5,   458,   126,   571],\n",
       "        [    6,   321,    37,   557,   288,   264,    38,     0,     0,\n",
       "           162,   548,     6,     2,   434],\n",
       "        [    1,   638,    59,  7160,  3977,   139,   140,     0,   458,\n",
       "           126,   984,   155,   156,  2581],\n",
       "        [    0,     0,     0,    96,     1,    35,   492,    16,  5411,\n",
       "            70,  1802,   468,    99,     1],\n",
       "        [    0,     0,     6,    25,    88,    32,   128,    66,    45,\n",
       "            72,     6,    25,   173,     5],\n",
       "        [   88,    97,    72,   128,    21,  2954,     9,     0,    58,\n",
       "            62,    63,   351,    72,   128],\n",
       "        [    0,    20,    28,    63,    45,   142,    23,    28,   326,\n",
       "            91,     6,    25,    55,   154]])"
      ]
     },
     "execution_count": 23,
     "metadata": {},
     "output_type": "execute_result"
    }
   ],
   "source": [
    "d"
   ]
  },
  {
   "cell_type": "code",
   "execution_count": 24,
   "metadata": {
    "scrolled": true
   },
   "outputs": [
    {
     "data": {
      "text/plain": [
       "tensor([ 0,  0,  1,  1,  0,  0,  0,  1,  0,  0,  0,  0,  0,  0,\n",
       "         1,  0,  1,  1,  1,  0])"
      ]
     },
     "execution_count": 24,
     "metadata": {},
     "output_type": "execute_result"
    }
   ],
   "source": [
    "i"
   ]
  },
  {
   "cell_type": "code",
   "execution_count": 25,
   "metadata": {
    "scrolled": true
   },
   "outputs": [
    {
     "data": {
      "text/plain": [
       "tensor([ 2.3230e+03,  5.3238e+04,  6.5379e+04,  4.1425e+04,  1.6250e+05,\n",
       "         4.7647e+04,  1.3221e+05,  6.2131e+04,  4.2490e+03,  5.7411e+04,\n",
       "         4.9080e+04,  6.2289e+04,  7.9331e+04,  4.9267e+04,  1.5516e+05,\n",
       "         3.5942e+04,  3.4103e+04,  1.0099e+05,  4.1770e+04,  1.6073e+05])"
      ]
     },
     "execution_count": 25,
     "metadata": {},
     "output_type": "execute_result"
    }
   ],
   "source": [
    "l"
   ]
  },
  {
   "cell_type": "code",
   "execution_count": 38,
   "metadata": {},
   "outputs": [
    {
     "data": {
      "text/plain": [
       "array([  2323,  53238,  65379,  41425, 162503,  47647, 132209,  62131,\n",
       "         4249,  57411,  49080,  62289,  79331,  49267, 155158,  35942,\n",
       "        34103, 100986,  41770, 160734])"
      ]
     },
     "execution_count": 38,
     "metadata": {},
     "output_type": "execute_result"
    }
   ],
   "source": [
    "l.numpy()"
   ]
  },
  {
   "cell_type": "code",
   "execution_count": 39,
   "metadata": {
    "scrolled": true
   },
   "outputs": [
    {
     "data": {
      "text/plain": [
       "label                0\n",
       "q1             Q204863\n",
       "q2             Q355735\n",
       "word_len_q1          7\n",
       "word_len_q2          6\n",
       "char_len_q1         14\n",
       "char_len_q2         11\n",
       "Name: 221302, dtype: object"
      ]
     },
     "execution_count": 39,
     "metadata": {},
     "output_type": "execute_result"
    }
   ],
   "source": [
    "first = xtr.iloc[35942]\n",
    "first"
   ]
  },
  {
   "cell_type": "code",
   "execution_count": 41,
   "metadata": {},
   "outputs": [
    {
     "data": {
      "text/plain": [
       "array([ 458,  126,  984,  155,  156, 2581])"
      ]
     },
     "execution_count": 41,
     "metadata": {},
     "output_type": "execute_result"
    }
   ],
   "source": [
    "w2i = dl.q2idvec[\"words\"]\n",
    "w2i[\"Q355735\"]"
   ]
  },
  {
   "cell_type": "code",
   "execution_count": 36,
   "metadata": {},
   "outputs": [
    {
     "name": "stdout",
     "output_type": "stream",
     "text": [
      "['W17378', 'W08924', 'W18399', 'W05733', 'W16319']\n"
     ]
    }
   ],
   "source": [
    "w2i = dl.item2idx[\"words\"]\n",
    "w2i[\"Q254679\"]\n",
    "i2w = dl.idx2item[\"words\"]\n",
    "print([i2w[j] for j in w2v[\"Q018529\"]])"
   ]
  },
  {
   "cell_type": "code",
   "execution_count": 45,
   "metadata": {},
   "outputs": [
    {
     "data": {
      "text/plain": [
       "torch.float32"
      ]
     },
     "execution_count": 45,
     "metadata": {},
     "output_type": "execute_result"
    }
   ],
   "source": [
    "ie = dl.item_embed[\"words\"]\n",
    "torch.Tensor(ie).dtype"
   ]
  },
  {
   "cell_type": "code",
   "execution_count": 241,
   "metadata": {},
   "outputs": [
    {
     "name": "stdout",
     "output_type": "stream",
     "text": [
      "detect cached intermediate files...loading...\n",
      "finish\n",
      "prepare necessary data...\n",
      "prepare done.\n"
     ]
    }
   ],
   "source": [
    "    dl = DataGenerator()\n",
    "    train = DataSet.load_train()\n",
    "    from sklearn.model_selection import train_test_split\n",
    "\n",
    "    xtr, xte = train_test_split(train, test_size=0.33)\n",
    "    dl.prepare(xtr[:10], 2, \"words\", True, False)\n",
    "    tr_g = dl.get_data_generator(True, 20)\n",
    "    d,i,l = next(tr_g)\n"
   ]
  },
  {
   "cell_type": "code",
   "execution_count": 10,
   "metadata": {},
   "outputs": [
    {
     "data": {
      "text/plain": [
       "[2, 1, 4]"
      ]
     },
     "execution_count": 10,
     "metadata": {},
     "output_type": "execute_result"
    }
   ],
   "source": [
    "a=[1,2,4]\n",
    "np.random.shuffle(a)\n",
    "a"
   ]
  },
  {
   "cell_type": "code",
   "execution_count": 243,
   "metadata": {},
   "outputs": [
    {
     "data": {
      "text/plain": [
       "tensor([[     0,    191,    366,    301,     56,     40,    460,      0,\n",
       "              6,     25,     20,    578,    267,     37],\n",
       "        [     0,      0,      0,      0,    267,    173,      9,    666,\n",
       "            782,    666,     40,   1333,     21,    546],\n",
       "        [     0,     89,      1,    355,     16,  18999,     23,      0,\n",
       "              0,      0,      1,    101,     33,    197],\n",
       "        [     0,    730,     16,     25,      6,     97,    169,      0,\n",
       "              0,      0,      0,     70,     45,   4190],\n",
       "        [     0,      0,      0,    321,     55,    449,     10,      0,\n",
       "              0,      6,    321,    643,     37,     10],\n",
       "        [     0,      0,     19,    461,    914,   1330,     78,      0,\n",
       "              0,      0,     41,   1370,      9,      5]])"
      ]
     },
     "execution_count": 243,
     "metadata": {},
     "output_type": "execute_result"
    }
   ],
   "source": [
    "d"
   ]
  },
  {
   "cell_type": "code",
   "execution_count": 244,
   "metadata": {},
   "outputs": [
    {
     "data": {
      "text/plain": [
       "tensor([ 5,  8,  2,  6,  4,  1])"
      ]
     },
     "execution_count": 244,
     "metadata": {},
     "output_type": "execute_result"
    }
   ],
   "source": [
    "i"
   ]
  },
  {
   "cell_type": "code",
   "execution_count": 245,
   "metadata": {},
   "outputs": [
    {
     "data": {
      "text/plain": [
       "tensor([ 0,  0,  0,  0,  1,  0])"
      ]
     },
     "execution_count": 245,
     "metadata": {},
     "output_type": "execute_result"
    }
   ],
   "source": [
    "l"
   ]
  },
  {
   "cell_type": "code",
   "execution_count": 255,
   "metadata": {},
   "outputs": [
    {
     "data": {
      "text/plain": [
       "label                0\n",
       "q1             Q137119\n",
       "q2             Q240144\n",
       "word_len_q1          5\n",
       "word_len_q2          4\n",
       "char_len_q1         11\n",
       "char_len_q2          7\n",
       "Name: 226285, dtype: object"
      ]
     },
     "execution_count": 255,
     "metadata": {},
     "output_type": "execute_result"
    }
   ],
   "source": [
    "first = x.iloc[1]\n",
    "first"
   ]
  },
  {
   "cell_type": "code",
   "execution_count": 256,
   "metadata": {},
   "outputs": [
    {
     "data": {
      "text/plain": [
       "array([  19,  461,  914, 1330,   78])"
      ]
     },
     "execution_count": 256,
     "metadata": {},
     "output_type": "execute_result"
    }
   ],
   "source": [
    "w2v = dl.q2idvec[\"words\"]\n",
    "w2v[\"Q137119\"]"
   ]
  },
  {
   "cell_type": "code",
   "execution_count": 22,
   "metadata": {
    "collapsed": true
   },
   "outputs": [],
   "source": [
    "a1 = np.arange(4)\n",
    "a2 = np.arange(5)\n",
    "a3 = np.arange(5)"
   ]
  },
  {
   "cell_type": "code",
   "execution_count": 25,
   "metadata": {
    "collapsed": true
   },
   "outputs": [],
   "source": [
    "a = np.array([a1,a2,a3])"
   ]
  },
  {
   "cell_type": "code",
   "execution_count": 29,
   "metadata": {},
   "outputs": [
    {
     "data": {
      "text/plain": [
       "array([[0, 1, 2, 3, 4],\n",
       "       [0, 1, 2, 3, 4]])"
      ]
     },
     "execution_count": 29,
     "metadata": {},
     "output_type": "execute_result"
    }
   ],
   "source": [
    "np.array(a[[1,2]].tolist())"
   ]
  },
  {
   "cell_type": "code",
   "execution_count": 30,
   "metadata": {},
   "outputs": [
    {
     "data": {
      "text/plain": [
       "array([[0, 1, 2, 3, 4],\n",
       "       [0, 1, 2, 3, 4]])"
      ]
     },
     "execution_count": 30,
     "metadata": {},
     "output_type": "execute_result"
    }
   ],
   "source": [
    "np.vstack(a[[1,2]].tolist())"
   ]
  },
  {
   "cell_type": "code",
   "execution_count": 36,
   "metadata": {},
   "outputs": [
    {
     "data": {
      "text/plain": [
       "array([0, 0, 0, 0, 1, 2, 3])"
      ]
     },
     "execution_count": 36,
     "metadata": {},
     "output_type": "execute_result"
    }
   ],
   "source": [
    "np.pad(a1,(3,0),\"constant\")"
   ]
  },
  {
   "cell_type": "code",
   "execution_count": 54,
   "metadata": {
    "collapsed": true
   },
   "outputs": [],
   "source": [
    "question_df =DataSet.load_all_questions()"
   ]
  },
  {
   "cell_type": "code",
   "execution_count": 57,
   "metadata": {},
   "outputs": [
    {
     "data": {
      "text/plain": [
       "['W05733', 'W05284', 'W09158', 'W14968', 'W07863']"
      ]
     },
     "execution_count": 57,
     "metadata": {},
     "output_type": "execute_result"
    }
   ],
   "source": [
    "question_df.loc[\"Q000000\"][\"words\"].split()"
   ]
  },
  {
   "cell_type": "code",
   "execution_count": 38,
   "metadata": {},
   "outputs": [
    {
     "data": {
      "text/plain": [
       "[4]"
      ]
     },
     "execution_count": 38,
     "metadata": {},
     "output_type": "execute_result"
    }
   ],
   "source": [
    "np.arange(6)[4:5].tolist()"
   ]
  },
  {
   "cell_type": "code",
   "execution_count": 41,
   "metadata": {},
   "outputs": [
    {
     "data": {
      "text/plain": [
       "array([4])"
      ]
     },
     "execution_count": 41,
     "metadata": {},
     "output_type": "execute_result"
    }
   ],
   "source": [
    "np.arange(16)[[4]]"
   ]
  },
  {
   "cell_type": "code",
   "execution_count": 61,
   "metadata": {},
   "outputs": [
    {
     "data": {
      "text/plain": [
       "tensor([[  0,   1,   2,   3,   4,   5,   6,   7,   8,   9],\n",
       "        [ 10,  11,  12,  13,  14,  15,  16,  17,  18,  19],\n",
       "        [ 20,  21,  22,  23,  24,  25,  26,  27,  28,  29],\n",
       "        [ 30,  31,  32,  33,  34,  35,  36,  37,  38,  39],\n",
       "        [ 40,  41,  42,  43,  44,  45,  46,  47,  48,  49],\n",
       "        [ 50,  51,  52,  53,  54,  55,  56,  57,  58,  59],\n",
       "        [ 60,  61,  62,  63,  64,  65,  66,  67,  68,  69],\n",
       "        [ 70,  71,  72,  73,  74,  75,  76,  77,  78,  79],\n",
       "        [ 80,  81,  82,  83,  84,  85,  86,  87,  88,  89],\n",
       "        [ 90,  91,  92,  93,  94,  95,  96,  97,  98,  99]])"
      ]
     },
     "execution_count": 61,
     "metadata": {},
     "output_type": "execute_result"
    }
   ],
   "source": [
    "torch.LongTensor(np.arange(100).reshape(10,10))"
   ]
  },
  {
   "cell_type": "code",
   "execution_count": 2,
   "metadata": {
    "collapsed": true
   },
   "outputs": [],
   "source": [
    "from __future__ import print_function\n",
    "import torch\n",
    "import torch.optim as optim\n",
    "from sklearn.metrics import classification_report, confusion_matrix, accuracy_score\n",
    "from torch import nn as nn, autograd\n",
    "from torch.nn import functional as F\n",
    "from torch.nn.utils.rnn import pack_padded_sequence, pad_packed_sequence\n",
    "m = nn.Conv1d(16, 33, 3, stride=2)\n",
    "input = torch.randn(20, 16, 50)\n",
    "output = m(input)"
   ]
  },
  {
   "cell_type": "code",
   "execution_count": 48,
   "metadata": {},
   "outputs": [
    {
     "data": {
      "text/plain": [
       "torch.Size([20, 33, 24])"
      ]
     },
     "execution_count": 48,
     "metadata": {},
     "output_type": "execute_result"
    }
   ],
   "source": [
    "output.size()"
   ]
  },
  {
   "cell_type": "code",
   "execution_count": 56,
   "metadata": {
    "collapsed": true
   },
   "outputs": [],
   "source": [
    "emb = nn.Embedding(100,300).to(device)"
   ]
  },
  {
   "cell_type": "code",
   "execution_count": 50,
   "metadata": {
    "collapsed": true
   },
   "outputs": [],
   "source": [
    "device = torch.device(\"cuda:0\" if torch.cuda.is_available() else \"cpu\")"
   ]
  },
  {
   "cell_type": "code",
   "execution_count": 52,
   "metadata": {
    "collapsed": true
   },
   "outputs": [],
   "source": [
    "ind = torch.tensor([1,2,3],device=device)"
   ]
  },
  {
   "cell_type": "code",
   "execution_count": 53,
   "metadata": {},
   "outputs": [
    {
     "data": {
      "text/plain": [
       "tensor([ 1,  2,  3], device='cuda:0')"
      ]
     },
     "execution_count": 53,
     "metadata": {},
     "output_type": "execute_result"
    }
   ],
   "source": [
    "ind"
   ]
  },
  {
   "cell_type": "code",
   "execution_count": 57,
   "metadata": {},
   "outputs": [
    {
     "data": {
      "text/plain": [
       "tensor([[ 1.8470, -0.9276,  0.0931,  1.2230,  0.7910,  0.6080, -1.5063,\n",
       "          0.5206, -0.0123,  2.3572,  0.2837,  0.0499, -0.7266, -0.1512,\n",
       "         -0.1555,  0.5903, -0.3212, -1.0274,  1.1650,  1.9632,  0.3779,\n",
       "         -0.4522,  1.7000, -1.4515,  0.3225,  0.6467, -0.5869, -1.0003,\n",
       "         -0.0010, -0.7702,  0.3531, -1.1329,  1.1147,  0.0228,  1.0410,\n",
       "          1.2058, -1.2394, -0.8727,  0.3079, -0.1404, -0.5976,  0.8726,\n",
       "          1.1650,  0.0449, -1.8714,  0.4372, -0.4673, -0.8764,  1.4860,\n",
       "          0.3939,  1.0528,  1.0253, -0.1318,  0.1264,  0.2587, -0.6842,\n",
       "          0.1966,  0.8802, -0.3537,  1.1634,  0.8788, -0.1731,  1.4567,\n",
       "          0.1510, -0.2094, -0.9874, -0.4124, -0.4357, -0.1512,  1.0608,\n",
       "          0.6473, -0.5726, -0.9418,  1.2943,  0.4659, -0.2135,  1.1054,\n",
       "          0.1888, -0.1277, -0.4297,  1.6927, -1.8200,  0.0844,  0.4832,\n",
       "         -0.9614, -0.4435, -2.5424, -0.2292,  2.4410,  1.4959, -1.0767,\n",
       "         -0.6349,  0.3535,  1.2079,  0.9265, -0.2040, -1.3885,  1.2598,\n",
       "          0.3238,  2.1062, -1.0335,  0.7426, -0.1688, -0.5164, -1.2117,\n",
       "         -0.2620,  0.8129,  1.3367,  0.0902, -0.0301, -2.5337,  0.5056,\n",
       "         -0.1082, -0.0805, -0.4545,  0.6471, -0.9280,  0.8395,  0.9839,\n",
       "          1.5552,  1.6617,  0.8127, -0.4667, -3.7172, -0.9142, -0.2954,\n",
       "         -0.4321,  1.3143, -1.7794,  0.0966, -0.3746, -0.4316, -0.1018,\n",
       "          1.2711, -0.0908, -0.1542,  0.2016,  0.1654,  1.6079,  0.3495,\n",
       "         -1.2755, -0.4000, -0.0433,  0.9167,  0.5041, -0.6782, -0.1301,\n",
       "         -0.8876,  0.4016,  1.1121,  0.8759, -1.6730, -1.0917, -0.3410,\n",
       "          0.3464, -0.6770, -0.8869,  1.0324, -1.1897, -0.5002, -0.4492,\n",
       "          0.4092,  0.8222, -0.7946, -0.4026, -1.0064, -0.1396, -0.5011,\n",
       "          1.2912,  1.5065, -1.2714,  0.0442, -0.9657, -1.0070, -0.2846,\n",
       "         -0.9650, -1.7338,  1.1821,  1.5303,  0.3608,  0.3508,  0.3219,\n",
       "          1.3443,  0.5316,  0.6104,  1.0184,  0.8534, -0.3522, -0.2019,\n",
       "         -1.1053, -0.0348, -0.1373, -1.3592,  0.2407, -0.9161, -0.3188,\n",
       "         -0.9472,  0.3829, -0.4068, -1.2061,  0.1488, -0.1747,  0.5060,\n",
       "          0.0676, -0.8802, -1.1095, -0.3049,  0.3689, -0.0896,  0.6014,\n",
       "         -0.0606,  1.3264, -1.5552, -1.4472,  2.0163,  0.1174, -0.3342,\n",
       "          0.4228, -1.0291, -0.6453,  0.9926,  0.4603, -1.0941,  1.1903,\n",
       "          1.3892,  1.0788, -0.0991,  1.3958,  0.7232, -0.3163,  0.9199,\n",
       "         -0.0020,  0.3886, -2.0791, -0.1688,  0.0055,  0.7960,  0.8870,\n",
       "          0.0522, -1.5207, -1.4420, -0.2377,  0.4253, -0.0207,  1.0933,\n",
       "         -0.9222,  0.7780, -0.5560,  0.1457,  0.4404,  0.3795, -0.3039,\n",
       "         -0.2629,  0.8493,  1.7204,  0.2799,  0.5948, -0.7357, -1.3982,\n",
       "         -1.0345,  1.0446, -0.3551, -0.3832,  1.1472, -0.4341,  1.1846,\n",
       "         -0.9321, -0.7795, -0.3627, -0.2370, -2.0937,  0.5797,  0.7501,\n",
       "         -0.2127, -0.0675,  1.8191,  0.5477,  1.1582,  1.6720,  0.8447,\n",
       "         -1.6301, -1.6791, -0.3504,  0.9520, -0.9495, -1.3474, -0.1696,\n",
       "          0.4217, -0.3786, -0.2275,  1.5138,  0.1889,  0.3631,  0.7083,\n",
       "         -0.3604, -0.5221, -1.7290, -0.3625, -0.2939,  0.4312],\n",
       "        [-0.3027,  0.9208,  1.7110, -0.1746, -1.6235,  0.7436,  0.4106,\n",
       "         -1.2484,  0.0408,  0.7058, -0.2430, -0.7508,  0.5725,  0.2106,\n",
       "          0.8503, -0.2769, -0.9241,  0.9663, -1.2695, -0.1741,  0.5573,\n",
       "         -0.1579,  0.2711, -1.0080, -1.6676, -1.3505,  0.8180, -1.0093,\n",
       "         -0.3202,  0.4058, -2.8685,  1.0013, -0.0673,  0.1065, -0.1804,\n",
       "         -0.6517,  0.6356,  0.2700,  0.5717,  0.7072,  1.7274, -0.4746,\n",
       "         -1.4952, -1.7767,  1.1426, -1.9081,  2.0095, -0.4551,  0.7030,\n",
       "         -0.1799, -1.4865,  2.1375,  2.1609,  0.2788, -1.1598,  1.1678,\n",
       "          0.7118, -1.2297,  0.1165, -1.0576, -1.7095, -0.2575, -0.2807,\n",
       "          2.6316, -0.5830,  1.4186,  0.4886, -2.2741, -0.4908, -1.1895,\n",
       "          0.1999,  0.5431,  0.3204,  0.2900,  1.3625,  1.4828, -0.5043,\n",
       "         -0.2982,  0.7643,  0.7592,  0.1312, -0.1113, -0.3580, -0.1632,\n",
       "          0.6909, -0.6008,  0.6739,  0.0759, -0.1040, -0.3242, -0.7133,\n",
       "         -1.0759,  0.4412,  1.6414, -1.5803, -1.6484,  1.5935, -1.9196,\n",
       "         -0.1877,  0.1506, -0.8560,  0.2666,  1.4828, -0.4718,  0.6272,\n",
       "         -0.0231,  0.3063,  0.2887, -0.0715, -0.5718, -0.0883,  1.6869,\n",
       "         -1.7588, -0.2537, -2.2126, -0.7660,  0.0282, -0.6295, -2.0302,\n",
       "          0.9541, -0.0541,  0.3906, -0.6032,  2.2589,  1.1306,  0.4704,\n",
       "         -0.8846, -0.0395,  0.1982, -0.2832, -1.6225, -0.4772, -2.3626,\n",
       "          3.1572, -1.9294,  0.8925,  0.5474,  0.6273, -0.9841, -0.3491,\n",
       "         -0.8271, -2.5455, -1.1603,  0.3747, -0.5353, -0.7831,  0.7412,\n",
       "          0.2752, -2.6655,  0.3737, -1.4778,  0.0406, -0.8801,  0.9127,\n",
       "         -0.0331, -0.4762, -0.0599,  0.0525, -0.0687,  0.6009, -1.1907,\n",
       "         -0.2807,  1.0399,  1.1086, -0.2036,  0.3692, -0.8454,  1.6867,\n",
       "          0.5716, -0.8790, -0.4044,  2.0385,  1.8284,  0.0097,  2.1112,\n",
       "          0.5381, -0.2632,  0.9543,  0.4035, -0.6198, -2.7204, -2.4353,\n",
       "         -1.6273, -0.2793,  0.3178, -1.0362, -1.0847, -0.0101,  0.0418,\n",
       "         -0.1119, -0.6033, -0.3212, -0.6662,  0.3780,  1.7229,  0.7673,\n",
       "          1.0456, -0.6522,  0.3786, -0.9384,  0.4236,  1.3345,  0.4571,\n",
       "         -0.1201, -2.4436,  1.7538,  1.1965, -1.1506,  1.1286, -0.0846,\n",
       "          2.2901,  1.7713,  0.2056, -0.8849, -0.5506,  1.3549, -0.5473,\n",
       "         -1.5519, -0.1716,  0.7087,  3.0659, -0.9119,  0.2453,  0.6185,\n",
       "         -0.7031,  0.7906, -1.2740,  1.4691,  0.4013, -0.5559, -0.3127,\n",
       "          0.8698,  0.4465,  0.7187, -0.0031,  1.0788,  0.0286, -0.6451,\n",
       "          0.3260, -0.5035,  0.5334, -1.5881, -1.0768,  0.0482,  0.8419,\n",
       "         -0.0946, -0.4115, -0.7916,  2.2390,  0.4495, -3.2496,  0.5158,\n",
       "          3.0522, -0.4791, -0.5718, -0.5567,  0.9168, -1.5319, -0.3956,\n",
       "          1.0063, -0.0305, -1.9892, -1.2517, -0.6342, -0.0319, -0.5670,\n",
       "          1.1630,  0.0398,  1.3317,  0.3272, -0.5759,  0.4177,  0.5009,\n",
       "          0.8165, -0.5733,  0.9532, -0.1593,  0.7809,  0.8721,  1.0932,\n",
       "         -0.7722,  1.3415,  0.4220, -0.9161,  2.4092,  0.5315, -0.8261,\n",
       "          3.1905, -0.4016, -1.6954,  1.3831,  0.8014, -0.1298,  0.0143,\n",
       "         -1.6028, -0.7615, -0.5329,  0.6851,  0.1939,  0.0361],\n",
       "        [ 0.6210, -0.2149, -0.9626,  0.6533, -1.6360,  0.1142,  0.5379,\n",
       "          0.7903, -0.4654, -0.9745, -0.4027,  1.0247, -0.8931, -0.6511,\n",
       "         -1.7866, -1.7815,  2.4100, -1.3327, -1.4822, -0.5994,  1.0158,\n",
       "         -1.1997,  1.4883,  0.9277, -0.7493,  0.8494, -0.2536,  0.2995,\n",
       "         -1.2468,  0.4467,  1.8655, -0.2696,  0.5417, -0.4388, -0.8180,\n",
       "         -0.7494,  0.3470,  1.1494,  1.4399,  1.1399,  0.2805,  1.9475,\n",
       "         -3.5374,  0.8593, -0.3458, -2.1560, -0.9407, -0.9194, -2.6200,\n",
       "         -0.1134,  1.0413, -1.9154, -1.3182,  0.5706, -0.8467, -1.7311,\n",
       "          0.2482,  1.0729, -0.8289,  0.7522,  0.0344, -1.1561, -0.2000,\n",
       "         -1.6906,  0.4141,  0.8176,  1.2493, -0.1646, -0.4454,  1.1988,\n",
       "         -1.1216, -0.4812,  1.9835,  1.0082,  0.3188,  1.3377,  1.9596,\n",
       "          0.0357, -0.2152, -0.1861,  0.2202,  0.5975,  0.0212,  0.8367,\n",
       "         -1.3779,  0.9623,  0.6308, -0.0149,  0.1999, -1.1675,  1.6291,\n",
       "         -0.5179,  1.1516, -0.7465,  1.1315,  0.0180,  4.0069, -0.9473,\n",
       "          1.2794, -2.3648,  0.7119,  0.5825,  0.5863,  0.1877,  0.1415,\n",
       "          1.5051,  2.6815, -1.0563, -0.6651,  0.8513, -0.9876,  0.7412,\n",
       "         -1.7345, -0.6082,  0.8544,  0.5218, -0.1673, -1.1052,  0.0083,\n",
       "         -1.3767,  0.0622, -0.6955, -0.6880, -0.0231, -0.2636, -0.2821,\n",
       "         -0.4370, -0.0407,  0.0257, -0.5963, -1.8004,  0.4155,  0.8034,\n",
       "         -1.3519, -1.9535,  0.4534,  1.3381, -0.3008, -0.5882,  0.8623,\n",
       "          0.4476, -0.2376,  0.9140, -0.6223,  1.1593,  0.0659,  1.1614,\n",
       "         -0.4755,  0.5048,  1.0110, -1.4323, -1.0926, -0.9758,  1.5088,\n",
       "         -0.9509,  0.3831, -0.3580, -1.4721,  0.4405,  1.1617,  0.1388,\n",
       "         -0.0371,  0.4141,  1.2667,  0.3999, -0.4266, -1.3735, -0.2015,\n",
       "         -0.0957, -0.6553,  2.1347, -1.1535, -0.1492, -0.9010,  0.3005,\n",
       "          0.8860, -1.5196,  0.3700,  0.5899,  0.4725, -0.4076, -2.0853,\n",
       "         -0.3419,  0.1552, -0.6438,  0.3036,  0.0147, -0.2439, -1.2847,\n",
       "          0.4345,  0.1256,  0.0977,  0.8628, -1.0583, -1.2224,  0.1086,\n",
       "          0.2970, -0.1817, -1.1529, -1.6356,  0.3167, -0.1708,  0.0703,\n",
       "         -0.4194,  1.2311, -2.0685, -0.8534, -0.4439,  1.2422,  1.4581,\n",
       "         -0.9107, -1.2288, -0.9697,  0.9761,  0.1983,  1.2299, -2.0420,\n",
       "         -0.6895,  0.3491, -0.0195,  1.5397, -1.0386,  0.0615, -2.0165,\n",
       "          0.3571, -0.5889,  0.9543, -0.6154,  0.4903, -0.3356, -0.0081,\n",
       "         -0.1263, -0.2030,  1.4127,  2.4277, -0.5510, -0.0223, -1.0767,\n",
       "         -0.5322,  0.3233, -1.6030,  0.0830,  0.5495,  0.8572, -0.3186,\n",
       "          1.2370, -0.0842,  1.6471, -1.2020, -2.2807,  0.0492,  0.9882,\n",
       "          0.1901,  0.8536, -0.7142, -0.3144,  1.7260,  1.0663, -1.0398,\n",
       "          0.5108,  0.1007,  0.7620,  0.4839,  1.7913, -1.7386, -0.7349,\n",
       "          1.5547,  0.1795, -0.3204, -0.3055,  0.3628, -1.1338,  0.7205,\n",
       "         -0.2252, -0.4105, -0.6804, -0.5282, -0.0693,  1.9750,  1.8634,\n",
       "         -1.5794,  0.1309,  1.2518,  0.1351,  1.4741, -0.8665, -1.3978,\n",
       "          0.6310, -1.9388,  0.8491,  0.1689,  1.7437,  0.5247, -0.9460,\n",
       "         -0.0570, -1.5829, -1.5079, -0.0601, -0.1264,  1.2756]], device='cuda:0')"
      ]
     },
     "execution_count": 57,
     "metadata": {},
     "output_type": "execute_result"
    }
   ],
   "source": [
    "emb(ind)"
   ]
  },
  {
   "cell_type": "code",
   "execution_count": 58,
   "metadata": {},
   "outputs": [
    {
     "data": {
      "text/plain": [
       "Embedding(100, 300)"
      ]
     },
     "execution_count": 58,
     "metadata": {},
     "output_type": "execute_result"
    }
   ],
   "source": [
    "emb"
   ]
  },
  {
   "cell_type": "code",
   "execution_count": 61,
   "metadata": {
    "collapsed": true
   },
   "outputs": [],
   "source": [
    "a=nn.Embedding.from_pretrained(torch.from_numpy(np.arange(100).reshape(4,25)))"
   ]
  },
  {
   "cell_type": "code",
   "execution_count": 62,
   "metadata": {},
   "outputs": [
    {
     "data": {
      "text/plain": [
       "Embedding(4, 25)"
      ]
     },
     "execution_count": 62,
     "metadata": {},
     "output_type": "execute_result"
    }
   ],
   "source": [
    "a"
   ]
  },
  {
   "cell_type": "code",
   "execution_count": 64,
   "metadata": {},
   "outputs": [
    {
     "data": {
      "text/plain": [
       "tensor([[ 25,  26,  27,  28,  29,  30,  31,  32,  33,  34,  35,  36,\n",
       "          37,  38,  39,  40,  41,  42,  43,  44,  45,  46,  47,  48,\n",
       "          49],\n",
       "        [ 50,  51,  52,  53,  54,  55,  56,  57,  58,  59,  60,  61,\n",
       "          62,  63,  64,  65,  66,  67,  68,  69,  70,  71,  72,  73,\n",
       "          74],\n",
       "        [ 75,  76,  77,  78,  79,  80,  81,  82,  83,  84,  85,  86,\n",
       "          87,  88,  89,  90,  91,  92,  93,  94,  95,  96,  97,  98,\n",
       "          99]], device='cuda:0')"
      ]
     },
     "execution_count": 64,
     "metadata": {},
     "output_type": "execute_result"
    }
   ],
   "source": [
    "a.to(device)(ind)"
   ]
  },
  {
   "cell_type": "code",
   "execution_count": 3,
   "metadata": {
    "collapsed": true
   },
   "outputs": [],
   "source": [
    "import torch\n",
    "import torch.optim as optim\n",
    "from sklearn.metrics import classification_report, confusion_matrix, accuracy_score\n",
    "from torch import nn as nn, autograd\n",
    "from torch.nn import functional as F\n",
    "from torch.nn.utils.rnn import pack_padded_sequence, pad_packed_sequence\n",
    "m = nn.Conv1d(16, 33, 3, stride=1,padding=2)\n",
    "input = torch.randn(20, 16, 20)\n",
    "output = m(input)"
   ]
  },
  {
   "cell_type": "code",
   "execution_count": 54,
   "metadata": {},
   "outputs": [
    {
     "data": {
      "text/plain": [
       "torch.Size([20, 33, 22])"
      ]
     },
     "execution_count": 54,
     "metadata": {},
     "output_type": "execute_result"
    }
   ],
   "source": [
    "output.size()"
   ]
  },
  {
   "cell_type": "code",
   "execution_count": 35,
   "metadata": {
    "collapsed": true
   },
   "outputs": [],
   "source": [
    "o1,i1 = output.min(dim=2)"
   ]
  },
  {
   "cell_type": "code",
   "execution_count": 37,
   "metadata": {},
   "outputs": [
    {
     "data": {
      "text/plain": [
       "torch.Size([20, 33])"
      ]
     },
     "execution_count": 37,
     "metadata": {},
     "output_type": "execute_result"
    }
   ],
   "source": [
    "o1.size()"
   ]
  },
  {
   "cell_type": "code",
   "execution_count": 43,
   "metadata": {},
   "outputs": [
    {
     "data": {
      "text/plain": [
       "tensor([[[ 0.7892, -0.3451,  1.8338],\n",
       "         [ 0.8489, -0.2442, -0.0187],\n",
       "         [ 0.1200, -1.5486, -0.9798],\n",
       "         [-0.5707,  0.7858, -0.1370],\n",
       "         [ 0.6631,  0.6791,  1.0186]],\n",
       "\n",
       "        [[ 0.8755,  1.3299,  0.5942],\n",
       "         [-0.9820, -1.2202, -0.7314],\n",
       "         [ 1.1004, -0.1884, -0.4746],\n",
       "         [ 0.5637,  0.0867,  0.0233],\n",
       "         [ 0.1792, -0.5005,  2.9899]],\n",
       "\n",
       "        [[-0.3974, -0.7109,  0.3255],\n",
       "         [-0.2458,  0.7731,  0.5312],\n",
       "         [-1.0141,  0.7547,  0.3522],\n",
       "         [ 1.4644,  0.2728, -1.8316],\n",
       "         [ 0.8586, -0.2770, -0.1837]],\n",
       "\n",
       "        [[ 0.3913,  1.1858, -1.4550],\n",
       "         [-0.5383, -0.0255,  0.3648],\n",
       "         [ 0.0108,  0.1248, -0.1407],\n",
       "         [ 0.3428,  1.7145, -0.6449],\n",
       "         [-1.3177, -0.1572, -0.3421]]])"
      ]
     },
     "execution_count": 43,
     "metadata": {},
     "output_type": "execute_result"
    }
   ],
   "source": [
    "t1"
   ]
  },
  {
   "cell_type": "code",
   "execution_count": 38,
   "metadata": {
    "collapsed": true
   },
   "outputs": [],
   "source": [
    "t1 = torch.randn(4,5,3,requires_grad=True)\n",
    "t2,i2 = t1.min(dim=2)\n"
   ]
  },
  {
   "cell_type": "code",
   "execution_count": 50,
   "metadata": {},
   "outputs": [
    {
     "data": {
      "text/plain": [
       "torch.Size([4, 5])"
      ]
     },
     "execution_count": 50,
     "metadata": {},
     "output_type": "execute_result"
    }
   ],
   "source": [
    "t2.size()"
   ]
  },
  {
   "cell_type": "code",
   "execution_count": 44,
   "metadata": {
    "collapsed": true
   },
   "outputs": [],
   "source": [
    "t2.backward(torch.ones_like(t2))"
   ]
  },
  {
   "cell_type": "code",
   "execution_count": 45,
   "metadata": {},
   "outputs": [
    {
     "data": {
      "text/plain": [
       "tensor([[[ 0.,  1.,  0.],\n",
       "         [ 0.,  1.,  0.],\n",
       "         [ 0.,  1.,  0.],\n",
       "         [ 1.,  0.,  0.],\n",
       "         [ 1.,  0.,  0.]],\n",
       "\n",
       "        [[ 0.,  0.,  1.],\n",
       "         [ 0.,  1.,  0.],\n",
       "         [ 0.,  0.,  1.],\n",
       "         [ 0.,  0.,  1.],\n",
       "         [ 0.,  1.,  0.]],\n",
       "\n",
       "        [[ 0.,  1.,  0.],\n",
       "         [ 1.,  0.,  0.],\n",
       "         [ 1.,  0.,  0.],\n",
       "         [ 0.,  0.,  1.],\n",
       "         [ 0.,  1.,  0.]],\n",
       "\n",
       "        [[ 0.,  0.,  1.],\n",
       "         [ 1.,  0.,  0.],\n",
       "         [ 0.,  0.,  1.],\n",
       "         [ 0.,  0.,  1.],\n",
       "         [ 1.,  0.,  0.]]])"
      ]
     },
     "execution_count": 45,
     "metadata": {},
     "output_type": "execute_result"
    }
   ],
   "source": [
    "t1.grad"
   ]
  },
  {
   "cell_type": "code",
   "execution_count": 4,
   "metadata": {
    "collapsed": true
   },
   "outputs": [],
   "source": [
    "from __future__ import print_function\n",
    "import torch\n",
    "import numpy as np\n",
    "import torch.optim as optim\n",
    "from sklearn.metrics import classification_report, confusion_matrix, accuracy_score\n",
    "from torch import nn as nn, autograd\n",
    "from torch.nn import functional as F\n",
    "from torch.nn.utils.rnn import pack_padded_sequence, pad_packed_sequence\n",
    "m = nn.ReLU()\n",
    "input = torch.randn(2)\n",
    "output = m(input)"
   ]
  },
  {
   "cell_type": "code",
   "execution_count": 6,
   "metadata": {},
   "outputs": [
    {
     "data": {
      "text/plain": [
       "tensor([ 0.,  0.])"
      ]
     },
     "execution_count": 6,
     "metadata": {},
     "output_type": "execute_result"
    }
   ],
   "source": [
    "output"
   ]
  },
  {
   "cell_type": "code",
   "execution_count": 7,
   "metadata": {},
   "outputs": [
    {
     "name": "stdout",
     "output_type": "stream",
     "text": [
      "(4,)\n"
     ]
    }
   ],
   "source": [
    "def test(*arg):\n",
    "    print(arg)\n",
    "test(4)"
   ]
  },
  {
   "cell_type": "code",
   "execution_count": 19,
   "metadata": {},
   "outputs": [
    {
     "data": {
      "text/plain": [
       "False"
      ]
     },
     "execution_count": 19,
     "metadata": {},
     "output_type": "execute_result"
    }
   ],
   "source": [
    "t1 = torch.Tensor(np.arange(500).reshape(5,-1))\n",
    "t1.requires_grad"
   ]
  },
  {
   "cell_type": "code",
   "execution_count": 20,
   "metadata": {
    "collapsed": true
   },
   "outputs": [],
   "source": [
    "a1,a2 = torch.chunk(t1, 2, dim=1)"
   ]
  },
  {
   "cell_type": "code",
   "execution_count": 21,
   "metadata": {},
   "outputs": [
    {
     "data": {
      "text/plain": [
       "torch.Size([5, 50])"
      ]
     },
     "execution_count": 21,
     "metadata": {},
     "output_type": "execute_result"
    }
   ],
   "source": [
    "a1.size()"
   ]
  },
  {
   "cell_type": "code",
   "execution_count": 22,
   "metadata": {},
   "outputs": [
    {
     "data": {
      "text/plain": [
       "torch.Size([5, 50])"
      ]
     },
     "execution_count": 22,
     "metadata": {},
     "output_type": "execute_result"
    }
   ],
   "source": [
    "a2.size()"
   ]
  },
  {
   "cell_type": "code",
   "execution_count": 23,
   "metadata": {},
   "outputs": [
    {
     "data": {
      "text/plain": [
       "False"
      ]
     },
     "execution_count": 23,
     "metadata": {},
     "output_type": "execute_result"
    }
   ],
   "source": [
    "a1.requires_grad"
   ]
  },
  {
   "cell_type": "code",
   "execution_count": 33,
   "metadata": {
    "collapsed": true
   },
   "outputs": [],
   "source": [
    "embeds = nn.Embedding(100,300)\n",
    "q1 = torch.LongTensor(np.arange(30).reshape(5,-1))"
   ]
  },
  {
   "cell_type": "code",
   "execution_count": 34,
   "metadata": {},
   "outputs": [
    {
     "data": {
      "text/plain": [
       "torch.Size([5, 6])"
      ]
     },
     "execution_count": 34,
     "metadata": {},
     "output_type": "execute_result"
    }
   ],
   "source": [
    "q1.size()"
   ]
  },
  {
   "cell_type": "code",
   "execution_count": 35,
   "metadata": {},
   "outputs": [
    {
     "data": {
      "text/plain": [
       "tensor([[  0,   1,   2,   3,   4,   5],\n",
       "        [  6,   7,   8,   9,  10,  11],\n",
       "        [ 12,  13,  14,  15,  16,  17],\n",
       "        [ 18,  19,  20,  21,  22,  23],\n",
       "        [ 24,  25,  26,  27,  28,  29]])"
      ]
     },
     "execution_count": 35,
     "metadata": {},
     "output_type": "execute_result"
    }
   ],
   "source": [
    "q1"
   ]
  },
  {
   "cell_type": "code",
   "execution_count": 36,
   "metadata": {},
   "outputs": [
    {
     "data": {
      "text/plain": [
       "torch.Size([5, 6, 300])"
      ]
     },
     "execution_count": 36,
     "metadata": {},
     "output_type": "execute_result"
    }
   ],
   "source": [
    "o1 = embeds(q1)\n",
    "o1.size()"
   ]
  },
  {
   "cell_type": "code",
   "execution_count": 37,
   "metadata": {
    "collapsed": true
   },
   "outputs": [],
   "source": [
    "o2 = o1.transpose(1,2)"
   ]
  },
  {
   "cell_type": "code",
   "execution_count": 39,
   "metadata": {},
   "outputs": [
    {
     "data": {
      "text/plain": [
       "torch.Size([5, 300, 6])"
      ]
     },
     "execution_count": 39,
     "metadata": {},
     "output_type": "execute_result"
    }
   ],
   "source": [
    "o2.size()"
   ]
  },
  {
   "cell_type": "code",
   "execution_count": 42,
   "metadata": {},
   "outputs": [
    {
     "data": {
      "text/plain": [
       "torch.Size([5, 100, 6])"
      ]
     },
     "execution_count": 42,
     "metadata": {},
     "output_type": "execute_result"
    }
   ],
   "source": [
    "m = nn.Conv1d(300, 100, 3, stride=1,padding=1)\n",
    "o3=m(o2)\n",
    "o3.size()"
   ]
  },
  {
   "cell_type": "code",
   "execution_count": 44,
   "metadata": {
    "collapsed": true
   },
   "outputs": [],
   "source": [
    "o4,_ = o3.min(dim=2)"
   ]
  },
  {
   "cell_type": "code",
   "execution_count": 45,
   "metadata": {},
   "outputs": [
    {
     "data": {
      "text/plain": [
       "torch.Size([5, 100])"
      ]
     },
     "execution_count": 45,
     "metadata": {},
     "output_type": "execute_result"
    }
   ],
   "source": [
    "o4.size()"
   ]
  },
  {
   "cell_type": "code",
   "execution_count": null,
   "metadata": {
    "collapsed": true
   },
   "outputs": [],
   "source": [
    "h1 = nn.Linear(100,1)\n",
    "in1 = torch.tensor(np.arange())"
   ]
  },
  {
   "cell_type": "code",
   "execution_count": 48,
   "metadata": {},
   "outputs": [
    {
     "data": {
      "text/plain": [
       "1.373291015625"
      ]
     },
     "execution_count": 48,
     "metadata": {},
     "output_type": "execute_result"
    }
   ],
   "source": [
    "300*100*4*4*3/1024/1024"
   ]
  },
  {
   "cell_type": "code",
   "execution_count": 49,
   "metadata": {},
   "outputs": [
    {
     "data": {
      "text/plain": [
       "11.444091796875"
      ]
     },
     "execution_count": 49,
     "metadata": {},
     "output_type": "execute_result"
    }
   ],
   "source": [
    "1000*10*300*4/1024/1024"
   ]
  },
  {
   "cell_type": "code",
   "execution_count": 24,
   "metadata": {
    "collapsed": true
   },
   "outputs": [],
   "source": [
    "m = nn.Sigmoid()\n",
    "loss = nn.BCELoss(size_average=False)\n",
    "loss1 = nn.BCEWithLogitsLoss(size_average=False)\n",
    "input = torch.randn((3,1), requires_grad=True)\n",
    "target = torch.empty(3,1).random_(2)\n"
   ]
  },
  {
   "cell_type": "code",
   "execution_count": 25,
   "metadata": {
    "collapsed": true
   },
   "outputs": [],
   "source": [
    "output = loss(m(input), target)\n",
    "output1 = loss1(input,target)"
   ]
  },
  {
   "cell_type": "code",
   "execution_count": 26,
   "metadata": {},
   "outputs": [
    {
     "name": "stdout",
     "output_type": "stream",
     "text": [
      "tensor(2.0621)\n",
      "tensor(2.0621)\n"
     ]
    }
   ],
   "source": [
    "print(output)\n",
    "print(output1)"
   ]
  },
  {
   "cell_type": "code",
   "execution_count": 28,
   "metadata": {},
   "outputs": [
    {
     "data": {
      "text/plain": [
       "tensor([[-0.4609],\n",
       "        [ 0.2551],\n",
       "        [ 0.5402]])"
      ]
     },
     "execution_count": 28,
     "metadata": {},
     "output_type": "execute_result"
    }
   ],
   "source": [
    "input"
   ]
  },
  {
   "cell_type": "code",
   "execution_count": 27,
   "metadata": {},
   "outputs": [
    {
     "data": {
      "text/plain": [
       "tensor([[ 0.],\n",
       "        [ 1.],\n",
       "        [ 0.]])"
      ]
     },
     "execution_count": 27,
     "metadata": {},
     "output_type": "execute_result"
    }
   ],
   "source": [
    "target"
   ]
  },
  {
   "cell_type": "code",
   "execution_count": 6,
   "metadata": {},
   "outputs": [
    {
     "data": {
      "text/plain": [
       "False"
      ]
     },
     "execution_count": 6,
     "metadata": {},
     "output_type": "execute_result"
    }
   ],
   "source": [
    "x = torch.tensor([1], requires_grad=True)\n",
    "is_train = False\n",
    "with torch.set_grad_enabled(is_train):\n",
    "     y = x * 2\n",
    "y.requires_grad\n",
    "\n"
   ]
  },
  {
   "cell_type": "code",
   "execution_count": 7,
   "metadata": {},
   "outputs": [
    {
     "data": {
      "text/plain": [
       "True"
      ]
     },
     "execution_count": 7,
     "metadata": {},
     "output_type": "execute_result"
    }
   ],
   "source": [
    "z = x+3\n",
    "z.requires_grad"
   ]
  },
  {
   "cell_type": "code",
   "execution_count": 8,
   "metadata": {},
   "outputs": [
    {
     "data": {
      "text/plain": [
       "<torch.autograd.grad_mode.set_grad_enabled at 0x7f1ebd13af50>"
      ]
     },
     "execution_count": 8,
     "metadata": {},
     "output_type": "execute_result"
    }
   ],
   "source": [
    "torch.set_grad_enabled(False)"
   ]
  },
  {
   "cell_type": "code",
   "execution_count": 9,
   "metadata": {},
   "outputs": [
    {
     "data": {
      "text/plain": [
       "False"
      ]
     },
     "execution_count": 9,
     "metadata": {},
     "output_type": "execute_result"
    }
   ],
   "source": [
    "z1=x+45\n",
    "z1.requires_grad"
   ]
  },
  {
   "cell_type": "code",
   "execution_count": 10,
   "metadata": {},
   "outputs": [
    {
     "data": {
      "text/plain": [
       "<torch.autograd.grad_mode.set_grad_enabled at 0x7f1ebd13ad90>"
      ]
     },
     "execution_count": 10,
     "metadata": {},
     "output_type": "execute_result"
    }
   ],
   "source": [
    "torch.set_grad_enabled(True)"
   ]
  },
  {
   "cell_type": "code",
   "execution_count": 2,
   "metadata": {
    "collapsed": true
   },
   "outputs": [],
   "source": [
    "from __future__ import print_function, division\n",
    "\n",
    "import torch\n",
    "import torch.nn as nn\n",
    "import torch.optim as optim\n",
    "from torch.optim import lr_scheduler\n",
    "import numpy as np\n",
    "import torchvision\n",
    "from torchvision import datasets, models, transforms\n",
    "import matplotlib.pyplot as plt\n",
    "import time\n",
    "import os\n",
    "import copy\n",
    "\n",
    "device = torch.device(\"cuda:0\" if torch.cuda.is_available() else \"cpu\")\n",
    "model_ft = models.resnet18(pretrained=True)\n",
    "num_ftrs = model_ft.fc.in_features\n",
    "model_ft.fc = nn.Linear(num_ftrs, 2)\n",
    "\n",
    "model_ft = model_ft.to(device)\n",
    "\n",
    "criterion = nn.CrossEntropyLoss()\n",
    "\n",
    "# Observe that all parameters are being optimized\n",
    "optimizer_ft = optim.SGD(model_ft.parameters(), lr=0.001, momentum=0.9)\n",
    "\n",
    "# Decay LR by a factor of 0.1 every 7 epochs\n",
    "exp_lr_scheduler = lr_scheduler.StepLR(optimizer_ft, step_size=7, gamma=0.1)"
   ]
  },
  {
   "cell_type": "code",
   "execution_count": 89,
   "metadata": {
    "collapsed": true
   },
   "outputs": [],
   "source": [
    "\n",
    "import sys\n",
    "sys.path.append(\"../\")\n",
    "from feature_engineering.util import *\n",
    "from Siamese_CNN_v5.data import *\n",
    "from Siamese_CNN_v5.model import *"
   ]
  },
  {
   "cell_type": "code",
   "execution_count": 90,
   "metadata": {},
   "outputs": [
    {
     "name": "stdout",
     "output_type": "stream",
     "text": [
      "detect cached intermediate files...loading...\n",
      "finish\n",
      "detect cached intermediate files...loading...\n",
      "finish\n",
      "detect cached intermediate files...loading...\n",
      "finish\n",
      "prepare necessary data...\n",
      "190789\n",
      "prepare done.\n",
      "prepare necessary data...\n",
      "63597\n",
      "prepare done.\n",
      "prepare necessary data...\n",
      "172956\n",
      "prepare done.\n"
     ]
    }
   ],
   "source": [
    "    SPACE = \"words\" ##TODO put parameters here\n",
    "    OUT_CHANS = 100\n",
    "\n",
    "    train_df = DataSet.load_train()\n",
    "    xtr_df, xval_df = train_test_split(train_df, test_size=0.25)\n",
    "    test_df = DataSet.load_test()\n",
    "    ### Generate data generator\n",
    "    train_dg = DataGenerator(data_df=xtr_df,space=SPACE,bucket_num=5,batch_size=5000,is_prefix_pad=True,is_shuffle=True,is_test=False)\n",
    "    val_dg = DataGenerator(data_df=xval_df,space=SPACE,bucket_num=5,batch_size=5000,is_prefix_pad=True,is_shuffle=False,is_test=False)\n",
    "    test_dg = DataGenerator(data_df=test_df,space=SPACE,bucket_num=5,batch_size=5000,is_prefix_pad=True,is_shuffle=False,is_test=True)\n",
    "    ### Must do prepare before using\n",
    "    train_dg.prepare()\n",
    "    val_dg.prepare()\n",
    "    test_dg.prepare()\n",
    "    ### load word embedding, can use train_df, val_dg or test_dg\n",
    "    item_embed = train_dg.get_item_embed_tensor(SPACE)\n",
    "    ### Initialize network\n",
    "    siamese_cnn = Siamese_CNN(item_embed,is_freeze=True,output_channels=OUT_CHANS)"
   ]
  },
  {
   "cell_type": "code",
   "execution_count": 91,
   "metadata": {},
   "outputs": [
    {
     "name": "stdout",
     "output_type": "stream",
     "text": [
      "Siamese_CNN(\n",
      "  (nn_Embedding): Embedding(20891, 300)\n",
      "  (similarity): Similarity()\n",
      "  (dropout): Dropout(p=0.4)\n",
      "  (conv1d_size2): Conv1d(300, 100, kernel_size=(2,), stride=(1,), padding=(1,))\n",
      "  (conv1d_size3): Conv1d(300, 100, kernel_size=(3,), stride=(1,), padding=(1,))\n",
      "  (conv1d_size4): Conv1d(300, 100, kernel_size=(4,), stride=(1,), padding=(1,))\n",
      "  (out_hidden1): Linear(in_features=601, out_features=300, bias=True)\n",
      "  (out_hidden2): Linear(in_features=300, out_features=150, bias=True)\n",
      "  (out_put): Linear(in_features=150, out_features=1, bias=True)\n",
      ")\n"
     ]
    }
   ],
   "source": [
    "print(siamese_cnn)"
   ]
  },
  {
   "cell_type": "code",
   "execution_count": 119,
   "metadata": {},
   "outputs": [
    {
     "data": {
      "text/plain": [
       "<generator object parameters at 0x7f059a4ae870>"
      ]
     },
     "execution_count": 119,
     "metadata": {},
     "output_type": "execute_result"
    }
   ],
   "source": [
    "siamese_cnn.parameters()"
   ]
  },
  {
   "cell_type": "code",
   "execution_count": 107,
   "metadata": {},
   "outputs": [
    {
     "name": "stdout",
     "output_type": "stream",
     "text": [
      "Parameter containing:\n",
      "tensor([[ 1.0255e+00,  1.8078e+00,  2.2743e+00,  ...,  1.3056e+00,\n",
      "          7.0823e-02, -5.5302e-01],\n",
      "        [ 1.3441e+00, -9.0772e-01, -5.9796e-01,  ..., -8.2462e-01,\n",
      "         -9.5950e-01,  7.7132e-01],\n",
      "        [-2.0473e-01, -3.8335e-01,  8.0004e-01,  ...,  8.8740e-01,\n",
      "         -2.1423e+00,  1.2046e+00],\n",
      "        ...,\n",
      "        [-8.0980e-01, -1.0161e+00, -2.9748e+00,  ...,  1.5406e-01,\n",
      "          4.6483e-01, -2.0363e-01],\n",
      "        [-1.9270e+00, -5.6139e-01,  1.9338e+00,  ...,  7.2608e-01,\n",
      "         -6.2481e-01,  3.4994e-01],\n",
      "        [-1.4013e+00, -6.3311e-01, -1.0701e+00,  ..., -1.3603e+00,\n",
      "          9.5666e-01,  5.6746e-01]])\n",
      "Parameter containing:\n",
      "tensor(1.00000e-02 *\n",
      "       [[[ 3.1472,  1.0325],\n",
      "         [ 3.4459,  3.8509],\n",
      "         [ 3.4140,  1.7923],\n",
      "         ...,\n",
      "         [ 2.0448, -1.9401],\n",
      "         [ 2.5886,  1.6185],\n",
      "         [-1.4538, -1.3277]],\n",
      "\n",
      "        [[-2.1015, -3.3959],\n",
      "         [-3.5021, -1.2726],\n",
      "         [-1.7383,  1.3204],\n",
      "         ...,\n",
      "         [-3.8468, -2.5978],\n",
      "         [ 0.9976,  2.8238],\n",
      "         [ 3.5690, -2.6673]],\n",
      "\n",
      "        [[-1.1506, -2.2924],\n",
      "         [-2.9272,  2.1627],\n",
      "         [ 3.3111,  0.0824],\n",
      "         ...,\n",
      "         [ 3.2136,  0.5916],\n",
      "         [ 2.2129, -3.0604],\n",
      "         [-1.6652,  0.4998]],\n",
      "\n",
      "        ...,\n",
      "\n",
      "        [[-0.3029,  1.6031],\n",
      "         [ 2.0691,  3.0282],\n",
      "         [ 1.3538, -2.8612],\n",
      "         ...,\n",
      "         [ 2.4352,  1.7558],\n",
      "         [-1.8019,  1.5149],\n",
      "         [-1.8559, -2.8698]],\n",
      "\n",
      "        [[ 2.3018,  0.4262],\n",
      "         [-0.3842,  0.3852],\n",
      "         [-3.1381, -3.9497],\n",
      "         ...,\n",
      "         [ 1.3236, -4.0722],\n",
      "         [-1.1866, -1.2310],\n",
      "         [ 2.5213,  0.7377]],\n",
      "\n",
      "        [[-4.0003,  1.9629],\n",
      "         [ 1.4024, -0.7108],\n",
      "         [-1.1117,  3.1917],\n",
      "         ...,\n",
      "         [-3.0519, -0.8495],\n",
      "         [ 0.7410, -3.3145],\n",
      "         [-0.3676, -3.3722]]])\n",
      "Parameter containing:\n",
      "tensor(1.00000e-02 *\n",
      "       [ 1.9030, -3.3075, -0.0608,  3.4890, -4.0260, -1.3038,  1.7725,\n",
      "        -0.0047,  0.3306, -3.9109,  3.7035,  0.9104,  3.4109,  3.5583,\n",
      "         0.5780, -0.1150,  1.4163, -1.2686, -2.2611,  3.4990,  1.4378,\n",
      "         1.5140, -2.4362, -1.9117, -0.2971,  2.6792, -0.6853,  0.1432,\n",
      "         0.6172, -3.8165, -0.7021,  3.5117, -3.2076, -1.8880, -1.1330,\n",
      "        -3.2961,  1.1965,  3.8473, -0.0519, -3.5624,  3.1569, -3.2660,\n",
      "         3.1998,  1.5269, -1.5981, -2.7945,  3.9977,  3.9813,  0.6351,\n",
      "        -3.8431, -4.0277,  1.2254,  3.4506, -1.5088,  3.7827,  3.7184,\n",
      "        -1.1025,  1.8623, -0.5719,  3.6218,  0.5059,  1.3115,  1.9617,\n",
      "        -1.5415, -1.6346,  3.5134, -2.6469,  0.9583,  2.6472,  1.0002,\n",
      "         1.0813,  2.0689, -1.2729, -3.7557,  2.5115, -2.0360,  1.2564,\n",
      "         1.5482,  1.2777, -0.9442, -2.1590,  1.3690, -2.4559,  3.8646,\n",
      "        -1.2165, -1.7179,  2.1912,  0.1460,  0.9864, -3.7437, -3.6881,\n",
      "         0.9666, -3.8058,  3.0914, -1.3951,  2.6239, -1.0840,  3.0370,\n",
      "         1.7247,  3.2490])\n",
      "Parameter containing:\n",
      "tensor([[[-2.3714e-02, -1.3268e-02,  2.7302e-02],\n",
      "         [ 1.7044e-02,  1.7730e-02, -2.8270e-02],\n",
      "         [-4.7986e-03, -2.0300e-02, -2.5242e-03],\n",
      "         ...,\n",
      "         [-2.1027e-02,  3.0643e-02, -3.4290e-03],\n",
      "         [-6.4037e-03,  9.0946e-03, -7.8647e-03],\n",
      "         [-1.8520e-02,  1.5830e-02, -5.8544e-03]],\n",
      "\n",
      "        [[ 1.8694e-02,  4.4106e-03,  1.0822e-04],\n",
      "         [-6.1867e-03, -1.9364e-02, -1.8121e-02],\n",
      "         [-2.2753e-02,  9.8144e-03, -2.9494e-02],\n",
      "         ...,\n",
      "         [ 4.7271e-03,  6.5866e-03,  1.5844e-02],\n",
      "         [-7.5768e-03, -3.4660e-03,  1.1693e-02],\n",
      "         [-2.6926e-02, -6.1992e-03,  1.1432e-02]],\n",
      "\n",
      "        [[-1.7248e-02,  1.6877e-02, -1.3554e-02],\n",
      "         [ 1.4627e-02, -2.6289e-02, -1.1879e-02],\n",
      "         [ 2.4452e-02,  2.8557e-02,  2.2640e-04],\n",
      "         ...,\n",
      "         [-6.0088e-04, -1.7901e-02,  2.3006e-02],\n",
      "         [ 2.4448e-02, -2.7916e-02,  9.1598e-03],\n",
      "         [ 1.7089e-02, -2.4361e-02,  1.2385e-02]],\n",
      "\n",
      "        ...,\n",
      "\n",
      "        [[-5.5567e-03, -6.2803e-03, -3.0076e-02],\n",
      "         [ 1.7989e-02, -2.6680e-02,  1.3873e-02],\n",
      "         [ 3.8693e-03, -8.5267e-03,  4.9519e-03],\n",
      "         ...,\n",
      "         [ 6.8341e-03, -1.9146e-02, -6.3263e-03],\n",
      "         [ 3.6409e-04,  2.2311e-02,  3.9593e-03],\n",
      "         [-3.1880e-02,  9.2839e-03,  2.8412e-02]],\n",
      "\n",
      "        [[ 1.4369e-02, -2.2334e-02, -9.3849e-03],\n",
      "         [ 4.3406e-03,  1.8673e-02,  2.9684e-02],\n",
      "         [ 3.0781e-02, -1.6781e-02,  3.2984e-02],\n",
      "         ...,\n",
      "         [ 1.0218e-02, -2.9837e-02, -2.7048e-02],\n",
      "         [-1.0202e-02, -2.0554e-02, -3.1390e-02],\n",
      "         [-2.3865e-02,  5.2830e-03, -1.1337e-02]],\n",
      "\n",
      "        [[ 1.1647e-02,  2.1573e-02,  1.8246e-02],\n",
      "         [ 5.8754e-03, -2.4089e-02, -2.8087e-02],\n",
      "         [ 2.7126e-03,  2.0781e-02, -2.7090e-02],\n",
      "         ...,\n",
      "         [ 2.8330e-02,  1.1370e-02, -1.0561e-02],\n",
      "         [-5.5503e-03, -1.0797e-02, -2.5150e-02],\n",
      "         [ 1.3430e-02, -2.4212e-02,  1.1469e-02]]])\n",
      "Parameter containing:\n",
      "tensor(1.00000e-02 *\n",
      "       [-1.9962, -1.4534,  2.5824, -3.1976, -0.5679, -2.9140,  2.3016,\n",
      "        -1.3004,  2.1587, -1.8634, -2.5396,  0.3777,  1.5212, -1.1608,\n",
      "        -2.6949,  2.0360, -2.1433,  3.0566,  1.9008,  0.1309,  1.4099,\n",
      "        -2.4150,  1.9154, -1.2065,  0.0472, -1.9654, -1.2144, -0.0350,\n",
      "         0.6684, -0.8536, -2.4182,  0.7406,  1.7027, -1.5330, -2.5037,\n",
      "         1.5499,  2.0870,  2.9624, -2.4030,  0.3331, -0.9623,  2.7431,\n",
      "         2.9573,  1.7606, -2.0809,  1.7616,  1.1283,  2.6459, -2.4414,\n",
      "        -2.3084, -1.8441,  2.2150,  0.5715, -0.9180, -2.4440,  3.3180,\n",
      "        -2.8096, -3.0145, -1.0342, -1.7887,  2.7255,  1.4911,  2.0919,\n",
      "         0.6709, -0.4536,  2.0814,  1.7001, -0.3135,  1.1274, -1.6868,\n",
      "        -3.0406,  2.6422, -2.1121, -2.0439,  1.2436,  1.3634,  0.2480,\n",
      "         2.5262, -3.2560, -0.4773,  0.0254, -1.9497, -0.9470, -1.5651,\n",
      "        -2.1514, -0.7523,  2.0029,  0.7198, -1.6589, -1.7204,  2.5630,\n",
      "        -1.6844, -0.7477,  0.8460, -2.3567, -0.4248, -3.1666,  0.6679,\n",
      "        -1.9105,  0.4950])\n",
      "Parameter containing:\n",
      "tensor([[[ 2.2456e-02,  1.2632e-03,  1.6187e-02, -1.4555e-02],\n",
      "         [-4.4835e-03,  1.6247e-02,  2.4174e-02, -7.2776e-03],\n",
      "         [-2.4748e-02, -1.3164e-02,  2.8121e-02,  1.8792e-02],\n",
      "         ...,\n",
      "         [ 7.9540e-04, -2.3252e-02, -1.4082e-02, -1.9350e-02],\n",
      "         [ 6.6878e-03, -1.1176e-02, -1.2257e-02,  8.0546e-03],\n",
      "         [ 1.0114e-02,  1.9737e-02,  5.6728e-03,  8.5908e-03]],\n",
      "\n",
      "        [[ 1.2254e-02,  1.9650e-02, -1.0289e-02, -2.0775e-02],\n",
      "         [ 2.5472e-03,  2.3561e-02,  1.2102e-02, -5.0876e-03],\n",
      "         [-2.1000e-02,  2.4593e-02, -2.0010e-02, -1.2510e-03],\n",
      "         ...,\n",
      "         [ 2.3134e-02,  2.4172e-02,  2.7804e-02,  1.2183e-02],\n",
      "         [-2.1932e-02,  2.8401e-02, -7.4347e-03,  1.7576e-02],\n",
      "         [-1.5553e-03, -2.2862e-02,  2.6266e-02,  2.5505e-02]],\n",
      "\n",
      "        [[-1.3207e-02,  1.7799e-02,  2.9520e-03,  2.4275e-02],\n",
      "         [-1.8811e-02,  1.4505e-02, -1.6007e-02, -3.0660e-03],\n",
      "         [ 1.2296e-02, -1.9278e-02,  1.0896e-03,  9.6673e-03],\n",
      "         ...,\n",
      "         [-3.6892e-03, -2.8286e-02,  5.7312e-03, -1.4013e-02],\n",
      "         [ 1.7752e-02,  2.4634e-03,  2.4341e-02,  1.0686e-02],\n",
      "         [ 1.4877e-02, -6.3218e-03,  1.0240e-02,  2.5799e-02]],\n",
      "\n",
      "        ...,\n",
      "\n",
      "        [[ 1.8900e-02,  5.5982e-03, -1.4688e-02, -4.6697e-06],\n",
      "         [-5.3474e-03, -1.4037e-02,  2.4881e-02, -3.2532e-03],\n",
      "         [ 1.9795e-02,  1.4490e-02, -9.8402e-03, -1.2987e-02],\n",
      "         ...,\n",
      "         [-5.0832e-03, -1.6557e-02, -2.5532e-02,  3.4961e-03],\n",
      "         [-5.2845e-03, -1.6428e-03,  2.5183e-02, -9.1882e-05],\n",
      "         [-2.4229e-02, -2.4238e-02,  1.6731e-02, -2.0334e-02]],\n",
      "\n",
      "        [[-1.5306e-03,  1.4016e-03,  1.7997e-02,  9.4542e-03],\n",
      "         [ 6.0863e-04,  1.9848e-02, -1.6749e-02,  2.7875e-02],\n",
      "         [ 2.6912e-02, -2.3255e-02,  3.0239e-03,  9.8068e-03],\n",
      "         ...,\n",
      "         [-1.4695e-03,  2.6698e-02,  1.2557e-02,  2.0481e-02],\n",
      "         [ 4.8244e-03, -6.6906e-03,  3.8892e-03, -2.1099e-02],\n",
      "         [ 1.8836e-02,  9.9863e-03,  2.4280e-02, -8.0071e-04]],\n",
      "\n",
      "        [[ 3.6564e-03, -2.4282e-02,  1.2703e-02,  1.0100e-02],\n",
      "         [-1.8105e-02, -1.9148e-02,  1.4237e-02,  3.9448e-03],\n",
      "         [ 2.1636e-02,  4.5456e-03, -1.5359e-02,  1.1072e-03],\n",
      "         ...,\n",
      "         [-8.6071e-03,  2.0561e-02, -6.9539e-03, -1.8245e-02],\n",
      "         [ 8.2068e-03,  2.5150e-02,  2.2647e-03,  5.3570e-03],\n",
      "         [ 2.1880e-02, -2.6064e-02,  8.7844e-04, -1.8648e-02]]])\n",
      "Parameter containing:\n",
      "tensor(1.00000e-02 *\n",
      "       [-1.1808,  2.4968, -0.8018,  0.1902, -2.5558,  1.4546, -1.2968,\n",
      "        -2.5241,  2.2671, -0.0863, -1.1322,  1.6506, -1.9405, -1.1293,\n",
      "        -0.3871,  0.7235, -0.3703, -0.9617,  1.4409, -1.4867,  0.6442,\n",
      "        -2.3250,  2.2471,  0.4596,  1.0320,  1.2779, -0.2886,  1.7479,\n",
      "        -1.9547, -2.1882, -2.6785, -0.4701,  2.7725,  2.5084,  1.7091,\n",
      "         0.0267, -0.9958, -1.1395, -0.1790, -1.7603,  1.5632,  1.2915,\n",
      "         2.7570,  0.1734,  1.3993, -1.0824,  2.7864,  0.6185, -2.6819,\n",
      "         0.9198,  1.8734,  1.3841, -1.2398, -2.6600, -2.4091,  1.9362,\n",
      "        -2.7249,  2.5838, -2.5890, -2.3060,  2.6272,  1.2552,  1.7236,\n",
      "        -0.2591, -2.4554,  1.9435,  0.1816,  1.7217,  0.7395,  1.5450,\n",
      "        -0.6038,  0.3206,  0.0985, -1.4951, -1.4420,  1.2031,  1.1353,\n",
      "        -1.5393,  2.0279, -2.5199,  1.5102,  1.3979,  0.0478,  0.1454,\n",
      "         1.9199,  1.1131, -2.0448,  1.8225, -1.2278, -0.4322, -2.3375,\n",
      "        -1.9796,  0.2536, -2.4833, -1.3870, -0.6934,  2.4144,  1.1911,\n",
      "        -1.0287,  0.5225])\n",
      "Parameter containing:\n",
      "tensor([[-1.9552e-02,  3.4244e-02, -2.3637e-02,  ..., -1.8684e-02,\n",
      "         -2.2111e-02,  1.6934e-02],\n",
      "        [-3.6191e-02,  2.4284e-03, -3.4652e-03,  ...,  1.1654e-02,\n",
      "          2.0091e-02, -1.6976e-02],\n",
      "        [-2.4031e-02, -1.9948e-02,  1.0064e-02,  ...,  2.0584e-02,\n",
      "         -2.7630e-02, -4.6365e-05],\n",
      "        ...,\n",
      "        [-2.9886e-02,  3.6229e-02, -3.3621e-02,  ..., -7.2480e-03,\n",
      "         -1.6961e-02, -1.4050e-03],\n",
      "        [-4.0409e-03,  1.2015e-02, -2.4761e-03,  ..., -3.3908e-02,\n",
      "          1.3237e-02,  2.8141e-03],\n",
      "        [-3.6361e-02,  2.6731e-02, -3.3555e-02,  ...,  3.8095e-02,\n",
      "          2.8056e-02,  3.6038e-02]])\n",
      "Parameter containing:\n",
      "tensor(1.00000e-02 *\n",
      "       [-3.1324, -2.5339,  1.7923,  2.5108,  1.7970,  2.4850, -3.1213,\n",
      "        -2.1293,  2.2292, -0.3657, -0.3760,  2.3011,  0.2363,  3.1849,\n",
      "        -2.1873,  0.8155, -1.8459,  0.8386,  2.1608,  2.5673,  0.9464,\n",
      "        -3.1426,  1.1263, -2.6529,  1.0780, -2.2549, -1.7861, -2.0673,\n",
      "        -0.7831, -0.2493, -1.3540,  0.6261, -2.1577, -1.6856, -2.7319,\n",
      "         3.5925, -1.1239,  0.7603,  2.1358, -3.4149, -1.3641,  4.0279,\n",
      "         1.0387, -3.7748, -0.7914, -2.4047, -2.4599, -1.6437, -2.6509,\n",
      "         1.6322,  1.0473,  2.4810,  1.5145, -1.4857, -2.1900, -1.9075,\n",
      "        -0.4637,  0.6532, -3.6835, -0.3426, -2.0914,  3.4929,  0.7541,\n",
      "        -2.1553,  2.0665, -3.7580,  0.9564,  0.9157, -3.5739,  1.3909,\n",
      "         1.3809, -2.9070,  3.2503,  1.9696,  2.2522, -2.3845,  3.9172,\n",
      "         1.2997, -2.4741,  0.1675,  0.0325,  1.2744,  2.7228,  2.1055,\n",
      "         3.7085,  0.0060,  4.0233, -1.2058,  2.8078, -4.0560,  1.8624,\n",
      "         0.3966, -0.9992,  2.8766,  1.8592,  3.8539, -2.3469, -3.9524,\n",
      "         2.9399,  0.6293, -3.7784,  1.7291, -1.6616, -1.0090, -1.7250,\n",
      "        -2.1693,  3.4941,  3.1682, -0.1869, -3.3605,  2.2379,  2.2581,\n",
      "         2.7906, -0.2218, -0.0657,  3.6444,  3.1855,  0.7688,  2.4696,\n",
      "         0.5839, -1.6477,  2.5826, -2.2830,  3.0623, -3.5020,  1.3528,\n",
      "         3.5461,  2.7121, -1.4792,  0.8258,  3.3664, -1.4298, -1.5111,\n",
      "         1.8217, -0.5687,  0.4824, -0.8471, -2.1234, -3.7220,  0.4085,\n",
      "         1.2429, -2.6784,  0.3613, -0.0143,  0.6536,  3.1789,  3.6113,\n",
      "         1.8017, -3.8938, -3.4381,  3.8307,  3.6704,  0.4742, -0.2415,\n",
      "        -1.9273, -0.0076,  1.0480, -3.6674,  0.8405,  0.3104,  1.1985,\n",
      "         2.2408,  3.4483, -0.9163, -0.4027,  3.8880, -1.2926,  2.9535,\n",
      "        -3.9158, -2.9212, -1.8114,  1.4822, -3.4347,  1.3251,  0.9039,\n",
      "         0.2905,  3.4628, -2.9709,  2.2664, -2.8316, -1.3396, -2.6308,\n",
      "         1.1539,  1.2642, -2.9054, -3.1822, -0.1358, -3.4482, -2.9183,\n",
      "        -2.6762,  4.0494, -3.9554, -2.6293, -0.8634, -0.6557,  0.5673,\n",
      "         3.6910,  2.9370,  2.9263,  0.9610, -2.7641, -1.5583, -2.3316,\n",
      "         0.8057, -0.5180,  3.6948, -0.7930, -1.9822, -0.5904, -3.6308,\n",
      "         3.7363,  2.7943, -1.3387,  0.0602,  2.5297,  0.8965, -0.1087,\n",
      "        -2.9296, -1.1741, -0.4923,  3.4103,  1.8270, -0.7699, -1.3598,\n",
      "         1.7565, -0.5486, -0.0435,  3.8818,  3.0915,  2.0366,  2.9876,\n",
      "        -3.1214, -0.4297, -0.2823, -2.9093, -1.7830,  0.2852, -3.0855,\n",
      "        -2.0219,  3.9900,  2.0058, -0.9116,  3.4852,  3.7783, -3.5108,\n",
      "         2.0722,  1.5498,  0.0841, -1.0749,  1.0238, -2.3811, -4.0339,\n",
      "        -1.8142, -2.8357,  3.5638,  1.4620, -3.0899, -1.3959, -1.2708,\n",
      "         1.5403,  1.6439,  1.1001, -3.8764,  2.3499, -2.4218, -3.0638,\n",
      "        -2.6463, -0.5100, -1.0842,  1.7998, -0.9645, -2.1831, -3.6494,\n",
      "         0.2402, -2.4619,  1.7442, -2.5548,  1.1629,  0.9013, -4.0749,\n",
      "         1.3366, -0.6622,  3.9268,  3.6734,  0.3730,  0.3858,  0.0667,\n",
      "         1.1946,  2.6995,  3.9545,  0.2471, -2.1043,  3.3000,  0.0829,\n",
      "        -3.8784, -0.5253, -1.5415, -3.5975, -3.2549, -0.3992])\n",
      "Parameter containing:\n",
      "tensor(1.00000e-02 *\n",
      "       [[ 3.3443,  1.8621, -3.8674,  ...,  0.0269, -2.4254, -3.8569],\n",
      "        [-2.7428,  5.5921,  2.9062,  ...,  3.3585, -1.1188, -2.9818],\n",
      "        [-1.3226, -4.9743, -5.0597,  ...,  5.2652, -1.6368,  5.5619],\n",
      "        ...,\n",
      "        [-4.8238,  1.6248, -2.1587,  ..., -2.2264, -3.3765, -5.3685],\n",
      "        [-4.5562, -5.7041,  1.8174,  ...,  2.7376, -4.9521, -5.4830],\n",
      "        [ 0.8424,  2.7381,  3.7241,  ..., -4.2326,  5.7706, -3.7778]])\n",
      "Parameter containing:\n",
      "tensor(1.00000e-02 *\n",
      "       [ 2.2400, -2.4271,  3.4726,  3.0608, -5.4659, -2.7297, -0.0871,\n",
      "         4.0200,  5.0887, -2.9181,  1.5360,  2.6298,  3.6026, -4.4186,\n",
      "        -5.1752,  1.4970,  5.4287, -0.4274,  0.2077,  4.5514,  4.6450,\n",
      "        -1.9464,  4.8621,  0.3245, -4.1507, -4.9035,  2.4325, -2.7572,\n",
      "        -1.9449, -5.1359, -0.6507,  4.8789, -4.2600,  2.3361, -3.4296,\n",
      "        -1.6945,  4.7638,  0.3246, -2.3080,  4.0473,  5.2520,  0.4230,\n",
      "         1.4652,  4.1921, -4.2527, -5.0007, -4.1540, -2.5473,  3.6576,\n",
      "        -2.1442, -4.6910, -3.2149,  1.6663,  5.1787, -4.2655, -2.7736,\n",
      "        -5.6092,  5.2933,  0.6896, -2.8041, -3.9382, -0.6975, -0.4072,\n",
      "         0.9889,  4.7819, -3.9625, -4.4547,  4.0095, -3.5437,  3.7614,\n",
      "        -3.9252, -1.6140, -2.1861, -5.1596, -1.3364, -1.9279,  0.5652,\n",
      "         1.8045, -0.1849, -4.1451,  1.2621,  0.8112, -0.0437,  0.3614,\n",
      "         4.7863,  5.5420, -0.1010, -5.2413, -1.9112,  0.4890, -1.9358,\n",
      "         4.2305, -2.8357, -4.5710,  2.5047, -1.3343,  0.2916, -2.3761,\n",
      "        -3.4064,  1.9100,  1.4871, -4.6637,  1.6308,  5.7703,  5.5435,\n",
      "         5.7595,  1.7707, -4.0875,  2.7124, -1.1252,  5.0557,  0.1812,\n",
      "        -2.6851, -0.0509,  5.5743, -5.2027, -2.3068, -2.0265,  2.7010,\n",
      "         4.7064,  2.8945,  3.7842,  0.9366,  5.0033,  5.1563, -1.0448,\n",
      "         1.0190, -5.5257,  1.8499, -0.3770,  4.5049,  2.8755, -4.7815,\n",
      "         5.5001, -0.1668, -1.3892, -4.5075,  3.2491,  3.1199,  5.7056,\n",
      "        -0.6710,  0.2615,  0.0542, -1.8714,  0.7130,  0.7641, -5.7259,\n",
      "         4.1708, -5.7685, -0.4336])\n",
      "Parameter containing:\n",
      "tensor(1.00000e-02 *\n",
      "       [[-2.7560, -2.5363, -2.1324,  5.4326,  7.7768,  1.7263, -0.8571,\n",
      "          1.8554, -4.4114,  2.0234,  0.3515, -4.6975, -2.7837,  2.6449,\n",
      "          0.6367, -3.3136, -6.9410,  1.7383, -4.1080,  1.3579,  7.7539,\n",
      "          6.6156,  0.8477, -1.5241,  5.6295, -1.9810, -7.2845, -4.6221,\n",
      "         -2.3572,  3.3856, -0.2328,  6.6300, -0.5175, -3.7635,  3.3664,\n",
      "         -2.9645, -1.5404,  4.7624, -7.4718,  2.2066,  3.7413, -7.5129,\n",
      "         -6.2407,  6.9017, -5.2883,  4.0462, -2.3762, -5.2855, -1.8687,\n",
      "         -7.7533,  0.9553,  1.8501, -0.1025, -3.2038, -1.0200, -6.4090,\n",
      "          3.5221,  0.9841, -7.8128,  1.5569, -6.9291, -6.5555, -2.6919,\n",
      "         -7.7000,  6.7884,  2.5750, -3.2539,  2.8186, -7.6113,  2.0213,\n",
      "         -3.8494, -5.5831, -5.1307,  2.0462, -1.3470, -6.5160,  7.0991,\n",
      "         -5.2206,  2.1769, -1.0483,  0.7636, -6.4962, -0.2315, -7.1914,\n",
      "          0.9016,  5.8126, -6.2469, -6.3287,  7.6531,  1.9103,  5.2229,\n",
      "         -1.9994, -0.6559,  2.6781,  4.0903, -6.3248, -4.9531, -1.6324,\n",
      "         -6.5072,  5.0473, -0.2047, -3.5083,  3.0658,  0.6022, -3.0937,\n",
      "          4.4259,  5.6461,  3.2847, -6.6980,  6.8802, -0.0365,  1.2098,\n",
      "         -5.7051,  5.3570, -1.4712,  2.2032,  6.4400,  2.3790,  2.0725,\n",
      "         -0.6612,  6.3659,  4.2139, -4.4318, -7.0942,  7.2377, -3.7725,\n",
      "         -7.7990,  5.7449,  4.3321, -1.0137,  6.8994,  1.1990, -7.1548,\n",
      "         -4.1043, -4.4084, -6.2698,  2.7844, -4.7265, -1.1175,  7.0152,\n",
      "          8.0175,  1.3002, -7.3345,  6.2473,  3.1864,  0.0331,  4.1993,\n",
      "          4.8015, -2.3718, -1.6872]])\n",
      "Parameter containing:\n",
      "tensor(1.00000e-02 *\n",
      "       [-4.0000])\n"
     ]
    }
   ],
   "source": [
    "for i in ifilter(lambda p: p.requires_grad, siamese_cnn.parameters()):\n",
    "    print(i)"
   ]
  },
  {
   "cell_type": "code",
   "execution_count": 124,
   "metadata": {},
   "outputs": [
    {
     "name": "stdout",
     "output_type": "stream",
     "text": [
      "Parameter containing:\n",
      "tensor([[ 1.0255e+00,  1.8078e+00,  2.2743e+00,  ...,  1.3056e+00,\n",
      "          7.0823e-02, -5.5302e-01],\n",
      "        [ 1.3441e+00, -9.0772e-01, -5.9796e-01,  ..., -8.2462e-01,\n",
      "         -9.5950e-01,  7.7132e-01],\n",
      "        [-2.0473e-01, -3.8335e-01,  8.0004e-01,  ...,  8.8740e-01,\n",
      "         -2.1423e+00,  1.2046e+00],\n",
      "        ...,\n",
      "        [-8.0980e-01, -1.0161e+00, -2.9748e+00,  ...,  1.5406e-01,\n",
      "          4.6483e-01, -2.0363e-01],\n",
      "        [-1.9270e+00, -5.6139e-01,  1.9338e+00,  ...,  7.2608e-01,\n",
      "         -6.2481e-01,  3.4994e-01],\n",
      "        [-1.4013e+00, -6.3311e-01, -1.0701e+00,  ..., -1.3603e+00,\n",
      "          9.5666e-01,  5.6746e-01]])\n"
     ]
    }
   ],
   "source": [
    "for p in siamese_cnn.similarity.parameters():\n",
    "    print(p)"
   ]
  },
  {
   "cell_type": "code",
   "execution_count": 123,
   "metadata": {},
   "outputs": [
    {
     "data": {
      "text/plain": [
       "1"
      ]
     },
     "execution_count": 123,
     "metadata": {},
     "output_type": "execute_result"
    }
   ],
   "source": [
    "len(list(siamese_cnn.similarity.parameters()))"
   ]
  },
  {
   "cell_type": "code",
   "execution_count": 116,
   "metadata": {},
   "outputs": [
    {
     "data": {
      "text/plain": [
       "'torch.FloatTensor'"
      ]
     },
     "execution_count": 116,
     "metadata": {},
     "output_type": "execute_result"
    }
   ],
   "source": [
    "a.data.type()"
   ]
  },
  {
   "cell_type": "code",
   "execution_count": 126,
   "metadata": {
    "collapsed": true
   },
   "outputs": [],
   "source": [
    "a = torch.ones(2,2)+1"
   ]
  },
  {
   "cell_type": "code",
   "execution_count": 127,
   "metadata": {},
   "outputs": [
    {
     "data": {
      "text/plain": [
       "tensor([[ 2.,  2.],\n",
       "        [ 2.,  2.]])"
      ]
     },
     "execution_count": 127,
     "metadata": {},
     "output_type": "execute_result"
    }
   ],
   "source": [
    "a"
   ]
  },
  {
   "cell_type": "code",
   "execution_count": 128,
   "metadata": {},
   "outputs": [
    {
     "data": {
      "text/plain": [
       "tensor(16.)"
      ]
     },
     "execution_count": 128,
     "metadata": {},
     "output_type": "execute_result"
    }
   ],
   "source": [
    "torch.sum(a*a)"
   ]
  },
  {
   "cell_type": "code",
   "execution_count": 129,
   "metadata": {},
   "outputs": [
    {
     "data": {
      "text/plain": [
       "tensor([[ 4.,  4.],\n",
       "        [ 4.,  4.]])"
      ]
     },
     "execution_count": 129,
     "metadata": {},
     "output_type": "execute_result"
    }
   ],
   "source": [
    "a*a"
   ]
  },
  {
   "cell_type": "code",
   "execution_count": 131,
   "metadata": {},
   "outputs": [
    {
     "data": {
      "text/plain": [
       "tensor([[ 4.,  4.],\n",
       "        [ 4.,  4.]])"
      ]
     },
     "execution_count": 131,
     "metadata": {},
     "output_type": "execute_result"
    }
   ],
   "source": [
    "a**2"
   ]
  },
  {
   "cell_type": "code",
   "execution_count": 132,
   "metadata": {},
   "outputs": [
    {
     "data": {
      "text/plain": [
       "tensor(8.)"
      ]
     },
     "execution_count": 132,
     "metadata": {},
     "output_type": "execute_result"
    }
   ],
   "source": [
    "torch.sum(a)"
   ]
  },
  {
   "cell_type": "code",
   "execution_count": 14,
   "metadata": {},
   "outputs": [],
   "source": [
    "lstm = nn.LSTM(input_size=10,hidden_size=5,num_layers=1,batch_first=True,bidirectional=False)\n",
    "h0 = torch.randn(4,20,5)\n",
    "c0 = torch.randn(4,20,5)\n",
    "inputs = torch.randn(20,7,10)\n",
    "out,hid = lstm(inputs)"
   ]
  },
  {
   "cell_type": "code",
   "execution_count": 15,
   "metadata": {},
   "outputs": [
    {
     "data": {
      "text/plain": [
       "torch.Size([20, 7, 5])"
      ]
     },
     "execution_count": 15,
     "metadata": {},
     "output_type": "execute_result"
    }
   ],
   "source": [
    "out.size()"
   ]
  },
  {
   "cell_type": "code",
   "execution_count": 16,
   "metadata": {
    "collapsed": true
   },
   "outputs": [],
   "source": [
    "h = hid[0]\n",
    "c = hid[1]"
   ]
  },
  {
   "cell_type": "code",
   "execution_count": 17,
   "metadata": {},
   "outputs": [
    {
     "data": {
      "text/plain": [
       "torch.Size([1, 20, 5])"
      ]
     },
     "execution_count": 17,
     "metadata": {},
     "output_type": "execute_result"
    }
   ],
   "source": [
    "h.size()"
   ]
  },
  {
   "cell_type": "code",
   "execution_count": 18,
   "metadata": {},
   "outputs": [
    {
     "data": {
      "text/plain": [
       "torch.Size([1, 20, 5])"
      ]
     },
     "execution_count": 18,
     "metadata": {},
     "output_type": "execute_result"
    }
   ],
   "source": [
    "c.size()"
   ]
  },
  {
   "cell_type": "code",
   "execution_count": 23,
   "metadata": {},
   "outputs": [
    {
     "name": "stdout",
     "output_type": "stream",
     "text": [
      "tensor([[ 0.0495,  0.1033, -0.2530,  0.0095, -0.2906],\n",
      "        [ 0.0331,  0.3184, -0.2799, -0.0406,  0.1520],\n",
      "        [ 0.0220,  0.1209, -0.0747, -0.1951, -0.1561],\n",
      "        [-0.0427, -0.3087, -0.2344, -0.0660, -0.0321],\n",
      "        [-0.0831, -0.2304, -0.1023, -0.1059, -0.1412],\n",
      "        [-0.0585, -0.0680, -0.3159,  0.1783, -0.3830],\n",
      "        [-0.0841,  0.1122, -0.0884,  0.0777, -0.1609],\n",
      "        [-0.2794,  0.2762,  0.0440, -0.0748, -0.0186],\n",
      "        [ 0.0089, -0.1019, -0.2082, -0.0058, -0.2231],\n",
      "        [ 0.0735,  0.1928, -0.2928,  0.1294, -0.1154],\n",
      "        [ 0.1423,  0.3560,  0.1513, -0.2256,  0.0277],\n",
      "        [ 0.0252,  0.2337, -0.1865, -0.0429,  0.0159],\n",
      "        [-0.0677,  0.1123,  0.0224,  0.0028, -0.3450],\n",
      "        [ 0.0592, -0.2298, -0.1193, -0.0601, -0.4578],\n",
      "        [-0.0306,  0.2824,  0.0892,  0.0688, -0.0118],\n",
      "        [-0.0317,  0.0452, -0.0280,  0.0445, -0.0710],\n",
      "        [-0.0975,  0.2907,  0.1177, -0.0019, -0.0046],\n",
      "        [ 0.0671,  0.0952, -0.1332, -0.0510, -0.1402],\n",
      "        [-0.2305,  0.0839, -0.1641,  0.1574,  0.0180],\n",
      "        [-0.0807, -0.1365, -0.2109, -0.0880, -0.0384]])\n"
     ]
    }
   ],
   "source": [
    "print(out[:,-1,:])"
   ]
  },
  {
   "cell_type": "code",
   "execution_count": 25,
   "metadata": {},
   "outputs": [
    {
     "name": "stdout",
     "output_type": "stream",
     "text": [
      "tensor([[ 0.0495,  0.1033, -0.2530,  0.0095, -0.2906],\n",
      "        [ 0.0331,  0.3184, -0.2799, -0.0406,  0.1520],\n",
      "        [ 0.0220,  0.1209, -0.0747, -0.1951, -0.1561],\n",
      "        [-0.0427, -0.3087, -0.2344, -0.0660, -0.0321],\n",
      "        [-0.0831, -0.2304, -0.1023, -0.1059, -0.1412],\n",
      "        [-0.0585, -0.0680, -0.3159,  0.1783, -0.3830],\n",
      "        [-0.0841,  0.1122, -0.0884,  0.0777, -0.1609],\n",
      "        [-0.2794,  0.2762,  0.0440, -0.0748, -0.0186],\n",
      "        [ 0.0089, -0.1019, -0.2082, -0.0058, -0.2231],\n",
      "        [ 0.0735,  0.1928, -0.2928,  0.1294, -0.1154],\n",
      "        [ 0.1423,  0.3560,  0.1513, -0.2256,  0.0277],\n",
      "        [ 0.0252,  0.2337, -0.1865, -0.0429,  0.0159],\n",
      "        [-0.0677,  0.1123,  0.0224,  0.0028, -0.3450],\n",
      "        [ 0.0592, -0.2298, -0.1193, -0.0601, -0.4578],\n",
      "        [-0.0306,  0.2824,  0.0892,  0.0688, -0.0118],\n",
      "        [-0.0317,  0.0452, -0.0280,  0.0445, -0.0710],\n",
      "        [-0.0975,  0.2907,  0.1177, -0.0019, -0.0046],\n",
      "        [ 0.0671,  0.0952, -0.1332, -0.0510, -0.1402],\n",
      "        [-0.2305,  0.0839, -0.1641,  0.1574,  0.0180],\n",
      "        [-0.0807, -0.1365, -0.2109, -0.0880, -0.0384]])\n"
     ]
    }
   ],
   "source": [
    "print(h.squeeze(0))"
   ]
  },
  {
   "cell_type": "code",
   "execution_count": 10,
   "metadata": {},
   "outputs": [
    {
     "data": {
      "text/plain": [
       "tensor([[[-0.0461, -0.2592,  0.3338,  0.1102, -0.4053],\n",
       "         [ 0.0153, -0.2765, -0.1733,  0.6821, -0.1313],\n",
       "         [-0.0843, -0.2292,  0.0025,  0.1009, -0.2467],\n",
       "         [-0.1546,  0.0486,  0.2205,  0.0835, -0.2264],\n",
       "         [-0.0036, -0.3140,  0.4605,  0.3125, -0.1802],\n",
       "         [-0.0673,  0.3474,  0.0396,  0.1301, -0.0967],\n",
       "         [-0.0620,  0.1583,  0.0151,  0.2666, -0.3351],\n",
       "         [-0.0688, -0.1872, -0.0827,  0.0694, -0.3664],\n",
       "         [ 0.1379, -0.1694,  0.1676,  0.1021, -0.4021],\n",
       "         [ 0.1923, -0.0649, -0.1900,  0.0684, -0.1727],\n",
       "         [-0.0115, -0.2515, -0.1895,  0.4816, -0.3217],\n",
       "         [ 0.0309, -0.1008,  0.0724, -0.2572, -0.2335],\n",
       "         [ 0.0121, -0.2337, -0.0433,  0.1270, -0.4273],\n",
       "         [-0.0513, -0.0773,  0.2406, -0.3492, -0.4260],\n",
       "         [ 0.4234, -0.3755,  0.2469,  0.2975, -0.3029],\n",
       "         [-0.0251,  0.2972, -0.3163, -0.1394,  0.3350],\n",
       "         [-0.0085, -0.1044,  0.3291, -0.0873, -0.2590],\n",
       "         [-0.1312,  0.1565,  0.1767,  0.2281, -0.0742],\n",
       "         [ 0.1852, -0.1387, -0.2062,  0.2513, -0.2488],\n",
       "         [-0.0316, -0.1665,  0.3059, -0.1471, -0.4713]],\n",
       "\n",
       "        [[ 0.3057,  0.0640,  0.0209, -0.2373, -0.2480],\n",
       "         [-0.1047, -0.0524,  0.0194,  0.0943, -0.1976],\n",
       "         [ 0.3897, -0.1983,  0.1762,  0.0920, -0.0282],\n",
       "         [ 0.2555,  0.1167,  0.1804,  0.0796, -0.4582],\n",
       "         [ 0.1740, -0.1325,  0.1526,  0.2596, -0.2846],\n",
       "         [ 0.1370, -0.0268,  0.0348, -0.2205, -0.4581],\n",
       "         [ 0.1318, -0.0358,  0.1316,  0.0857,  0.0986],\n",
       "         [ 0.3332,  0.0744,  0.1500,  0.1967, -0.1004],\n",
       "         [ 0.1504, -0.0682, -0.0361, -0.1081, -0.2452],\n",
       "         [ 0.2798, -0.0112,  0.0149, -0.3254, -0.3318],\n",
       "         [-0.3423, -0.2298,  0.2252,  0.3706, -0.2170],\n",
       "         [ 0.0472, -0.1735,  0.1167,  0.2279, -0.2851],\n",
       "         [ 0.2499, -0.1263,  0.2974, -0.1501, -0.3914],\n",
       "         [ 0.3010, -0.1804, -0.0344, -0.0890, -0.0610],\n",
       "         [ 0.1585, -0.1079, -0.0102, -0.0596, -0.3195],\n",
       "         [ 0.1265, -0.0101,  0.2128,  0.1098, -0.2586],\n",
       "         [ 0.1860, -0.2171,  0.3312,  0.1829,  0.0269],\n",
       "         [ 0.1053,  0.0519, -0.0441, -0.0213, -0.5287],\n",
       "         [ 0.2904,  0.1817, -0.0853,  0.0735, -0.4299],\n",
       "         [ 0.3709, -0.0939,  0.1411,  0.3537, -0.1028]],\n",
       "\n",
       "        [[-0.0477,  0.0960,  0.0231,  0.0774,  0.0831],\n",
       "         [ 0.0396,  0.0866, -0.0861, -0.0018,  0.2249],\n",
       "         [-0.0106,  0.0653,  0.0280,  0.0106,  0.1934],\n",
       "         [ 0.0413,  0.0489, -0.0172,  0.0026,  0.2346],\n",
       "         [ 0.0375,  0.1095,  0.0146, -0.0064,  0.2173],\n",
       "         [ 0.0200,  0.0388, -0.0223,  0.0178,  0.2228],\n",
       "         [-0.0204,  0.0698, -0.0803,  0.0840,  0.1466],\n",
       "         [-0.0123,  0.0502, -0.0648,  0.0637,  0.1815],\n",
       "         [ 0.0001,  0.0752, -0.0574,  0.0671,  0.1425],\n",
       "         [ 0.0286,  0.0759, -0.0513,  0.0127,  0.1961],\n",
       "         [ 0.0029,  0.0707, -0.0740,  0.0498,  0.2428],\n",
       "         [ 0.0132,  0.0481,  0.0352, -0.0068,  0.1367],\n",
       "         [-0.0066,  0.0711, -0.0911,  0.0875,  0.2152],\n",
       "         [-0.0024,  0.0204,  0.0179,  0.0410,  0.1453],\n",
       "         [ 0.0202,  0.1227,  0.0089,  0.0020,  0.1504],\n",
       "         [ 0.0204,  0.0270, -0.0020,  0.0113,  0.2045],\n",
       "         [-0.0057,  0.0550, -0.0408,  0.0912,  0.1534],\n",
       "         [ 0.0545,  0.0477,  0.0061, -0.0078,  0.2391],\n",
       "         [ 0.0203,  0.0797, -0.0244, -0.0068,  0.1874],\n",
       "         [-0.0355,  0.0730, -0.0074,  0.0765,  0.0713]],\n",
       "\n",
       "        [[ 0.0207,  0.4023,  0.0389, -0.0904, -0.1311],\n",
       "         [ 0.0235,  0.3137,  0.0929, -0.1561, -0.1428],\n",
       "         [ 0.0408,  0.3589,  0.0910, -0.1167, -0.0947],\n",
       "         [ 0.0795,  0.3805,  0.0300,  0.0131, -0.1109],\n",
       "         [ 0.0939,  0.3223,  0.0081, -0.0366, -0.1234],\n",
       "         [-0.0241,  0.3660,  0.1351, -0.1108, -0.1428],\n",
       "         [ 0.1143,  0.3658, -0.0040, -0.1236, -0.1718],\n",
       "         [ 0.0944,  0.4053, -0.0125, -0.0008, -0.0791],\n",
       "         [ 0.0931,  0.3625,  0.0397, -0.1436, -0.1576],\n",
       "         [ 0.0004,  0.3807,  0.0961, -0.1273, -0.1384],\n",
       "         [ 0.0339,  0.2012,  0.0029, -0.1108, -0.1124],\n",
       "         [ 0.0455,  0.2876,  0.0822, -0.0955, -0.1109],\n",
       "         [ 0.0561,  0.3561,  0.0733, -0.0807, -0.1212],\n",
       "         [ 0.0275,  0.3553,  0.0662, -0.1567, -0.1711],\n",
       "         [-0.0253,  0.3345,  0.1145, -0.1222, -0.1651],\n",
       "         [ 0.0551,  0.3219,  0.0565, -0.1159, -0.0838],\n",
       "         [ 0.0774,  0.3144,  0.0315, -0.1279, -0.1004],\n",
       "         [ 0.0460,  0.3606,  0.0598, -0.0517, -0.0989],\n",
       "         [ 0.0312,  0.3897,  0.0786, -0.0838, -0.1298],\n",
       "         [ 0.0237,  0.3041,  0.0691, -0.0529, -0.0743]]])"
      ]
     },
     "execution_count": 10,
     "metadata": {},
     "output_type": "execute_result"
    }
   ],
   "source": [
    "h"
   ]
  },
  {
   "cell_type": "code",
   "execution_count": 54,
   "metadata": {},
   "outputs": [
    {
     "data": {
      "text/plain": [
       "tensor([[-0.1167, -0.0486, -0.0926,  0.0585, -0.0937,  0.0089,  0.0154,\n",
       "          0.2673, -0.1137, -0.2393],\n",
       "        [-0.1779, -0.1279, -0.0552,  0.0294, -0.1173, -0.0119,  0.0415,\n",
       "          0.2865, -0.0854, -0.2346],\n",
       "        [-0.1032, -0.1595, -0.1001,  0.0918, -0.1045, -0.0334,  0.0285,\n",
       "          0.2398, -0.0978, -0.2481],\n",
       "        [-0.1681,  0.0072, -0.0878,  0.1031, -0.0787, -0.1171,  0.0150,\n",
       "          0.2342, -0.1243, -0.2661],\n",
       "        [-0.0931, -0.1635, -0.0919,  0.1355, -0.0848, -0.0095,  0.0613,\n",
       "          0.2820, -0.1437, -0.2554],\n",
       "        [-0.0551, -0.1250, -0.0937,  0.0724, -0.1079, -0.0058,  0.0807,\n",
       "          0.2941, -0.1318, -0.2602],\n",
       "        [-0.0295, -0.0647, -0.1068,  0.0468, -0.0917, -0.1203,  0.0410,\n",
       "          0.2419, -0.1351, -0.2727],\n",
       "        [-0.0298, -0.0994, -0.0991, -0.0039, -0.1015, -0.0640,  0.0476,\n",
       "          0.2835, -0.1264, -0.2363],\n",
       "        [-0.1795, -0.1085, -0.0890,  0.1116, -0.0767,  0.0525,  0.0890,\n",
       "          0.3180, -0.1515, -0.2681],\n",
       "        [-0.1725, -0.1093, -0.1241,  0.0567, -0.1099, -0.0129,  0.0116,\n",
       "          0.2550, -0.0672, -0.2051],\n",
       "        [ 0.0323, -0.1155, -0.1336,  0.0674, -0.1016, -0.0644,  0.0285,\n",
       "          0.2882, -0.1488, -0.2715],\n",
       "        [-0.0735, -0.0878, -0.1291,  0.1233, -0.0844,  0.0183,  0.0270,\n",
       "          0.2775, -0.0745, -0.1962],\n",
       "        [-0.0128, -0.1800, -0.1662,  0.0567, -0.1182, -0.0345,  0.0579,\n",
       "          0.2580, -0.1417, -0.2584],\n",
       "        [-0.1240, -0.1395, -0.1028,  0.1016, -0.0982,  0.0249,  0.1246,\n",
       "          0.3145, -0.1758, -0.2891],\n",
       "        [-0.0724, -0.0884, -0.0918,  0.0264, -0.0895, -0.1372,  0.0582,\n",
       "          0.2692, -0.1624, -0.2926],\n",
       "        [-0.1756, -0.0410, -0.1542,  0.1145, -0.1030, -0.0847,  0.0451,\n",
       "          0.2371, -0.1482, -0.2837],\n",
       "        [-0.1611, -0.0669, -0.0820,  0.0244, -0.0998, -0.0206,  0.0527,\n",
       "          0.2644, -0.1164, -0.2534],\n",
       "        [-0.0773, -0.1420, -0.0945,  0.0063, -0.1146, -0.0359,  0.0417,\n",
       "          0.2755, -0.1493, -0.2679],\n",
       "        [ 0.1350, -0.1201, -0.1346,  0.1156, -0.0738, -0.0879,  0.0409,\n",
       "          0.2570, -0.1332, -0.2848],\n",
       "        [-0.1361, -0.0607, -0.1338,  0.0515, -0.0953, -0.0960,  0.0416,\n",
       "          0.2666, -0.1276, -0.2688]])"
      ]
     },
     "execution_count": 54,
     "metadata": {},
     "output_type": "execute_result"
    }
   ],
   "source": [
    "res = torch.cat((h[-2],h[-1]),dim=1)\n",
    "res"
   ]
  },
  {
   "cell_type": "code",
   "execution_count": 55,
   "metadata": {},
   "outputs": [
    {
     "data": {
      "text/plain": [
       "torch.Size([20, 10])"
      ]
     },
     "execution_count": 55,
     "metadata": {},
     "output_type": "execute_result"
    }
   ],
   "source": [
    "res.size()"
   ]
  },
  {
   "cell_type": "code",
   "execution_count": 39,
   "metadata": {},
   "outputs": [
    {
     "data": {
      "text/plain": [
       "0.13261955589475294"
      ]
     },
     "execution_count": 39,
     "metadata": {},
     "output_type": "execute_result"
    }
   ],
   "source": [
    "0.98**100*1"
   ]
  },
  {
   "cell_type": "code",
   "execution_count": 28,
   "metadata": {},
   "outputs": [
    {
     "data": {
      "text/plain": [
       "0.8606433826830363"
      ]
     },
     "execution_count": 28,
     "metadata": {},
     "output_type": "execute_result"
    }
   ],
   "source": [
    "0.999**150"
   ]
  },
  {
   "cell_type": "code",
   "execution_count": 40,
   "metadata": {
    "collapsed": true
   },
   "outputs": [],
   "source": [
    "a = np.arange(100)\n",
    "b = np.arange(100,1,-1)"
   ]
  },
  {
   "cell_type": "code",
   "execution_count": 56,
   "metadata": {},
   "outputs": [
    {
     "data": {
      "text/plain": [
       "0.0006689717585696802"
      ]
     },
     "execution_count": 56,
     "metadata": {},
     "output_type": "execute_result"
    }
   ],
   "source": [
    "0.001*(0.99**40)\n"
   ]
  },
  {
   "cell_type": "code",
   "execution_count": null,
   "metadata": {
    "collapsed": true
   },
   "outputs": [],
   "source": []
  }
 ],
 "metadata": {
  "kernelspec": {
   "display_name": "Python 2",
   "language": "python",
   "name": "python2"
  },
  "language_info": {
   "codemirror_mode": {
    "name": "ipython",
    "version": 2
   },
   "file_extension": ".py",
   "mimetype": "text/x-python",
   "name": "python",
   "nbconvert_exporter": "python",
   "pygments_lexer": "ipython2",
   "version": "2.7.14"
  }
 },
 "nbformat": 4,
 "nbformat_minor": 2
}
