{
 "cells": [
  {
   "cell_type": "code",
   "execution_count": 1,
   "metadata": {
    "collapsed": true
   },
   "outputs": [],
   "source": [
    "import numpy as np # linear algebra\n",
    "import pandas as pd # data processing, CSV file I/O (e.g. pd.read_csv)\n",
    "import matplotlib.pyplot as plt\n",
    "import seaborn as sns\n",
    "color = sns.color_palette()\n",
    "%matplotlib inline\n",
    "train_path = '../../input/train.csv'\n",
    "test_path = '../../input/test.csv'\n",
    "question_path = '../../input/question.csv'\n",
    "char_embed = \"../../input/char_embed.txt\"\n",
    "word_embed = \"../../input/word_embed.txt\""
   ]
  },
  {
   "cell_type": "code",
   "execution_count": 2,
   "metadata": {
    "collapsed": true
   },
   "outputs": [],
   "source": [
    "train_df = pd.read_csv(train_path)\n",
    "test_df = pd.read_csv(test_path)\n",
    "question_df = pd.read_csv(question_path)\n",
    "word_embed_df = pd.read_csv(word_embed,delim_whitespace=True,index_col=0,header=None)\n",
    "char_embed_df = pd.read_csv(char_embed,delim_whitespace=True,index_col=0,header=None)"
   ]
  },
  {
   "cell_type": "code",
   "execution_count": 3,
   "metadata": {
    "collapsed": true
   },
   "outputs": [],
   "source": [
    "question_df[\"word_len\"] = question_df[\"words\"].apply(lambda words:len(words.split(\" \")))\n",
    "question_df[\"char_len\"] = question_df[\"chars\"].apply(lambda chars:len(chars.split(\" \")))"
   ]
  },
  {
   "cell_type": "code",
   "execution_count": 4,
   "metadata": {
    "scrolled": true
   },
   "outputs": [
    {
     "data": {
      "text/html": [
       "<div>\n",
       "<style>\n",
       "    .dataframe thead tr:only-child th {\n",
       "        text-align: right;\n",
       "    }\n",
       "\n",
       "    .dataframe thead th {\n",
       "        text-align: left;\n",
       "    }\n",
       "\n",
       "    .dataframe tbody tr th {\n",
       "        vertical-align: top;\n",
       "    }\n",
       "</style>\n",
       "<table border=\"1\" class=\"dataframe\">\n",
       "  <thead>\n",
       "    <tr style=\"text-align: right;\">\n",
       "      <th></th>\n",
       "      <th>qid</th>\n",
       "      <th>words</th>\n",
       "      <th>chars</th>\n",
       "      <th>word_len</th>\n",
       "      <th>char_len</th>\n",
       "    </tr>\n",
       "  </thead>\n",
       "  <tbody>\n",
       "    <tr>\n",
       "      <th>0</th>\n",
       "      <td>Q000000</td>\n",
       "      <td>W05733 W05284 W09158 W14968 W07863</td>\n",
       "      <td>L1128 L1861 L2218 L1796 L1055 L0847 L2927</td>\n",
       "      <td>5</td>\n",
       "      <td>7</td>\n",
       "    </tr>\n",
       "    <tr>\n",
       "      <th>1</th>\n",
       "      <td>Q000001</td>\n",
       "      <td>W17378 W17534 W03249 W01490 W18802</td>\n",
       "      <td>L2214 L1980 L0156 L1554 L2218 L1861 L3019 L010...</td>\n",
       "      <td>5</td>\n",
       "      <td>9</td>\n",
       "    </tr>\n",
       "    <tr>\n",
       "      <th>2</th>\n",
       "      <td>Q000002</td>\n",
       "      <td>W17378 W08158 W20171 W11246 W14759</td>\n",
       "      <td>L2214 L2350 L2568 L1969 L2168 L0694 L3012 L256...</td>\n",
       "      <td>5</td>\n",
       "      <td>9</td>\n",
       "    </tr>\n",
       "    <tr>\n",
       "      <th>3</th>\n",
       "      <td>Q000003</td>\n",
       "      <td>W11385 W14103 W02556 W13157 W09749</td>\n",
       "      <td>L0762 L2172 L1971 L2034 L2039 L2271 L1346 L223...</td>\n",
       "      <td>5</td>\n",
       "      <td>9</td>\n",
       "    </tr>\n",
       "    <tr>\n",
       "      <th>4</th>\n",
       "      <td>Q000004</td>\n",
       "      <td>W17508 W18238 W02952 W18103</td>\n",
       "      <td>L0018 L2321 L1346 L3019 L0104 L0902 L0354 L0362</td>\n",
       "      <td>4</td>\n",
       "      <td>8</td>\n",
       "    </tr>\n",
       "    <tr>\n",
       "      <th>5</th>\n",
       "      <td>Q000005</td>\n",
       "      <td>W17378 W12908 W19355 W08410 W11922 W14496 W20487</td>\n",
       "      <td>L2214 L1331 L0016 L1132 L2237 L1900 L0578 L195...</td>\n",
       "      <td>7</td>\n",
       "      <td>14</td>\n",
       "    </tr>\n",
       "    <tr>\n",
       "      <th>6</th>\n",
       "      <td>Q000006</td>\n",
       "      <td>W04346 W17378 W06112 W05733 W18238 W05284 W118...</td>\n",
       "      <td>L2323 L1526 L2214 L0358 L1849 L1128 L1861 L301...</td>\n",
       "      <td>8</td>\n",
       "      <td>13</td>\n",
       "    </tr>\n",
       "    <tr>\n",
       "      <th>7</th>\n",
       "      <td>Q000007</td>\n",
       "      <td>W16696 W02556 W16564 W03914 W18103</td>\n",
       "      <td>L0366 L2028 L2034 L2039 L0605 L1824 L2292 L015...</td>\n",
       "      <td>5</td>\n",
       "      <td>9</td>\n",
       "    </tr>\n",
       "    <tr>\n",
       "      <th>8</th>\n",
       "      <td>Q000008</td>\n",
       "      <td>W17378 W11385 W18238 W13157 W12244 W16319 W18448</td>\n",
       "      <td>L2214 L0762 L2172 L3019 L0104 L2271 L1346 L014...</td>\n",
       "      <td>7</td>\n",
       "      <td>11</td>\n",
       "    </tr>\n",
       "    <tr>\n",
       "      <th>9</th>\n",
       "      <td>Q000009</td>\n",
       "      <td>W14113 W16319 W18399 W03472 W11399 W07863 W18103</td>\n",
       "      <td>L0947 L2323 L2582 L0143 L2600 L2272 L1872 L123...</td>\n",
       "      <td>7</td>\n",
       "      <td>10</td>\n",
       "    </tr>\n",
       "    <tr>\n",
       "      <th>10</th>\n",
       "      <td>Q000010</td>\n",
       "      <td>W17508 W06240 W19606 W18804</td>\n",
       "      <td>L0018 L2321 L1346 L2249 L1989 L1965 L1368</td>\n",
       "      <td>4</td>\n",
       "      <td>7</td>\n",
       "    </tr>\n",
       "    <tr>\n",
       "      <th>11</th>\n",
       "      <td>Q000011</td>\n",
       "      <td>W05733 W04745 W17070 W05184 W14103 W17706</td>\n",
       "      <td>L1128 L1861 L2572 L0135 L0465 L0391 L1861 L197...</td>\n",
       "      <td>6</td>\n",
       "      <td>10</td>\n",
       "    </tr>\n",
       "    <tr>\n",
       "      <th>12</th>\n",
       "      <td>Q000012</td>\n",
       "      <td>W10139 W15218 W12566 W01490</td>\n",
       "      <td>L3019 L1641 L2669 L1717 L0841 L1787 L2292 L221...</td>\n",
       "      <td>4</td>\n",
       "      <td>9</td>\n",
       "    </tr>\n",
       "    <tr>\n",
       "      <th>13</th>\n",
       "      <td>Q000013</td>\n",
       "      <td>W13107 W01696 W09745 W19355 W09762</td>\n",
       "      <td>L1959 L0397 L1420 L0201 L0971 L1132 L0578 L0423</td>\n",
       "      <td>5</td>\n",
       "      <td>8</td>\n",
       "    </tr>\n",
       "    <tr>\n",
       "      <th>14</th>\n",
       "      <td>Q000014</td>\n",
       "      <td>W17378 W02385 W17926 W19783 W04622</td>\n",
       "      <td>L2214 L1610 L1849 L2723 L1861 L1368 L0851 L056...</td>\n",
       "      <td>5</td>\n",
       "      <td>9</td>\n",
       "    </tr>\n",
       "    <tr>\n",
       "      <th>15</th>\n",
       "      <td>Q000015</td>\n",
       "      <td>W17566 W05733 W03390 W17057 W04580 W12803 W03746</td>\n",
       "      <td>L0156 L0219 L1128 L1861 L1389 L2932 L0260 L260...</td>\n",
       "      <td>7</td>\n",
       "      <td>12</td>\n",
       "    </tr>\n",
       "    <tr>\n",
       "      <th>16</th>\n",
       "      <td>Q000016</td>\n",
       "      <td>W13462 W06099 W13293</td>\n",
       "      <td>L1969 L2168 L0510 L1735 L0315</td>\n",
       "      <td>3</td>\n",
       "      <td>5</td>\n",
       "    </tr>\n",
       "    <tr>\n",
       "      <th>17</th>\n",
       "      <td>Q000017</td>\n",
       "      <td>W14113 W19355 W17926 W00863 W16521 W08238</td>\n",
       "      <td>L0947 L2323 L1132 L2723 L1861 L1187 L0104 L270...</td>\n",
       "      <td>6</td>\n",
       "      <td>10</td>\n",
       "    </tr>\n",
       "    <tr>\n",
       "      <th>18</th>\n",
       "      <td>Q000018</td>\n",
       "      <td>W16870 W06763 W04645 W11299 W18804 W00564</td>\n",
       "      <td>L2613 L0843 L0628 L0628 L0482 L0030 L2120 L136...</td>\n",
       "      <td>6</td>\n",
       "      <td>10</td>\n",
       "    </tr>\n",
       "    <tr>\n",
       "      <th>19</th>\n",
       "      <td>Q000019</td>\n",
       "      <td>W04476 W01766 W02262 W16705 W16319 W18103</td>\n",
       "      <td>L0050 L1187 L0104 L0271 L1128 L1493 L2162 L258...</td>\n",
       "      <td>6</td>\n",
       "      <td>9</td>\n",
       "    </tr>\n",
       "  </tbody>\n",
       "</table>\n",
       "</div>"
      ],
      "text/plain": [
       "        qid                                              words  \\\n",
       "0   Q000000                 W05733 W05284 W09158 W14968 W07863   \n",
       "1   Q000001                 W17378 W17534 W03249 W01490 W18802   \n",
       "2   Q000002                 W17378 W08158 W20171 W11246 W14759   \n",
       "3   Q000003                 W11385 W14103 W02556 W13157 W09749   \n",
       "4   Q000004                        W17508 W18238 W02952 W18103   \n",
       "5   Q000005   W17378 W12908 W19355 W08410 W11922 W14496 W20487   \n",
       "6   Q000006  W04346 W17378 W06112 W05733 W18238 W05284 W118...   \n",
       "7   Q000007                 W16696 W02556 W16564 W03914 W18103   \n",
       "8   Q000008   W17378 W11385 W18238 W13157 W12244 W16319 W18448   \n",
       "9   Q000009   W14113 W16319 W18399 W03472 W11399 W07863 W18103   \n",
       "10  Q000010                        W17508 W06240 W19606 W18804   \n",
       "11  Q000011          W05733 W04745 W17070 W05184 W14103 W17706   \n",
       "12  Q000012                        W10139 W15218 W12566 W01490   \n",
       "13  Q000013                 W13107 W01696 W09745 W19355 W09762   \n",
       "14  Q000014                 W17378 W02385 W17926 W19783 W04622   \n",
       "15  Q000015   W17566 W05733 W03390 W17057 W04580 W12803 W03746   \n",
       "16  Q000016                               W13462 W06099 W13293   \n",
       "17  Q000017          W14113 W19355 W17926 W00863 W16521 W08238   \n",
       "18  Q000018          W16870 W06763 W04645 W11299 W18804 W00564   \n",
       "19  Q000019          W04476 W01766 W02262 W16705 W16319 W18103   \n",
       "\n",
       "                                                chars  word_len  char_len  \n",
       "0           L1128 L1861 L2218 L1796 L1055 L0847 L2927         5         7  \n",
       "1   L2214 L1980 L0156 L1554 L2218 L1861 L3019 L010...         5         9  \n",
       "2   L2214 L2350 L2568 L1969 L2168 L0694 L3012 L256...         5         9  \n",
       "3   L0762 L2172 L1971 L2034 L2039 L2271 L1346 L223...         5         9  \n",
       "4     L0018 L2321 L1346 L3019 L0104 L0902 L0354 L0362         4         8  \n",
       "5   L2214 L1331 L0016 L1132 L2237 L1900 L0578 L195...         7        14  \n",
       "6   L2323 L1526 L2214 L0358 L1849 L1128 L1861 L301...         8        13  \n",
       "7   L0366 L2028 L2034 L2039 L0605 L1824 L2292 L015...         5         9  \n",
       "8   L2214 L0762 L2172 L3019 L0104 L2271 L1346 L014...         7        11  \n",
       "9   L0947 L2323 L2582 L0143 L2600 L2272 L1872 L123...         7        10  \n",
       "10          L0018 L2321 L1346 L2249 L1989 L1965 L1368         4         7  \n",
       "11  L1128 L1861 L2572 L0135 L0465 L0391 L1861 L197...         6        10  \n",
       "12  L3019 L1641 L2669 L1717 L0841 L1787 L2292 L221...         4         9  \n",
       "13    L1959 L0397 L1420 L0201 L0971 L1132 L0578 L0423         5         8  \n",
       "14  L2214 L1610 L1849 L2723 L1861 L1368 L0851 L056...         5         9  \n",
       "15  L0156 L0219 L1128 L1861 L1389 L2932 L0260 L260...         7        12  \n",
       "16                      L1969 L2168 L0510 L1735 L0315         3         5  \n",
       "17  L0947 L2323 L1132 L2723 L1861 L1187 L0104 L270...         6        10  \n",
       "18  L2613 L0843 L0628 L0628 L0482 L0030 L2120 L136...         6        10  \n",
       "19  L0050 L1187 L0104 L0271 L1128 L1493 L2162 L258...         6         9  "
      ]
     },
     "execution_count": 4,
     "metadata": {},
     "output_type": "execute_result"
    }
   ],
   "source": [
    "question_df.head(20)"
   ]
  },
  {
   "cell_type": "code",
   "execution_count": 5,
   "metadata": {},
   "outputs": [
    {
     "name": "stdout",
     "output_type": "stream",
     "text": [
      "We have in total 728428 questions!\n"
     ]
    }
   ],
   "source": [
    "print \"We have in total %s questions!\"%question_df.shape[0]"
   ]
  },
  {
   "cell_type": "markdown",
   "metadata": {},
   "source": [
    "#### Let us look at the distribution of word_len"
   ]
  },
  {
   "cell_type": "code",
   "execution_count": 6,
   "metadata": {},
   "outputs": [
    {
     "data": {
      "text/plain": [
       "count    728428.000000\n",
       "mean          6.199064\n",
       "std           2.567069\n",
       "min           1.000000\n",
       "25%           4.000000\n",
       "50%           6.000000\n",
       "75%           7.000000\n",
       "max          39.000000\n",
       "Name: word_len, dtype: float64"
      ]
     },
     "execution_count": 6,
     "metadata": {},
     "output_type": "execute_result"
    }
   ],
   "source": [
    "question_df[\"word_len\"].describe()"
   ]
  },
  {
   "cell_type": "code",
   "execution_count": 7,
   "metadata": {
    "scrolled": true
   },
   "outputs": [
    {
     "data": {
      "image/png": "[encoded data removed]",
      "text/plain": [
       "<matplotlib.figure.Figure at 0x7f043d2f2ed0>"
      ]
     },
     "metadata": {},
     "output_type": "display_data"
    }
   ],
   "source": [
    "plt.figure()\n",
    "sns.distplot(question_df[\"word_len\"])\n",
    "plt.xlabel('Word Length', fontsize=12)\n",
    "plt.title(\"Word Length Histogram\", fontsize=14)\n",
    "plt.show()"
   ]
  },
  {
   "cell_type": "markdown",
   "metadata": {},
   "source": [
    "#### Let us look at the distribution of char_len"
   ]
  },
  {
   "cell_type": "code",
   "execution_count": 8,
   "metadata": {
    "scrolled": true
   },
   "outputs": [
    {
     "data": {
      "text/plain": [
       "count    728428.000000\n",
       "mean         10.292577\n",
       "std           3.918596\n",
       "min           2.000000\n",
       "25%           8.000000\n",
       "50%          10.000000\n",
       "75%          12.000000\n",
       "max          58.000000\n",
       "Name: char_len, dtype: float64"
      ]
     },
     "execution_count": 8,
     "metadata": {},
     "output_type": "execute_result"
    }
   ],
   "source": [
    "question_df[\"char_len\"].describe()"
   ]
  },
  {
   "cell_type": "code",
   "execution_count": 9,
   "metadata": {},
   "outputs": [
    {
     "data": {
      "image/png": "[encoded data removed]",
      "text/plain": [
       "<matplotlib.figure.Figure at 0x7f040e932d10>"
      ]
     },
     "metadata": {},
     "output_type": "display_data"
    }
   ],
   "source": [
    "plt.figure()\n",
    "sns.distplot(question_df[\"char_len\"])\n",
    "plt.xlabel('Char Length', fontsize=12)\n",
    "plt.title(\"Char Length Histogram\", fontsize=14)\n",
    "plt.show()"
   ]
  },
  {
   "cell_type": "markdown",
   "metadata": {},
   "source": [
    "#### how many unique words and chars in all questions"
   ]
  },
  {
   "cell_type": "code",
   "execution_count": 10,
   "metadata": {},
   "outputs": [
    {
     "name": "stdout",
     "output_type": "stream",
     "text": [
      "number of unique words in all questions is 20890\n"
     ]
    }
   ],
   "source": [
    "all_words = question_df[\"words\"].values.tolist()\n",
    "all_words = ' '.join(all_words)\n",
    "all_unique_words = set(all_words.split(\" \"))\n",
    "print \"number of unique words in all questions is %s\"%(len(all_unique_words))"
   ]
  },
  {
   "cell_type": "code",
   "execution_count": 11,
   "metadata": {},
   "outputs": [
    {
     "data": {
      "text/plain": [
       "20891"
      ]
     },
     "execution_count": 11,
     "metadata": {},
     "output_type": "execute_result"
    }
   ],
   "source": [
    "word_embed_df.shape[0]\n",
    "## total unique words: 20891"
   ]
  },
  {
   "cell_type": "code",
   "execution_count": 12,
   "metadata": {},
   "outputs": [
    {
     "name": "stdout",
     "output_type": "stream",
     "text": [
      "3790\n"
     ]
    }
   ],
   "source": [
    "all_unique_words_index = map(lambda x:int(x[1:]),all_unique_words)\n",
    "for i in range(20891):\n",
    "    if i not in all_unique_words_index:\n",
    "        print i\n",
    "## word W03790 is not in the questions"
   ]
  },
  {
   "cell_type": "code",
   "execution_count": 13,
   "metadata": {},
   "outputs": [
    {
     "name": "stdout",
     "output_type": "stream",
     "text": [
      "number of unique chars in all questions is 3048\n"
     ]
    }
   ],
   "source": [
    "all_chars = question_df[\"chars\"].values.tolist()\n",
    "all_chars = ' '.join(all_chars)\n",
    "all_unique_chars = set(all_chars.split(\" \"))\n",
    "print \"number of unique chars in all questions is %s\"%(len(all_unique_chars))"
   ]
  },
  {
   "cell_type": "code",
   "execution_count": 14,
   "metadata": {},
   "outputs": [
    {
     "data": {
      "text/plain": [
       "3048"
      ]
     },
     "execution_count": 14,
     "metadata": {},
     "output_type": "execute_result"
    }
   ],
   "source": [
    "char_embed_df.shape[0]\n",
    "## all letters(chars) occur in the questions"
   ]
  },
  {
   "cell_type": "markdown",
   "metadata": {},
   "source": [
    "#### how many unique questions in train and test set"
   ]
  },
  {
   "cell_type": "code",
   "execution_count": 15,
   "metadata": {},
   "outputs": [
    {
     "data": {
      "text/html": [
       "<div>\n",
       "<style>\n",
       "    .dataframe thead tr:only-child th {\n",
       "        text-align: right;\n",
       "    }\n",
       "\n",
       "    .dataframe thead th {\n",
       "        text-align: left;\n",
       "    }\n",
       "\n",
       "    .dataframe tbody tr th {\n",
       "        vertical-align: top;\n",
       "    }\n",
       "</style>\n",
       "<table border=\"1\" class=\"dataframe\">\n",
       "  <thead>\n",
       "    <tr style=\"text-align: right;\">\n",
       "      <th></th>\n",
       "      <th>label</th>\n",
       "      <th>q1</th>\n",
       "      <th>q2</th>\n",
       "    </tr>\n",
       "  </thead>\n",
       "  <tbody>\n",
       "    <tr>\n",
       "      <th>0</th>\n",
       "      <td>1</td>\n",
       "      <td>Q397345</td>\n",
       "      <td>Q538594</td>\n",
       "    </tr>\n",
       "    <tr>\n",
       "      <th>1</th>\n",
       "      <td>0</td>\n",
       "      <td>Q193805</td>\n",
       "      <td>Q699273</td>\n",
       "    </tr>\n",
       "    <tr>\n",
       "      <th>2</th>\n",
       "      <td>0</td>\n",
       "      <td>Q085471</td>\n",
       "      <td>Q676160</td>\n",
       "    </tr>\n",
       "    <tr>\n",
       "      <th>3</th>\n",
       "      <td>0</td>\n",
       "      <td>Q189314</td>\n",
       "      <td>Q438123</td>\n",
       "    </tr>\n",
       "    <tr>\n",
       "      <th>4</th>\n",
       "      <td>0</td>\n",
       "      <td>Q267714</td>\n",
       "      <td>Q290126</td>\n",
       "    </tr>\n",
       "  </tbody>\n",
       "</table>\n",
       "</div>"
      ],
      "text/plain": [
       "   label       q1       q2\n",
       "0      1  Q397345  Q538594\n",
       "1      0  Q193805  Q699273\n",
       "2      0  Q085471  Q676160\n",
       "3      0  Q189314  Q438123\n",
       "4      0  Q267714  Q290126"
      ]
     },
     "execution_count": 15,
     "metadata": {},
     "output_type": "execute_result"
    }
   ],
   "source": [
    "train_df.head(5)"
   ]
  },
  {
   "cell_type": "code",
   "execution_count": 16,
   "metadata": {},
   "outputs": [
    {
     "data": {
      "text/plain": [
       "254386"
      ]
     },
     "execution_count": 16,
     "metadata": {},
     "output_type": "execute_result"
    }
   ],
   "source": [
    "train_df.shape[0]\n",
    "## We have totally 254,386 train pairs, and 508772 questions in train set"
   ]
  },
  {
   "cell_type": "code",
   "execution_count": 30,
   "metadata": {},
   "outputs": [
    {
     "name": "stdout",
     "output_type": "stream",
     "text": [
      "number of questions in train set:508772\n"
     ]
    }
   ],
   "source": [
    "train_all_qids = pd.concat([train_df[\"q1\"],train_df[\"q2\"]],ignore_index=True)\n",
    "print \"number of questions in train set:%s\" % train_all_qids.shape[0]"
   ]
  },
  {
   "cell_type": "code",
   "execution_count": 31,
   "metadata": {},
   "outputs": [
    {
     "name": "stdout",
     "output_type": "stream",
     "text": [
      "number of unique questions in train set:192633, out of 728428, ratio is:26.45%\n"
     ]
    }
   ],
   "source": [
    "train_ques_fre = train_all_qids.value_counts()\n",
    "print \"number of unique questions in train set:%s, out of %s, ratio is:%.2f%%\"%(train_ques_fre.shape[0],question_df.shape[0],\n",
    "                                                                              100*train_ques_fre.shape[0]/float(question_df.shape[0]))"
   ]
  },
  {
   "cell_type": "code",
   "execution_count": 32,
   "metadata": {},
   "outputs": [
    {
     "data": {
      "text/plain": [
       "<matplotlib.axes._subplots.AxesSubplot at 0x7f03f3a69810>"
      ]
     },
     "execution_count": 32,
     "metadata": {},
     "output_type": "execute_result"
    },
    {
     "data": {
      "image/png": "[encoded data removed]",
      "text/plain": [
       "<matplotlib.figure.Figure at 0x7f03f2f15d10>"
      ]
     },
     "metadata": {},
     "output_type": "display_data"
    }
   ],
   "source": [
    "plt.figure(figsize=(20,8))\n",
    "train_ques_fre.head(100).plot(\"bar\")"
   ]
  },
  {
   "cell_type": "code",
   "execution_count": 39,
   "metadata": {},
   "outputs": [
    {
     "data": {
      "text/plain": [
       "count    192633.000000\n",
       "mean          2.641147\n",
       "std           6.092427\n",
       "min           1.000000\n",
       "25%           1.000000\n",
       "50%           1.000000\n",
       "75%           1.000000\n",
       "max         112.000000\n",
       "dtype: float64"
      ]
     },
     "execution_count": 39,
     "metadata": {},
     "output_type": "execute_result"
    }
   ],
   "source": [
    "train_ques_fre.describe()"
   ]
  },
  {
   "cell_type": "code",
   "execution_count": 29,
   "metadata": {},
   "outputs": [
    {
     "data": {
      "text/plain": [
       "172956"
      ]
     },
     "execution_count": 29,
     "metadata": {},
     "output_type": "execute_result"
    }
   ],
   "source": [
    "test_df.shape[0]\n",
    "## ## We have totally 172,956 test pairs, and 345,912 questions in test set"
   ]
  },
  {
   "cell_type": "code",
   "execution_count": 34,
   "metadata": {},
   "outputs": [
    {
     "name": "stdout",
     "output_type": "stream",
     "text": [
      "number of questions in test set:345912\n"
     ]
    }
   ],
   "source": [
    "test_all_qids = pd.concat([test_df[\"q1\"],test_df[\"q2\"]],ignore_index=True)\n",
    "print \"number of questions in test set:%s\" % test_all_qids.shape[0]"
   ]
  },
  {
   "cell_type": "code",
   "execution_count": 36,
   "metadata": {},
   "outputs": [
    {
     "name": "stdout",
     "output_type": "stream",
     "text": [
      "number of unique questions in test set:248773, out of 728428, ratio is:34.15%\n"
     ]
    }
   ],
   "source": [
    "test_ques_fre = test_all_qids.value_counts()\n",
    "print \"number of unique questions in test set:%s, out of %s, ratio is:%.2f%%\"%(test_ques_fre.shape[0],question_df.shape[0],\n",
    "                                                                              100*test_ques_fre.shape[0]/float(question_df.shape[0]))"
   ]
  },
  {
   "cell_type": "code",
   "execution_count": 37,
   "metadata": {},
   "outputs": [
    {
     "data": {
      "text/plain": [
       "<matplotlib.axes._subplots.AxesSubplot at 0x7f03f291df90>"
      ]
     },
     "execution_count": 37,
     "metadata": {},
     "output_type": "execute_result"
    },
    {
     "data": {
      "image/png": "[encoded data removed]",
      "text/plain": [
       "<matplotlib.figure.Figure at 0x7f03f38d8dd0>"
      ]
     },
     "metadata": {},
     "output_type": "display_data"
    }
   ],
   "source": [
    "plt.figure(figsize=(20,8))\n",
    "test_ques_fre.head(100).plot(\"bar\")"
   ]
  },
  {
   "cell_type": "code",
   "execution_count": 40,
   "metadata": {},
   "outputs": [
    {
     "data": {
      "text/plain": [
       "count    248773.000000\n",
       "mean          1.390472\n",
       "std           1.192269\n",
       "min           1.000000\n",
       "25%           1.000000\n",
       "50%           1.000000\n",
       "75%           1.000000\n",
       "max          34.000000\n",
       "dtype: float64"
      ]
     },
     "execution_count": 40,
     "metadata": {},
     "output_type": "execute_result"
    }
   ],
   "source": [
    "test_ques_fre.describe()\n",
    "## Some questions appear in the test set more often than others"
   ]
  },
  {
   "cell_type": "code",
   "execution_count": null,
   "metadata": {
    "collapsed": true
   },
   "outputs": [],
   "source": []
  }
 ],
 "metadata": {
  "kernelspec": {
   "display_name": "Python 2",
   "language": "python",
   "name": "python2"
  },
  "language_info": {
   "codemirror_mode": {
    "name": "ipython",
    "version": 2
   },
   "file_extension": ".py",
   "mimetype": "text/x-python",
   "name": "python",
   "nbconvert_exporter": "python",
   "pygments_lexer": "ipython2",
   "version": "2.7.14"
  }
 },
 "nbformat": 4,
 "nbformat_minor": 2
}
