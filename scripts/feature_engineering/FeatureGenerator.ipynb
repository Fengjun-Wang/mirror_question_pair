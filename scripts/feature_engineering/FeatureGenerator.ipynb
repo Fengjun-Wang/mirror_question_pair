{
 "cells": [
  {
   "cell_type": "code",
   "execution_count": 1,
   "metadata": {
    "collapsed": true
   },
   "outputs": [],
   "source": [
    "from util import *\n",
    "import pickle \n",
    "from sklearn.externals import joblib\n",
    "from scipy import sparse\n",
    "import numpy as np\n"
   ]
  },
  {
   "cell_type": "code",
   "execution_count": 2,
   "metadata": {
    "collapsed": true
   },
   "outputs": [],
   "source": [
    "question_df = DataSet.load_all_questions()"
   ]
  },
  {
   "cell_type": "code",
   "execution_count": 3,
   "metadata": {
    "collapsed": true
   },
   "outputs": [],
   "source": [
    "#generate word-space tf-idf, max 3-gram\n",
    "space=\"words\"\n",
    "n=3\n",
    "vectorizer,ques_tfidf_embedding_array = Feature.get_ques_term_tfidf_matrix(question_df,space,n)\n"
   ]
  },
  {
   "cell_type": "code",
   "execution_count": 10,
   "metadata": {
    "collapsed": true
   },
   "outputs": [],
   "source": [
    "pickle.dump(vectorizer,open(\"words3_3gram_vectorizer.pkl\",\"wb\"))"
   ]
  },
  {
   "cell_type": "code",
   "execution_count": 11,
   "metadata": {
    "collapsed": true
   },
   "outputs": [],
   "source": [
    "new_v = pickle.load(open(\"words3_3gram_vectorizer.pkl\",\"rb\"))"
   ]
  },
  {
   "cell_type": "code",
   "execution_count": 18,
   "metadata": {
    "collapsed": true
   },
   "outputs": [],
   "source": [
    "sparse.save_npz(\"words_3gram_sentence_tfidf_embedding.npz\", ques_tfidf_embedding_array)\n"
   ]
  },
  {
   "cell_type": "code",
   "execution_count": 19,
   "metadata": {
    "collapsed": true
   },
   "outputs": [],
   "source": [
    "your_matrix_back = sparse.load_npz(\"words_3gram_sentence_tfidf_embedding.npz\")"
   ]
  },
  {
   "cell_type": "code",
   "execution_count": 10,
   "metadata": {
    "collapsed": true
   },
   "outputs": [],
   "source": [
    "np.save(\"words_3gram_tfidf_SVD_sentence_embed.np\",que_tfidf_svd_embedding_array)"
   ]
  },
  {
   "cell_type": "code",
   "execution_count": 9,
   "metadata": {
    "collapsed": true
   },
   "outputs": [],
   "source": [
    "term_SVD_embedding.to_csv(\"words_3gram_tfidf_SVD_word_embed.csv\",header=False,sep=\" \")"
   ]
  },
  {
   "cell_type": "code",
   "execution_count": 2,
   "metadata": {
    "collapsed": true
   },
   "outputs": [],
   "source": [
    "def gen_and_store_intermediate_resutls():\n",
    "    all_questions = DataSet.load_all_questions()\n",
    "    spaces = [\"chars\"]\n",
    "    for space in spaces:\n",
    "        n = 3 if space==\"words\" else 5\n",
    "        print \"loading....\"\n",
    "        chars_5gram_vectorizer,ques_tfidf_embedding_array = Feature.get_ques_term_tfidf_matrix(all_questions,space,n)\n",
    "        pickle.dump(chars_5gram_vectorizer,open(\"chars_5gram_vectorizer.pkl\",\"wb\"))\n",
    "        sparse.save_npz(\"chars_5gram_sentence_tfidf_embedding.npz\", ques_tfidf_embedding_array)\n",
    "        que_tfidf_svd_embedding_array,term_SVD_embedding,svder = Feature.get_SVD_feature(chars_5gram_vectorizer,ques_tfidf_embedding_array,300)\n",
    "        ## Save SVD sentence embedding , term_embedding, and SVDer\n",
    "        np.save(\"chars_5gram_tfidf_SVD_sentence_embed\", que_tfidf_svd_embedding_array)\n",
    "        term_SVD_embedding.to_csv(\"chars_5gram_tfidf_SVD_char_embed.csv\", header=False, sep=\" \")\n",
    "        pickle.dump(svder,open(\"chars_5gram_tfidf_SVDer.pkl\",\"wb\"))\n",
    "        ## SAVE sentence composed of term_embedding\n",
    "        for i, term_embedding in enumerate([term_SVD_embedding, DataSet.load_term_embed(space)]):\n",
    "            for mode in [\"equally\", \"tf_idf_linear\", \"tf_idf_exp\"]:\n",
    "                question_emb_from_word_embed = Feature.get_question_embedding_from_term_embedding(all_questions,\n",
    "                                                                                                  term_embedding,\n",
    "                                                                                                  space,\n",
    "                                                                                                  chars_5gram_vectorizer,\n",
    "                                                                                                  ques_tfidf_embedding_array,\n",
    "                                                                                                  mode)\n",
    "                print i, mode\n",
    "\n",
    "                if i==0:\n",
    "                    name = \"chars_5gram_tfidf_SVD_char_embed_to_sentence_embed\"\n",
    "                else:\n",
    "                    name = \"word2vec_char_embed_to_sentence_embed\"\n",
    "                np.save(name+\"_mode_\"+mode,question_emb_from_word_embed)"
   ]
  },
  {
   "cell_type": "code",
   "execution_count": 7,
   "metadata": {
    "collapsed": true
   },
   "outputs": [],
   "source": [
    "a = np.array([[1], [2], [3]])\n",
    "b = np.array([[2], [3], [4]])  \n",
    "c=[]\n",
    "c.append(a.ravel())\n",
    "c.append(b.ravel())"
   ]
  },
  {
   "cell_type": "code",
   "execution_count": 8,
   "metadata": {},
   "outputs": [
    {
     "data": {
      "text/plain": [
       "[array([1, 2, 3]), array([2, 3, 4])]"
      ]
     },
     "execution_count": 8,
     "metadata": {},
     "output_type": "execute_result"
    }
   ],
   "source": [
    "c"
   ]
  },
  {
   "cell_type": "code",
   "execution_count": 9,
   "metadata": {
    "collapsed": true
   },
   "outputs": [],
   "source": [
    "d = pd.DataFrame(c)"
   ]
  },
  {
   "cell_type": "code",
   "execution_count": 10,
   "metadata": {},
   "outputs": [
    {
     "data": {
      "text/html": [
       "<div>\n",
       "<style>\n",
       "    .dataframe thead tr:only-child th {\n",
       "        text-align: right;\n",
       "    }\n",
       "\n",
       "    .dataframe thead th {\n",
       "        text-align: left;\n",
       "    }\n",
       "\n",
       "    .dataframe tbody tr th {\n",
       "        vertical-align: top;\n",
       "    }\n",
       "</style>\n",
       "<table border=\"1\" class=\"dataframe\">\n",
       "  <thead>\n",
       "    <tr style=\"text-align: right;\">\n",
       "      <th></th>\n",
       "      <th>0</th>\n",
       "      <th>1</th>\n",
       "      <th>2</th>\n",
       "    </tr>\n",
       "  </thead>\n",
       "  <tbody>\n",
       "    <tr>\n",
       "      <th>0</th>\n",
       "      <td>1</td>\n",
       "      <td>2</td>\n",
       "      <td>3</td>\n",
       "    </tr>\n",
       "    <tr>\n",
       "      <th>1</th>\n",
       "      <td>2</td>\n",
       "      <td>3</td>\n",
       "      <td>4</td>\n",
       "    </tr>\n",
       "  </tbody>\n",
       "</table>\n",
       "</div>"
      ],
      "text/plain": [
       "   0  1  2\n",
       "0  1  2  3\n",
       "1  2  3  4"
      ]
     },
     "execution_count": 10,
     "metadata": {},
     "output_type": "execute_result"
    }
   ],
   "source": [
    "d"
   ]
  },
  {
   "cell_type": "code",
   "execution_count": 15,
   "metadata": {
    "collapsed": true
   },
   "outputs": [],
   "source": [
    "t = pd.Series(range(16))\n",
    "t.index = range(45,45+16)"
   ]
  },
  {
   "cell_type": "code",
   "execution_count": 17,
   "metadata": {},
   "outputs": [
    {
     "data": {
      "text/plain": [
       "45    0\n",
       "46    1\n",
       "47    2\n",
       "dtype: int64"
      ]
     },
     "execution_count": 17,
     "metadata": {},
     "output_type": "execute_result"
    }
   ],
   "source": [
    "t[0:3]"
   ]
  },
  {
   "cell_type": "code",
   "execution_count": 1,
   "metadata": {},
   "outputs": [
    {
     "data": {
      "text/plain": [
       "True"
      ]
     },
     "execution_count": 1,
     "metadata": {},
     "output_type": "execute_result"
    }
   ],
   "source": [
    "\"ss\".endswith(\"s\")\n"
   ]
  },
  {
   "cell_type": "code",
   "execution_count": 5,
   "metadata": {},
   "outputs": [
    {
     "name": "stdout",
     "output_type": "stream",
     "text": [
      "../../inters/embeddings/fff\n"
     ]
    }
   ],
   "source": [
    "import os\n",
    "print os.path.join(\"../../inters/embeddings\",\"fff\")"
   ]
  },
  {
   "cell_type": "code",
   "execution_count": 6,
   "metadata": {},
   "outputs": [],
   "source": [
    "a = \"train\"\n",
    "b=a.replace(\"train\",\"test\")"
   ]
  },
  {
   "cell_type": "code",
   "execution_count": 7,
   "metadata": {},
   "outputs": [
    {
     "data": {
      "text/plain": [
       "'test'"
      ]
     },
     "execution_count": 7,
     "metadata": {},
     "output_type": "execute_result"
    }
   ],
   "source": [
    "b"
   ]
  },
  {
   "cell_type": "code",
   "execution_count": null,
   "metadata": {
    "collapsed": true
   },
   "outputs": [],
   "source": []
  },
  {
   "cell_type": "code",
   "execution_count": null,
   "metadata": {
    "collapsed": true
   },
   "outputs": [],
   "source": []
  }
 ],
 "metadata": {
  "kernelspec": {
   "display_name": "Python 2",
   "language": "python",
   "name": "python2"
  },
  "language_info": {
   "codemirror_mode": {
    "name": "ipython",
    "version": 2
   },
   "file_extension": ".py",
   "mimetype": "text/x-python",
   "name": "python",
   "nbconvert_exporter": "python",
   "pygments_lexer": "ipython2",
   "version": "2.7.14"
  }
 },
 "nbformat": 4,
 "nbformat_minor": 2
}
